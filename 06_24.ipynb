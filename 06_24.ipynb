{
 "cells": [
  {
   "cell_type": "code",
   "execution_count": 1,
   "id": "e6a8f721-a6a6-4f62-b6cf-1cd2990c6ba8",
   "metadata": {},
   "outputs": [
    {
     "name": "stdout",
     "output_type": "stream",
     "text": [
      "2.14.0\n"
     ]
    }
   ],
   "source": [
    "import tensorflow as tf\n",
    "print(tf.__version__)"
   ]
  },
  {
   "cell_type": "code",
   "execution_count": 2,
   "id": "b5a1d94a-7e1d-4efb-98c5-e15c7bcaa49c",
   "metadata": {},
   "outputs": [],
   "source": [
    "from tensorflow.keras import layers"
   ]
  },
  {
   "cell_type": "code",
   "execution_count": 3,
   "id": "91551fff-2e8a-438e-9574-ba3289f0812f",
   "metadata": {},
   "outputs": [],
   "source": [
    "from tensorflow.keras.models import Sequential"
   ]
  },
  {
   "cell_type": "code",
   "execution_count": 6,
   "id": "6b2e55cb-e3d2-4557-95c3-7baa621bb7c5",
   "metadata": {},
   "outputs": [],
   "source": [
    "model = Sequential()\n",
    "model.add(layers.Input(shape=(4,)))"
   ]
  },
  {
   "cell_type": "code",
   "execution_count": 7,
   "id": "30746fe4-e550-4881-bd7d-583f76a5bd3d",
   "metadata": {},
   "outputs": [],
   "source": [
    "model.add(layers.Dense(50, activation='sigmoid'))"
   ]
  },
  {
   "cell_type": "code",
   "execution_count": 8,
   "id": "565ab84c-6943-412c-b39c-d69828e6d627",
   "metadata": {},
   "outputs": [],
   "source": [
    "model.add(layers.Dense(30, activation='sigmoid'))"
   ]
  },
  {
   "cell_type": "code",
   "execution_count": 9,
   "id": "d43eb5ef-6e63-4ec1-9e85-b11b78a2156c",
   "metadata": {},
   "outputs": [],
   "source": [
    "model.add(layers.Dense(3, activation='softmax'))"
   ]
  },
  {
   "cell_type": "code",
   "execution_count": 10,
   "id": "7ef49bc4-006c-4f24-a0c0-6fa616b71c71",
   "metadata": {},
   "outputs": [
    {
     "name": "stdout",
     "output_type": "stream",
     "text": [
      "Model: \"sequential_2\"\n",
      "_________________________________________________________________\n",
      " Layer (type)                Output Shape              Param #   \n",
      "=================================================================\n",
      " dense (Dense)               (None, 50)                250       \n",
      "                                                                 \n",
      " dense_1 (Dense)             (None, 30)                1530      \n",
      "                                                                 \n",
      " dense_2 (Dense)             (None, 3)                 93        \n",
      "                                                                 \n",
      "=================================================================\n",
      "Total params: 1873 (7.32 KB)\n",
      "Trainable params: 1873 (7.32 KB)\n",
      "Non-trainable params: 0 (0.00 Byte)\n",
      "_________________________________________________________________\n"
     ]
    }
   ],
   "source": [
    "model.summary()"
   ]
  },
  {
   "cell_type": "code",
   "execution_count": 11,
   "id": "5909130a-4537-4db6-97dd-f060f91505c4",
   "metadata": {},
   "outputs": [],
   "source": [
    "model.compile(optimizer='adam', loss='sparse_categorical_crossentropy',\n",
    "              metrics=['accuracy'])"
   ]
  },
  {
   "cell_type": "code",
   "execution_count": 13,
   "id": "6c5d72c8-6b7b-442e-ad20-693fa9fca454",
   "metadata": {},
   "outputs": [],
   "source": [
    "from sklearn import datasets\n",
    "iris = datasets.load_iris()\n",
    "iris_X = iris.data\n",
    "iris_y = iris.target"
   ]
  },
  {
   "cell_type": "code",
   "execution_count": 14,
   "id": "2c9471a0-a287-4bd6-8909-00f9056cc73c",
   "metadata": {},
   "outputs": [],
   "source": [
    "from sklearn.model_selection import train_test_split\n",
    "train_X, test_X, train_y, test_y = train_test_split(iris_X, iris_y)"
   ]
  },
  {
   "cell_type": "code",
   "execution_count": 15,
   "id": "c1f6e024-b8bc-452c-bef5-6ba62ce674c6",
   "metadata": {},
   "outputs": [
    {
     "name": "stdout",
     "output_type": "stream",
     "text": [
      "Epoch 1/100\n",
      "4/4 [==============================] - 1s 7ms/step - loss: 1.3913 - accuracy: 0.3214\n",
      "Epoch 2/100\n",
      "4/4 [==============================] - 0s 0s/step - loss: 1.2898 - accuracy: 0.3214\n",
      "Epoch 3/100\n",
      "4/4 [==============================] - 0s 313us/step - loss: 1.2155 - accuracy: 0.3214\n",
      "Epoch 4/100\n",
      "4/4 [==============================] - 0s 0s/step - loss: 1.1552 - accuracy: 0.3214\n",
      "Epoch 5/100\n",
      "4/4 [==============================] - 0s 381us/step - loss: 1.1176 - accuracy: 0.3214\n",
      "Epoch 6/100\n",
      "4/4 [==============================] - 0s 5ms/step - loss: 1.0920 - accuracy: 0.3214\n",
      "Epoch 7/100\n",
      "4/4 [==============================] - 0s 0s/step - loss: 1.0772 - accuracy: 0.3661\n",
      "Epoch 8/100\n",
      "4/4 [==============================] - 0s 6ms/step - loss: 1.0671 - accuracy: 0.6696\n",
      "Epoch 9/100\n",
      "4/4 [==============================] - 0s 1ms/step - loss: 1.0573 - accuracy: 0.6607\n",
      "Epoch 10/100\n",
      "4/4 [==============================] - 0s 0s/step - loss: 1.0483 - accuracy: 0.5268\n",
      "Epoch 11/100\n",
      "4/4 [==============================] - 0s 621us/step - loss: 1.0398 - accuracy: 0.6429\n",
      "Epoch 12/100\n",
      "4/4 [==============================] - 0s 0s/step - loss: 1.0323 - accuracy: 0.6518\n",
      "Epoch 13/100\n",
      "4/4 [==============================] - 0s 747us/step - loss: 1.0232 - accuracy: 0.6786\n",
      "Epoch 14/100\n",
      "4/4 [==============================] - 0s 0s/step - loss: 1.0142 - accuracy: 0.6786\n",
      "Epoch 15/100\n",
      "4/4 [==============================] - 0s 834us/step - loss: 1.0049 - accuracy: 0.6786\n",
      "Epoch 16/100\n",
      "4/4 [==============================] - 0s 0s/step - loss: 0.9951 - accuracy: 0.6786\n",
      "Epoch 17/100\n",
      "4/4 [==============================] - 0s 0s/step - loss: 0.9851 - accuracy: 0.6875\n",
      "Epoch 18/100\n",
      "4/4 [==============================] - 0s 0s/step - loss: 0.9739 - accuracy: 0.7411\n",
      "Epoch 19/100\n",
      "4/4 [==============================] - 0s 0s/step - loss: 0.9634 - accuracy: 0.6964\n",
      "Epoch 20/100\n",
      "4/4 [==============================] - 0s 0s/step - loss: 0.9515 - accuracy: 0.8482\n",
      "Epoch 21/100\n",
      "4/4 [==============================] - 0s 98us/step - loss: 0.9389 - accuracy: 0.8482\n",
      "Epoch 22/100\n",
      "4/4 [==============================] - 0s 0s/step - loss: 0.9263 - accuracy: 0.7321\n",
      "Epoch 23/100\n",
      "4/4 [==============================] - 0s 0s/step - loss: 0.9135 - accuracy: 0.6964\n",
      "Epoch 24/100\n",
      "4/4 [==============================] - 0s 0s/step - loss: 0.8998 - accuracy: 0.6786\n",
      "Epoch 25/100\n",
      "4/4 [==============================] - 0s 0s/step - loss: 0.8855 - accuracy: 0.6786\n",
      "Epoch 26/100\n",
      "4/4 [==============================] - 0s 0s/step - loss: 0.8708 - accuracy: 0.6786\n",
      "Epoch 27/100\n",
      "4/4 [==============================] - 0s 654us/step - loss: 0.8556 - accuracy: 0.6696\n",
      "Epoch 28/100\n",
      "4/4 [==============================] - 0s 0s/step - loss: 0.8407 - accuracy: 0.6696\n",
      "Epoch 29/100\n",
      "4/4 [==============================] - 0s 689us/step - loss: 0.8252 - accuracy: 0.6696\n",
      "Epoch 30/100\n",
      "4/4 [==============================] - 0s 0s/step - loss: 0.8095 - accuracy: 0.6696\n",
      "Epoch 31/100\n",
      "4/4 [==============================] - 0s 654us/step - loss: 0.7934 - accuracy: 0.6786\n",
      "Epoch 32/100\n",
      "4/4 [==============================] - 0s 0s/step - loss: 0.7772 - accuracy: 0.7054\n",
      "Epoch 33/100\n",
      "4/4 [==============================] - 0s 639us/step - loss: 0.7618 - accuracy: 0.7411\n",
      "Epoch 34/100\n",
      "4/4 [==============================] - 0s 0s/step - loss: 0.7457 - accuracy: 0.7500\n",
      "Epoch 35/100\n",
      "4/4 [==============================] - 0s 693us/step - loss: 0.7308 - accuracy: 0.7500\n",
      "Epoch 36/100\n",
      "4/4 [==============================] - 0s 0s/step - loss: 0.7156 - accuracy: 0.7411\n",
      "Epoch 37/100\n",
      "4/4 [==============================] - 0s 921us/step - loss: 0.7002 - accuracy: 0.7589\n",
      "Epoch 38/100\n",
      "4/4 [==============================] - 0s 0s/step - loss: 0.6860 - accuracy: 0.7589\n",
      "Epoch 39/100\n",
      "4/4 [==============================] - 0s 782us/step - loss: 0.6723 - accuracy: 0.7589\n",
      "Epoch 40/100\n",
      "4/4 [==============================] - 0s 0s/step - loss: 0.6595 - accuracy: 0.7946\n",
      "Epoch 41/100\n",
      "4/4 [==============================] - 0s 880us/step - loss: 0.6455 - accuracy: 0.8571\n",
      "Epoch 42/100\n",
      "4/4 [==============================] - 0s 5ms/step - loss: 0.6327 - accuracy: 0.8393\n",
      "Epoch 43/100\n",
      "4/4 [==============================] - 0s 5ms/step - loss: 0.6213 - accuracy: 0.8661\n",
      "Epoch 44/100\n",
      "4/4 [==============================] - 0s 0s/step - loss: 0.6092 - accuracy: 0.8839\n",
      "Epoch 45/100\n",
      "4/4 [==============================] - 0s 4ms/step - loss: 0.5982 - accuracy: 0.8839\n",
      "Epoch 46/100\n",
      "4/4 [==============================] - 0s 0s/step - loss: 0.5876 - accuracy: 0.9107\n",
      "Epoch 47/100\n",
      "4/4 [==============================] - 0s 0s/step - loss: 0.5780 - accuracy: 0.9196\n",
      "Epoch 48/100\n",
      "4/4 [==============================] - 0s 0s/step - loss: 0.5687 - accuracy: 0.9018\n",
      "Epoch 49/100\n",
      "4/4 [==============================] - 0s 0s/step - loss: 0.5592 - accuracy: 0.8304\n",
      "Epoch 50/100\n",
      "4/4 [==============================] - 0s 257us/step - loss: 0.5507 - accuracy: 0.8482\n",
      "Epoch 51/100\n",
      "4/4 [==============================] - 0s 0s/step - loss: 0.5422 - accuracy: 0.8929\n",
      "Epoch 52/100\n",
      "4/4 [==============================] - 0s 0s/step - loss: 0.5342 - accuracy: 0.9196\n",
      "Epoch 53/100\n",
      "4/4 [==============================] - 0s 0s/step - loss: 0.5271 - accuracy: 0.9286\n",
      "Epoch 54/100\n",
      "4/4 [==============================] - 0s 0s/step - loss: 0.5198 - accuracy: 0.9286\n",
      "Epoch 55/100\n",
      "4/4 [==============================] - 0s 0s/step - loss: 0.5131 - accuracy: 0.9286\n",
      "Epoch 56/100\n",
      "4/4 [==============================] - 0s 189us/step - loss: 0.5065 - accuracy: 0.9464\n",
      "Epoch 57/100\n",
      "4/4 [==============================] - 0s 0s/step - loss: 0.5002 - accuracy: 0.9464\n",
      "Epoch 58/100\n",
      "4/4 [==============================] - 0s 0s/step - loss: 0.4941 - accuracy: 0.9286\n",
      "Epoch 59/100\n",
      "4/4 [==============================] - 0s 5ms/step - loss: 0.4884 - accuracy: 0.9464\n",
      "Epoch 60/100\n",
      "4/4 [==============================] - 0s 0s/step - loss: 0.4835 - accuracy: 0.9554\n",
      "Epoch 61/100\n",
      "4/4 [==============================] - 0s 0s/step - loss: 0.4778 - accuracy: 0.9464\n",
      "Epoch 62/100\n",
      "4/4 [==============================] - 0s 6ms/step - loss: 0.4728 - accuracy: 0.9286\n",
      "Epoch 63/100\n",
      "4/4 [==============================] - 0s 0s/step - loss: 0.4682 - accuracy: 0.9107\n",
      "Epoch 64/100\n",
      "4/4 [==============================] - 0s 4ms/step - loss: 0.4635 - accuracy: 0.8929\n",
      "Epoch 65/100\n",
      "4/4 [==============================] - 0s 1ms/step - loss: 0.4585 - accuracy: 0.9286\n",
      "Epoch 66/100\n",
      "4/4 [==============================] - 0s 2ms/step - loss: 0.4542 - accuracy: 0.9107\n",
      "Epoch 67/100\n",
      "4/4 [==============================] - 0s 2ms/step - loss: 0.4499 - accuracy: 0.9107\n",
      "Epoch 68/100\n",
      "4/4 [==============================] - 0s 1ms/step - loss: 0.4454 - accuracy: 0.9375\n",
      "Epoch 69/100\n",
      "4/4 [==============================] - 0s 0s/step - loss: 0.4412 - accuracy: 0.9554\n",
      "Epoch 70/100\n",
      "4/4 [==============================] - 0s 0s/step - loss: 0.4372 - accuracy: 0.9643\n",
      "Epoch 71/100\n",
      "4/4 [==============================] - 0s 0s/step - loss: 0.4332 - accuracy: 0.9643\n",
      "Epoch 72/100\n",
      "4/4 [==============================] - 0s 0s/step - loss: 0.4290 - accuracy: 0.9643\n",
      "Epoch 73/100\n",
      "4/4 [==============================] - 0s 0s/step - loss: 0.4253 - accuracy: 0.9643\n",
      "Epoch 74/100\n",
      "4/4 [==============================] - 0s 0s/step - loss: 0.4217 - accuracy: 0.9643\n",
      "Epoch 75/100\n",
      "4/4 [==============================] - 0s 909us/step - loss: 0.4181 - accuracy: 0.9643\n",
      "Epoch 76/100\n",
      "4/4 [==============================] - 0s 0s/step - loss: 0.4140 - accuracy: 0.9643\n",
      "Epoch 77/100\n",
      "4/4 [==============================] - 0s 1ms/step - loss: 0.4113 - accuracy: 0.9643\n",
      "Epoch 78/100\n",
      "4/4 [==============================] - 0s 0s/step - loss: 0.4066 - accuracy: 0.9643\n",
      "Epoch 79/100\n",
      "4/4 [==============================] - 0s 792us/step - loss: 0.4027 - accuracy: 0.9643\n",
      "Epoch 80/100\n",
      "4/4 [==============================] - 0s 0s/step - loss: 0.3995 - accuracy: 0.9732\n",
      "Epoch 81/100\n",
      "4/4 [==============================] - 0s 6ms/step - loss: 0.3963 - accuracy: 0.9732\n",
      "Epoch 82/100\n",
      "4/4 [==============================] - 0s 0s/step - loss: 0.3926 - accuracy: 0.9732\n",
      "Epoch 83/100\n",
      "4/4 [==============================] - 0s 5ms/step - loss: 0.3887 - accuracy: 0.9732\n",
      "Epoch 84/100\n",
      "4/4 [==============================] - 0s 0s/step - loss: 0.3854 - accuracy: 0.9643\n",
      "Epoch 85/100\n",
      "4/4 [==============================] - 0s 5ms/step - loss: 0.3817 - accuracy: 0.9643\n",
      "Epoch 86/100\n",
      "4/4 [==============================] - 0s 0s/step - loss: 0.3783 - accuracy: 0.9643\n",
      "Epoch 87/100\n",
      "4/4 [==============================] - 0s 4ms/step - loss: 0.3747 - accuracy: 0.9643\n",
      "Epoch 88/100\n",
      "4/4 [==============================] - 0s 516us/step - loss: 0.3710 - accuracy: 0.9643\n",
      "Epoch 89/100\n",
      "4/4 [==============================] - 0s 4ms/step - loss: 0.3683 - accuracy: 0.9643\n",
      "Epoch 90/100\n",
      "4/4 [==============================] - 0s 268us/step - loss: 0.3643 - accuracy: 0.9643\n",
      "Epoch 91/100\n",
      "4/4 [==============================] - 0s 0s/step - loss: 0.3609 - accuracy: 0.9643\n",
      "Epoch 92/100\n",
      "4/4 [==============================] - 0s 5ms/step - loss: 0.3573 - accuracy: 0.9643\n",
      "Epoch 93/100\n",
      "4/4 [==============================] - 0s 0s/step - loss: 0.3535 - accuracy: 0.9643\n",
      "Epoch 94/100\n",
      "4/4 [==============================] - 0s 5ms/step - loss: 0.3499 - accuracy: 0.9643\n",
      "Epoch 95/100\n",
      "4/4 [==============================] - 0s 0s/step - loss: 0.3465 - accuracy: 0.9643\n",
      "Epoch 96/100\n",
      "4/4 [==============================] - 0s 5ms/step - loss: 0.3432 - accuracy: 0.9643\n",
      "Epoch 97/100\n",
      "4/4 [==============================] - 0s 974us/step - loss: 0.3398 - accuracy: 0.9732\n",
      "Epoch 98/100\n",
      "4/4 [==============================] - 0s 3ms/step - loss: 0.3362 - accuracy: 0.9732\n",
      "Epoch 99/100\n",
      "4/4 [==============================] - 0s 1ms/step - loss: 0.3332 - accuracy: 0.9643\n",
      "Epoch 100/100\n",
      "4/4 [==============================] - 0s 3ms/step - loss: 0.3297 - accuracy: 0.9643\n"
     ]
    },
    {
     "data": {
      "text/plain": [
       "<keras.src.callbacks.History at 0x1a7ce3c8650>"
      ]
     },
     "execution_count": 15,
     "metadata": {},
     "output_type": "execute_result"
    }
   ],
   "source": [
    "model.fit(train_X, train_y, epochs=100)"
   ]
  },
  {
   "cell_type": "code",
   "execution_count": 16,
   "id": "e2cdc5fd-6003-4f63-a1b0-b977a152ba0f",
   "metadata": {},
   "outputs": [
    {
     "name": "stdout",
     "output_type": "stream",
     "text": [
      "2/2 [==============================] - 0s 0s/step - loss: 0.3332 - accuracy: 1.0000\n"
     ]
    },
    {
     "data": {
      "text/plain": [
       "[0.33320388197898865, 1.0]"
      ]
     },
     "execution_count": 16,
     "metadata": {},
     "output_type": "execute_result"
    }
   ],
   "source": [
    "model.evaluate(test_X, test_y)"
   ]
  },
  {
   "cell_type": "code",
   "execution_count": 17,
   "id": "1bcc025a-88ce-4095-879b-6eaae1b838ca",
   "metadata": {},
   "outputs": [
    {
     "name": "stdout",
     "output_type": "stream",
     "text": [
      "2/2 [==============================] - 0s 0s/step\n"
     ]
    }
   ],
   "source": [
    "pred = model.predict(test_X)"
   ]
  },
  {
   "cell_type": "code",
   "execution_count": 18,
   "id": "f001532d-e28f-48e8-a6ad-57481ec2d493",
   "metadata": {},
   "outputs": [
    {
     "data": {
      "text/plain": [
       "array([[0.95153177, 0.04551011, 0.00295809],\n",
       "       [0.05400137, 0.64703596, 0.29896268],\n",
       "       [0.00535266, 0.3398653 , 0.65478206],\n",
       "       [0.00253358, 0.24652465, 0.75094175],\n",
       "       [0.00736461, 0.38704395, 0.6055915 ],\n",
       "       [0.0054592 , 0.34590647, 0.64863425],\n",
       "       [0.9531634 , 0.04399855, 0.00283799],\n",
       "       [0.01308491, 0.4704989 , 0.5164162 ],\n",
       "       [0.00390483, 0.29984275, 0.6962524 ],\n",
       "       [0.07291152, 0.67056316, 0.25652537],\n",
       "       [0.94757503, 0.04921566, 0.00320934],\n",
       "       [0.9526754 , 0.04445776, 0.00286684],\n",
       "       [0.9409515 , 0.05539133, 0.00365715],\n",
       "       [0.0713305 , 0.6673835 , 0.26128605],\n",
       "       [0.0052585 , 0.33948258, 0.65525895],\n",
       "       [0.06307854, 0.657582  , 0.2793394 ],\n",
       "       [0.12489199, 0.67976594, 0.195342  ],\n",
       "       [0.03684174, 0.6113702 , 0.35178807],\n",
       "       [0.9515874 , 0.04544571, 0.00296697],\n",
       "       [0.04115728, 0.6221774 , 0.3366652 ],\n",
       "       [0.00664649, 0.37328073, 0.62007284],\n",
       "       [0.9590513 , 0.03849348, 0.0024552 ],\n",
       "       [0.9162337 , 0.07838442, 0.00538186],\n",
       "       [0.00528274, 0.34088737, 0.6538298 ],\n",
       "       [0.00627013, 0.36361876, 0.63011116],\n",
       "       [0.00569476, 0.34957626, 0.6447289 ],\n",
       "       [0.04949003, 0.6381049 , 0.31240505],\n",
       "       [0.03159879, 0.5941063 , 0.37429485],\n",
       "       [0.05286594, 0.64506906, 0.30206499],\n",
       "       [0.02688529, 0.56934685, 0.40376794],\n",
       "       [0.00650236, 0.3702926 , 0.62320507],\n",
       "       [0.9402496 , 0.05601685, 0.00373347],\n",
       "       [0.9626218 , 0.03514236, 0.00223587],\n",
       "       [0.07974502, 0.6753444 , 0.24491066],\n",
       "       [0.946798  , 0.04993483, 0.00326712],\n",
       "       [0.0024023 , 0.24084443, 0.7567532 ],\n",
       "       [0.016289  , 0.507215  , 0.47649595],\n",
       "       [0.00402424, 0.3041034 , 0.69187236]], dtype=float32)"
      ]
     },
     "execution_count": 18,
     "metadata": {},
     "output_type": "execute_result"
    }
   ],
   "source": [
    "pred"
   ]
  },
  {
   "cell_type": "code",
   "execution_count": null,
   "id": "bd64008a-57da-4ecd-82e3-ae2b1d56a103",
   "metadata": {},
   "outputs": [],
   "source": []
  }
 ],
 "metadata": {
  "kernelspec": {
   "display_name": "tf2.14",
   "language": "python",
   "name": "tf2.14"
  },
  "language_info": {
   "codemirror_mode": {
    "name": "ipython",
    "version": 3
   },
   "file_extension": ".py",
   "mimetype": "text/x-python",
   "name": "python",
   "nbconvert_exporter": "python",
   "pygments_lexer": "ipython3",
   "version": "3.11.9"
  }
 },
 "nbformat": 4,
 "nbformat_minor": 5
}
