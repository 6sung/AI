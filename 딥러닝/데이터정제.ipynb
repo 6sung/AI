{
 "cells": [
  {
   "cell_type": "code",
   "execution_count": 1,
   "id": "a3ecde6c-4b53-4f43-901d-13a96771c8d6",
   "metadata": {},
   "outputs": [],
   "source": [
    "import pandas as pd\n",
    "file_path = 'new4.csv'\n",
    "df = pd.read_csv(file_path)"
   ]
  },
  {
   "cell_type": "code",
   "execution_count": 2,
   "id": "980e4475-54e1-4800-9e00-5b028c0df46c",
   "metadata": {},
   "outputs": [
    {
     "data": {
      "text/html": [
       "<div>\n",
       "<style scoped>\n",
       "    .dataframe tbody tr th:only-of-type {\n",
       "        vertical-align: middle;\n",
       "    }\n",
       "\n",
       "    .dataframe tbody tr th {\n",
       "        vertical-align: top;\n",
       "    }\n",
       "\n",
       "    .dataframe thead th {\n",
       "        text-align: right;\n",
       "    }\n",
       "</style>\n",
       "<table border=\"1\" class=\"dataframe\">\n",
       "  <thead>\n",
       "    <tr style=\"text-align: right;\">\n",
       "      <th></th>\n",
       "      <th>사건명</th>\n",
       "      <th>사건번호</th>\n",
       "      <th>선고일자</th>\n",
       "      <th>선고</th>\n",
       "      <th>법원명</th>\n",
       "      <th>전문</th>\n",
       "      <th>주문</th>\n",
       "    </tr>\n",
       "  </thead>\n",
       "  <tbody>\n",
       "    <tr>\n",
       "      <th>0</th>\n",
       "      <td>독직상해</td>\n",
       "      <td>4285형비상1</td>\n",
       "      <td>19520422</td>\n",
       "      <td>선고</td>\n",
       "      <td>대법원</td>\n",
       "      <td>【비상, 상고인】\\n검찰총장\\n【원 심】\\n청주지방법원\\n【주 문】\\n원판결을 파훼...</td>\n",
       "      <td>NaN</td>\n",
       "    </tr>\n",
       "    <tr>\n",
       "      <th>1</th>\n",
       "      <td>비상사태하의범죄처벌에관한특별조치령제1조,비상사태하의범죄처벌에관한특별조치령제3조,비상...</td>\n",
       "      <td>4286비상13</td>\n",
       "      <td>19531005</td>\n",
       "      <td>선고</td>\n",
       "      <td>대법원</td>\n",
       "      <td>【상고인】\\n검찰총장\\n【원 심】\\n대구지방법원 금천지원\\n【주 문】\\n본건에 대한...</td>\n",
       "      <td>NaN</td>\n",
       "    </tr>\n",
       "    <tr>\n",
       "      <th>2</th>\n",
       "      <td>간통</td>\n",
       "      <td>4287형비1</td>\n",
       "      <td>19550415</td>\n",
       "      <td>선고</td>\n",
       "      <td>대법원</td>\n",
       "      <td>【비상고인】\\n검찰총장\\n【원심판결】\\n제1심 대구지방법원\\n【주 문】\\n원판결이유...</td>\n",
       "      <td>NaN</td>\n",
       "    </tr>\n",
       "    <tr>\n",
       "      <th>3</th>\n",
       "      <td>상해치사</td>\n",
       "      <td>4288형상175</td>\n",
       "      <td>19550805</td>\n",
       "      <td>선고</td>\n",
       "      <td>대법원</td>\n",
       "      <td>【상고인, 피고인】\\n【원심판결】\\n제1심 부산지방법원 진주지원, 제2심 대구고등법...</td>\n",
       "      <td>NaN</td>\n",
       "    </tr>\n",
       "    <tr>\n",
       "      <th>4</th>\n",
       "      <td>공무상비밀표시무효,주거침입</td>\n",
       "      <td>4289형상5</td>\n",
       "      <td>19560305</td>\n",
       "      <td>선고</td>\n",
       "      <td>대법원</td>\n",
       "      <td>【상고인, 피고인】\\n【변 호 인】\\n변호사 이재원\\n【원심판결】\\n제1심 서울지방...</td>\n",
       "      <td>NaN</td>\n",
       "    </tr>\n",
       "  </tbody>\n",
       "</table>\n",
       "</div>"
      ],
      "text/plain": [
       "                                                 사건명       사건번호      선고일자  선고  \\\n",
       "0                                               독직상해   4285형비상1  19520422  선고   \n",
       "1  비상사태하의범죄처벌에관한특별조치령제1조,비상사태하의범죄처벌에관한특별조치령제3조,비상...   4286비상13  19531005  선고   \n",
       "2                                                 간통    4287형비1  19550415  선고   \n",
       "3                                               상해치사  4288형상175  19550805  선고   \n",
       "4                                     공무상비밀표시무효,주거침입    4289형상5  19560305  선고   \n",
       "\n",
       "   법원명                                                 전문  주문  \n",
       "0  대법원  【비상, 상고인】\\n검찰총장\\n【원 심】\\n청주지방법원\\n【주 문】\\n원판결을 파훼... NaN  \n",
       "1  대법원  【상고인】\\n검찰총장\\n【원 심】\\n대구지방법원 금천지원\\n【주 문】\\n본건에 대한... NaN  \n",
       "2  대법원  【비상고인】\\n검찰총장\\n【원심판결】\\n제1심 대구지방법원\\n【주 문】\\n원판결이유... NaN  \n",
       "3  대법원  【상고인, 피고인】\\n【원심판결】\\n제1심 부산지방법원 진주지원, 제2심 대구고등법... NaN  \n",
       "4  대법원  【상고인, 피고인】\\n【변 호 인】\\n변호사 이재원\\n【원심판결】\\n제1심 서울지방... NaN  "
      ]
     },
     "execution_count": 2,
     "metadata": {},
     "output_type": "execute_result"
    }
   ],
   "source": [
    "df.head()"
   ]
  },
  {
   "cell_type": "code",
   "execution_count": 3,
   "id": "c80813ab-927e-4999-bda3-7692f39a5ec6",
   "metadata": {},
   "outputs": [],
   "source": [
    "import re\n",
    "def extract_order(text):\n",
    "    match = re.search(r'【주 문】\\n(.*?)\\n【이 유】', text, re.DOTALL)\n",
    "    if match:\n",
    "        return match.group(1).strip()\n",
    "    return ''\n",
    "\n",
    "df['주문'] = df.apply(lambda row: extract_order(row['전문']), axis=1)\n",
    "\n",
    "# \"전문\" 컬럼에서 \"【주 문】\"과 \"【이 유】\" 사이의 텍스트 제거 및 \"【주 문】\" 태그 삭제\n",
    "df['전문'] = df['전문'].apply(lambda x: re.sub(r'【주 문】\\n.*?\\n【이 유】', '【이 유】', x, flags=re.DOTALL))\n"
   ]
  },
  {
   "cell_type": "code",
   "execution_count": 4,
   "id": "3b46e8f5-77a1-4273-bd9a-5fdf665cd8fa",
   "metadata": {},
   "outputs": [
    {
     "data": {
      "text/plain": [
       "3867"
      ]
     },
     "execution_count": 4,
     "metadata": {},
     "output_type": "execute_result"
    }
   ],
   "source": [
    "non_empty_orders_count = df['주문'].apply(lambda x: bool(x.strip())).sum()\n",
    "\n",
    "non_empty_orders_count"
   ]
  },
  {
   "cell_type": "code",
   "execution_count": 10,
   "id": "d4268742-3a17-4a02-a7f3-a7f2d31bfc2c",
   "metadata": {},
   "outputs": [],
   "source": [
    "import re\n",
    "def extract_order(text):\n",
    "    match = re.search(r'【주문】\\n(.*?)\\n【이유】', text, re.DOTALL)\n",
    "    if match:\n",
    "        return match.group(1).strip()\n",
    "    return ''\n",
    "\n",
    "df['주문'] = df.apply(lambda row: extract_order(row['전문']), axis=1)\n",
    "\n",
    "# \"전문\" 컬럼에서 \"【주 문】\"과 \"【이 유】\" 사이의 텍스트 제거 및 \"【주 문】\" 태그 삭제\n",
    "df['전문'] = df['전문'].apply(lambda x: re.sub(r'【주문】\\n.*?\\n【이유】', '【이유】', x, flags=re.DOTALL))\n"
   ]
  },
  {
   "cell_type": "code",
   "execution_count": 27,
   "id": "9f7c3e68-53ea-4c5e-af01-9e81ce3546a0",
   "metadata": {},
   "outputs": [
    {
     "name": "stdout",
     "output_type": "stream",
     "text": [
      "3867\n"
     ]
    }
   ],
   "source": [
    "print(len(df))"
   ]
  },
  {
   "cell_type": "code",
   "execution_count": 6,
   "id": "553c7ada-f5cb-4dfb-8bb0-17e96814e136",
   "metadata": {},
   "outputs": [],
   "source": [
    "df = df[df['주문'].apply(lambda x: bool(x.strip()))]"
   ]
  },
  {
   "cell_type": "code",
   "execution_count": 9,
   "id": "f68bf63d-5161-4620-a6e2-06cc0da3d43d",
   "metadata": {},
   "outputs": [],
   "source": [
    "output_file_path = 'new5.csv'\n",
    "df.to_csv(output_file_path,index=False, encoding='utf-8-sig')"
   ]
  },
  {
   "cell_type": "code",
   "execution_count": 21,
   "id": "ee3744df-2245-42bc-839c-618fbb8f5994",
   "metadata": {},
   "outputs": [],
   "source": [
    "file_path = 'new5.csv'\n",
    "df = pd.read_csv(file_path)"
   ]
  },
  {
   "cell_type": "code",
   "execution_count": 25,
   "id": "37484d7f-0567-4fbd-b110-c91da7df7a5b",
   "metadata": {},
   "outputs": [
    {
     "data": {
      "text/html": [
       "<div>\n",
       "<style scoped>\n",
       "    .dataframe tbody tr th:only-of-type {\n",
       "        vertical-align: middle;\n",
       "    }\n",
       "\n",
       "    .dataframe tbody tr th {\n",
       "        vertical-align: top;\n",
       "    }\n",
       "\n",
       "    .dataframe thead th {\n",
       "        text-align: right;\n",
       "    }\n",
       "</style>\n",
       "<table border=\"1\" class=\"dataframe\">\n",
       "  <thead>\n",
       "    <tr style=\"text-align: right;\">\n",
       "      <th></th>\n",
       "      <th>사건명</th>\n",
       "      <th>사건번호</th>\n",
       "      <th>선고일자</th>\n",
       "      <th>법원명</th>\n",
       "      <th>전문</th>\n",
       "      <th>주문</th>\n",
       "      <th>양형의 이유</th>\n",
       "    </tr>\n",
       "  </thead>\n",
       "  <tbody>\n",
       "    <tr>\n",
       "      <th>0</th>\n",
       "      <td>독직상해</td>\n",
       "      <td>4285형비상1</td>\n",
       "      <td>19520422</td>\n",
       "      <td>대법원</td>\n",
       "      <td>【비상, 상고인】\\n검찰총장\\n【원 심】\\n청주지방법원\\n【이 유】\\n본건 비상상고...</td>\n",
       "      <td>원판결을 파훼한다.\\n피고인을 징역 8월에 처하고 1년간 우 형의 집행을 유예한다.</td>\n",
       "      <td>NaN</td>\n",
       "    </tr>\n",
       "    <tr>\n",
       "      <th>1</th>\n",
       "      <td>비상사태하의범죄처벌에관한특별조치령제1조,비상사태하의범죄처벌에관한특별조치령제3조,비상...</td>\n",
       "      <td>4286비상13</td>\n",
       "      <td>19531005</td>\n",
       "      <td>대법원</td>\n",
       "      <td>【상고인】\\n검찰총장\\n【원 심】\\n대구지방법원 금천지원\\n【이 유】\\n검찰총장 한...</td>\n",
       "      <td>본건에 대한 단기 4284년 2월 17일 대구지방법원 금천지원 공판에서 변호인을 부...</td>\n",
       "      <td>NaN</td>\n",
       "    </tr>\n",
       "    <tr>\n",
       "      <th>2</th>\n",
       "      <td>간통</td>\n",
       "      <td>4287형비1</td>\n",
       "      <td>19550415</td>\n",
       "      <td>대법원</td>\n",
       "      <td>【비상고인】\\n검찰총장\\n【원심판결】\\n제1심 대구지방법원\\n【이 유】\\n검찰총장 ...</td>\n",
       "      <td>원판결이유중 「본건 공소사실인 간통에 관한 구 형법 제183조는 헌법 제8조 제1항...</td>\n",
       "      <td>NaN</td>\n",
       "    </tr>\n",
       "    <tr>\n",
       "      <th>3</th>\n",
       "      <td>상해치사</td>\n",
       "      <td>4288형상175</td>\n",
       "      <td>19550805</td>\n",
       "      <td>대법원</td>\n",
       "      <td>【상고인, 피고인】\\n【원심판결】\\n제1심 부산지방법원 진주지원, 제2심 대구고등법...</td>\n",
       "      <td>원판결을 파기한다\\n피고인을 징역 2년에 처한다\\n판결선고전 구금일수중 제1심 30...</td>\n",
       "      <td>NaN</td>\n",
       "    </tr>\n",
       "    <tr>\n",
       "      <th>4</th>\n",
       "      <td>공무상비밀표시무효,주거침입</td>\n",
       "      <td>4289형상5</td>\n",
       "      <td>19560305</td>\n",
       "      <td>대법원</td>\n",
       "      <td>【상고인, 피고인】\\n【변 호 인】\\n변호사 이재원\\n【원심판결】\\n제1심 서울지방...</td>\n",
       "      <td>원판결을 파기한다\\n피고인을 징역4월에 처한다\\n제1심 판결 선고전 구금일수중 80...</td>\n",
       "      <td>NaN</td>\n",
       "    </tr>\n",
       "  </tbody>\n",
       "</table>\n",
       "</div>"
      ],
      "text/plain": [
       "                                                 사건명       사건번호      선고일자  \\\n",
       "0                                               독직상해   4285형비상1  19520422   \n",
       "1  비상사태하의범죄처벌에관한특별조치령제1조,비상사태하의범죄처벌에관한특별조치령제3조,비상...   4286비상13  19531005   \n",
       "2                                                 간통    4287형비1  19550415   \n",
       "3                                               상해치사  4288형상175  19550805   \n",
       "4                                     공무상비밀표시무효,주거침입    4289형상5  19560305   \n",
       "\n",
       "   법원명                                                 전문  \\\n",
       "0  대법원  【비상, 상고인】\\n검찰총장\\n【원 심】\\n청주지방법원\\n【이 유】\\n본건 비상상고...   \n",
       "1  대법원  【상고인】\\n검찰총장\\n【원 심】\\n대구지방법원 금천지원\\n【이 유】\\n검찰총장 한...   \n",
       "2  대법원  【비상고인】\\n검찰총장\\n【원심판결】\\n제1심 대구지방법원\\n【이 유】\\n검찰총장 ...   \n",
       "3  대법원  【상고인, 피고인】\\n【원심판결】\\n제1심 부산지방법원 진주지원, 제2심 대구고등법...   \n",
       "4  대법원  【상고인, 피고인】\\n【변 호 인】\\n변호사 이재원\\n【원심판결】\\n제1심 서울지방...   \n",
       "\n",
       "                                                  주문  양형의 이유  \n",
       "0     원판결을 파훼한다.\\n피고인을 징역 8월에 처하고 1년간 우 형의 집행을 유예한다.     NaN  \n",
       "1  본건에 대한 단기 4284년 2월 17일 대구지방법원 금천지원 공판에서 변호인을 부...     NaN  \n",
       "2  원판결이유중 「본건 공소사실인 간통에 관한 구 형법 제183조는 헌법 제8조 제1항...     NaN  \n",
       "3  원판결을 파기한다\\n피고인을 징역 2년에 처한다\\n판결선고전 구금일수중 제1심 30...     NaN  \n",
       "4  원판결을 파기한다\\n피고인을 징역4월에 처한다\\n제1심 판결 선고전 구금일수중 80...     NaN  "
      ]
     },
     "execution_count": 25,
     "metadata": {},
     "output_type": "execute_result"
    }
   ],
   "source": [
    "df.head()"
   ]
  },
  {
   "cell_type": "code",
   "execution_count": 23,
   "id": "81df404a-fa1d-4ee3-802c-48ef6bca5d88",
   "metadata": {},
   "outputs": [],
   "source": [
    "columns_to_drop=['선고']\n",
    "df.drop(columns=columns_to_drop, inplace=True)"
   ]
  },
  {
   "cell_type": "code",
   "execution_count": 24,
   "id": "82b78132-0c22-4949-a830-e6c14c844aee",
   "metadata": {},
   "outputs": [],
   "source": [
    "import numpy as np\n",
    "df['양형의 이유'] = np.nan"
   ]
  },
  {
   "cell_type": "code",
   "execution_count": 16,
   "id": "5be0c151-340a-40f5-ba86-411defc57271",
   "metadata": {},
   "outputs": [],
   "source": [
    "def extract_reason(text):\n",
    "    match = re.search(r'【양형의 이유】(.*)', text, re.DOTALL)\n",
    "    if match:\n",
    "        return match.group(1).strip()\n",
    "    return ''\n",
    "\n",
    "df['양형의 이유'] = df['전문'].apply(extract_reason)\n",
    "\n",
    "# \"전문\" 컬럼에서 \"【양형의 이유】\"부터 끝까지의 텍스트 제거\n",
    "df['전문'] = df['전문'].apply(lambda x: re.sub(r'【양형의 이유】.*', '', x, flags=re.DOTALL))\n"
   ]
  },
  {
   "cell_type": "code",
   "execution_count": 32,
   "id": "aa54ab7b-8645-4deb-850e-7a21652d10e7",
   "metadata": {},
   "outputs": [
    {
     "data": {
      "text/html": [
       "<div>\n",
       "<style scoped>\n",
       "    .dataframe tbody tr th:only-of-type {\n",
       "        vertical-align: middle;\n",
       "    }\n",
       "\n",
       "    .dataframe tbody tr th {\n",
       "        vertical-align: top;\n",
       "    }\n",
       "\n",
       "    .dataframe thead th {\n",
       "        text-align: right;\n",
       "    }\n",
       "</style>\n",
       "<table border=\"1\" class=\"dataframe\">\n",
       "  <thead>\n",
       "    <tr style=\"text-align: right;\">\n",
       "      <th></th>\n",
       "      <th>사건명</th>\n",
       "      <th>사건번호</th>\n",
       "      <th>선고일자</th>\n",
       "      <th>법원명</th>\n",
       "      <th>전문</th>\n",
       "      <th>주문</th>\n",
       "      <th>양형의 이유</th>\n",
       "    </tr>\n",
       "  </thead>\n",
       "  <tbody>\n",
       "    <tr>\n",
       "      <th>0</th>\n",
       "      <td>독직상해</td>\n",
       "      <td>4285형비상1</td>\n",
       "      <td>19520422</td>\n",
       "      <td>대법원</td>\n",
       "      <td>【비상, 상고인】\\n검찰총장\\n【원 심】\\n청주지방법원\\n【이 유】\\n본건 비상상고...</td>\n",
       "      <td>원판결을 파훼한다.\\n피고인을 징역 8월에 처하고 1년간 우 형의 집행을 유예한다.</td>\n",
       "      <td></td>\n",
       "    </tr>\n",
       "    <tr>\n",
       "      <th>1</th>\n",
       "      <td>비상사태하의범죄처벌에관한특별조치령제1조,비상사태하의범죄처벌에관한특별조치령제3조,비상...</td>\n",
       "      <td>4286비상13</td>\n",
       "      <td>19531005</td>\n",
       "      <td>대법원</td>\n",
       "      <td>【상고인】\\n검찰총장\\n【원 심】\\n대구지방법원 금천지원\\n【이 유】\\n검찰총장 한...</td>\n",
       "      <td>본건에 대한 단기 4284년 2월 17일 대구지방법원 금천지원 공판에서 변호인을 부...</td>\n",
       "      <td></td>\n",
       "    </tr>\n",
       "    <tr>\n",
       "      <th>2</th>\n",
       "      <td>간통</td>\n",
       "      <td>4287형비1</td>\n",
       "      <td>19550415</td>\n",
       "      <td>대법원</td>\n",
       "      <td>【비상고인】\\n검찰총장\\n【원심판결】\\n제1심 대구지방법원\\n【이 유】\\n검찰총장 ...</td>\n",
       "      <td>원판결이유중 「본건 공소사실인 간통에 관한 구 형법 제183조는 헌법 제8조 제1항...</td>\n",
       "      <td></td>\n",
       "    </tr>\n",
       "    <tr>\n",
       "      <th>3</th>\n",
       "      <td>상해치사</td>\n",
       "      <td>4288형상175</td>\n",
       "      <td>19550805</td>\n",
       "      <td>대법원</td>\n",
       "      <td>【상고인, 피고인】\\n【원심판결】\\n제1심 부산지방법원 진주지원, 제2심 대구고등법...</td>\n",
       "      <td>원판결을 파기한다\\n피고인을 징역 2년에 처한다\\n판결선고전 구금일수중 제1심 30...</td>\n",
       "      <td></td>\n",
       "    </tr>\n",
       "    <tr>\n",
       "      <th>4</th>\n",
       "      <td>공무상비밀표시무효,주거침입</td>\n",
       "      <td>4289형상5</td>\n",
       "      <td>19560305</td>\n",
       "      <td>대법원</td>\n",
       "      <td>【상고인, 피고인】\\n【변 호 인】\\n변호사 이재원\\n【원심판결】\\n제1심 서울지방...</td>\n",
       "      <td>원판결을 파기한다\\n피고인을 징역4월에 처한다\\n제1심 판결 선고전 구금일수중 80...</td>\n",
       "      <td></td>\n",
       "    </tr>\n",
       "  </tbody>\n",
       "</table>\n",
       "</div>"
      ],
      "text/plain": [
       "                                                 사건명       사건번호      선고일자  \\\n",
       "0                                               독직상해   4285형비상1  19520422   \n",
       "1  비상사태하의범죄처벌에관한특별조치령제1조,비상사태하의범죄처벌에관한특별조치령제3조,비상...   4286비상13  19531005   \n",
       "2                                                 간통    4287형비1  19550415   \n",
       "3                                               상해치사  4288형상175  19550805   \n",
       "4                                     공무상비밀표시무효,주거침입    4289형상5  19560305   \n",
       "\n",
       "   법원명                                                 전문  \\\n",
       "0  대법원  【비상, 상고인】\\n검찰총장\\n【원 심】\\n청주지방법원\\n【이 유】\\n본건 비상상고...   \n",
       "1  대법원  【상고인】\\n검찰총장\\n【원 심】\\n대구지방법원 금천지원\\n【이 유】\\n검찰총장 한...   \n",
       "2  대법원  【비상고인】\\n검찰총장\\n【원심판결】\\n제1심 대구지방법원\\n【이 유】\\n검찰총장 ...   \n",
       "3  대법원  【상고인, 피고인】\\n【원심판결】\\n제1심 부산지방법원 진주지원, 제2심 대구고등법...   \n",
       "4  대법원  【상고인, 피고인】\\n【변 호 인】\\n변호사 이재원\\n【원심판결】\\n제1심 서울지방...   \n",
       "\n",
       "                                                  주문 양형의 이유  \n",
       "0     원판결을 파훼한다.\\n피고인을 징역 8월에 처하고 1년간 우 형의 집행을 유예한다.         \n",
       "1  본건에 대한 단기 4284년 2월 17일 대구지방법원 금천지원 공판에서 변호인을 부...         \n",
       "2  원판결이유중 「본건 공소사실인 간통에 관한 구 형법 제183조는 헌법 제8조 제1항...         \n",
       "3  원판결을 파기한다\\n피고인을 징역 2년에 처한다\\n판결선고전 구금일수중 제1심 30...         \n",
       "4  원판결을 파기한다\\n피고인을 징역4월에 처한다\\n제1심 판결 선고전 구금일수중 80...         "
      ]
     },
     "execution_count": 32,
     "metadata": {},
     "output_type": "execute_result"
    }
   ],
   "source": [
    "df.head()"
   ]
  },
  {
   "cell_type": "code",
   "execution_count": 30,
   "id": "a8cfa4ed-f998-4310-860a-43c34cd1fefd",
   "metadata": {},
   "outputs": [
    {
     "data": {
      "text/plain": [
       "899"
      ]
     },
     "execution_count": 30,
     "metadata": {},
     "output_type": "execute_result"
    }
   ],
   "source": [
    "non_empty_orders_count = df['양형의 이유'].apply(lambda x: bool(x.strip())).sum()\n",
    "\n",
    "non_empty_orders_count"
   ]
  },
  {
   "cell_type": "code",
   "execution_count": 29,
   "id": "ffe94b6d-557f-44e5-9c00-d2b91188edbb",
   "metadata": {},
   "outputs": [],
   "source": [
    "def extract_reason(text):\n",
    "    match = re.search(r'【양형의 이유】(.*)', text, re.DOTALL)\n",
    "    if match:\n",
    "        return match.group(1).strip()\n",
    "    return ''\n",
    "\n",
    "df['양형의 이유'] = df['전문'].apply(extract_reason)\n",
    "\n",
    "# \"전문\" 컬럼에서 \"【양형의 이유】\"부터 끝까지의 텍스트 제거\n",
    "df['전문'] = df['전문'].apply(lambda x: re.sub(r'【양형의 이유】.*', '', x, flags=re.DOTALL))\n"
   ]
  },
  {
   "cell_type": "code",
   "execution_count": 33,
   "id": "aed05115-2f77-491d-bcfe-c7ff62b14379",
   "metadata": {},
   "outputs": [
    {
     "name": "stdout",
     "output_type": "stream",
     "text": [
      "                                                    사건명  \\\n",
      "1056                         특정범죄가중처벌등에관한법률위반(알선수재)피고사건   \n",
      "1129  특정범죄가중처벌등에관한법률위반(뇌물)·특정범죄가중처벌등에관한법률위반(뇌물)방조(피고...   \n",
      "1244  특정경제범죄가중처벌등에관한법률위반(재산국외도피)·특정경제범죄가중처벌등에관한법률위반(...   \n",
      "1258                        관세법위반·전자상거래등에서의소비자보호에관한법률위반   \n",
      "1261  특정경제범죄가중처벌등에관한법률위반(배임)·특정범죄가중처벌등에관한법률위반(조세)·조세...   \n",
      "...                                                 ...   \n",
      "3858                                   마약류관리에관한법률위반(향정)   \n",
      "3859                                      도로교통법위반(음주운전)   \n",
      "3861                                                 실화   \n",
      "3862  특정범죄가중처벌등에관한법률위반(보복협박등)·스토킹범죄의처벌등에관한법률위반·가정폭력범...   \n",
      "3863                  마약류관리에관한법률위반(향정)·마약류관리에관한법률위반(대마)   \n",
      "\n",
      "                                        사건번호      선고일자       법원명  \\\n",
      "1056                                 93노7745  19940314    서울형사지법   \n",
      "1129                                 96노1893  19961216      서울고법   \n",
      "1244                               2002고합707  20031113    서울지방법원   \n",
      "1258                               2004노1346  20040611  서울중앙지방법원   \n",
      "1261  2004고합91, 2004고합365(병합), 2004고합609(병합)  20040628  서울중앙지방법원   \n",
      "...                                      ...       ...       ...   \n",
      "3858                               2022노1342  20221020  서울중앙지방법원   \n",
      "3859                               2022노1406  20221103      서울고법   \n",
      "3861                               2020노3595  20221118    대구지방법원   \n",
      "3862                               2022노2157  20221124      서울고법   \n",
      "3863                                2022노331  20221222      대구고법   \n",
      "\n",
      "                                                     전문  \\\n",
      "1056  【피 고 인】\\n피고인\\n【항 소 인】\\n피고인 및 검사\\n【원심판결】\\n제1심 서...   \n",
      "1129  【피 고 인】\\n【항 소 인】\\n피고인들\\n【검 사】\\n김각영외 2인\\n【변 호 인...   \n",
      "1244  【피 고 인】\\n【검 사】\\n김석우\\n【변 호 인】\\n법무법인\\n【이 유】\\n【범죄...   \n",
      "1258  【피 고 인】\\n【항 소 인】\\n피고인들\\n【검 사】\\n김지웅\\n【변 호 인】\\n변...   \n",
      "1261  【피 고 인】\\n피고인 1외 1\\n【검 사】\\n조재연\\n【변 호 인】\\n변호사 최정...   \n",
      "...                                                 ...   \n",
      "3858  【피 고 인】\\n피고인\\n【항 소 인】\\n검사\\n【검 사】\\n이근정(기소), 신기창...   \n",
      "3859  【피 고 인】\\n피고인\\n【항 소 인】\\n피고인 및 군검사\\n【군 검 사】\\n조성운...   \n",
      "3861  【피 고 인】\\n피고인 1 외 1인\\n【항 소 인】\\n피고인들\\n【검 사】\\n홍완희...   \n",
      "3862  【피 고 인】\\n피고인\\n【항 소 인】\\n피고인\\n【검 사】\\n고현욱 외 1인\\n【...   \n",
      "3863  【피 고 인】\\n피고인\\n【항 소 인】\\n쌍방\\n【검 사】\\n홍영기 외 1인\\n【변...   \n",
      "\n",
      "                                                     주문  \\\n",
      "1056  원심판결을 파기한다.\\n피고인을 징역 1년 6월에 처한다.\\n원심판결 선고 전의 구...   \n",
      "1129  원심판결 중 피고인들에 대한 부분을 파기한다.\\n피고인 이현우를 4년에, 피고인 최...   \n",
      "1244  피고인을 징역 5년에 처한다.\\n이 판결선고 전의 구금일수 1일을 위 형에 산입한다...   \n",
      "1258  원심판결을 파기한다.\\n피고인 1을 벌금 15,000,000원에, 피고인 2를 벌금...   \n",
      "1261  피고인 1(항소심 판결의 피고인 2)을 징역 3년에, 피고인 2 주식회사를 벌금 5...   \n",
      "...                                                 ...   \n",
      "3858  원심판결을 파기한다.\\n피고인을 징역 4개월에 처한다.\\n피고인으로부터 10만 원을...   \n",
      "3859  원심판결을 파기한다.\\n피고인을 벌금 800만 원에 처한다.\\n피고인이 위 벌금을 ...   \n",
      "3861  원심판결을 파기한다.\\n피고인들을 각 벌금 500만 원에 처한다.\\n피고인들이 위 ...   \n",
      "3862  원심판결을 파기한다.\\n피고인을 징역 1년에 처한다.\\n피고인에게 40시간의 스토킹...   \n",
      "3863  원심판결을 파기한다.\\n피고인을 징역 10월에 처한다.\\n피고인에게 40시간의 약물...   \n",
      "\n",
      "                                                 양형의 이유  \n",
      "1056  피고인이 고위 공직자임에도 국민들의 신뢰를 배반하고 폭력조직의 자금원으로 알려진 슬...  \n",
      "1129  1. 피고인 김우중에 대하여\\n(1) 나라를 다스리는 데 돈이 들고 정치를 하는 데...  \n",
      "1244  피고인의 이 사건 범행은, 피고인이 수출입 관계서류를 위조하여 은행으로부터 1억 8...  \n",
      "1258  기록에 의하면 피고인들이 관세를 포탈할 목적으로 보따리상들의 휴대품 통관제도를 악용...  \n",
      "1261  1. 피고인 1\\n① 피고인 1의 이 사건 범행은, 피고인 2 회사를 비롯한 ○○그...  \n",
      "...                                                 ...  \n",
      "3858  1. 법률상 처단형의 범위: 징역 1월∼20년\\n2. 양형기준에 따른 권고형의 범위...  \n",
      "3859  이 사건 범행은 피고인이 혈중알코올농도 0.154%의 술에 취한 상태로 약 705m...  \n",
      "3861  실화로 인한 재산상 손해액이 적지 않은 점, 주의의무 위반의 정도가 가볍지 아니한 ...  \n",
      "3862  1. 법률상 처단형의 범위: 징역 1년~33년\\n2. 양형기준에 따른 권고형의 범위...  \n",
      "3863  1. 법률상 처단형의 범위: 징역 6월~22년 6월\\n2. 양형기준에 따른 권고형의...  \n",
      "\n",
      "[899 rows x 7 columns]\n"
     ]
    }
   ],
   "source": [
    "df_cleaned = df[df['양형의 이유'].apply(lambda x: bool(x.strip()))]\n",
    "\n",
    "# Display the cleaned DataFrame\n",
    "print(df_cleaned)"
   ]
  },
  {
   "cell_type": "code",
   "execution_count": 35,
   "id": "02e55ada-00d5-472f-87f9-09a780bcd038",
   "metadata": {},
   "outputs": [],
   "source": [
    "output_file_path = 'new6.csv'\n",
    "df_cleaned.to_csv(output_file_path,index=False, encoding='utf-8-sig')"
   ]
  },
  {
   "cell_type": "code",
   "execution_count": null,
   "id": "3e76b0a5-7bfb-4318-af5c-a08a634336d5",
   "metadata": {},
   "outputs": [],
   "source": []
  }
 ],
 "metadata": {
  "kernelspec": {
   "display_name": "Python 3 (ipykernel)",
   "language": "python",
   "name": "python3"
  },
  "language_info": {
   "codemirror_mode": {
    "name": "ipython",
    "version": 3
   },
   "file_extension": ".py",
   "mimetype": "text/x-python",
   "name": "python",
   "nbconvert_exporter": "python",
   "pygments_lexer": "ipython3",
   "version": "3.11.7"
  }
 },
 "nbformat": 4,
 "nbformat_minor": 5
}
