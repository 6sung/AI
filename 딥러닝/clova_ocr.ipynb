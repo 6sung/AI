{
 "cells": [
  {
   "cell_type": "code",
   "execution_count": 25,
   "id": "05cfeaaf-e473-4f07-8d32-729b8978f7d8",
   "metadata": {},
   "outputs": [],
   "source": [
    "import time\n",
    "import pandas as pd\n",
    "import cv2\n",
    "import json\n",
    "import matplotlib.pyplot as plt\n",
    "\n",
    "import shutil\n",
    "import os\n",
    "import random\n",
    "try:\n",
    " from PIL import Image\n",
    "except ImportError:\n",
    " import Image\n",
    "\n",
    "import requests\n",
    "import uuid\n",
    "import time\n",
    "import json"
   ]
  },
  {
   "cell_type": "code",
   "execution_count": 49,
   "id": "8d059e3d-8516-42ba-b0b0-a0c6951a0cc1",
   "metadata": {},
   "outputs": [],
   "source": [
    "#api_url = 'http://clovaocr-api-kr.ncloud.com/external/v1/32921/2be912c750b10a067f03006f71290daff1a979f7c25fbe60b336e4dd0074411d'\n",
    "api_url = 'https://as9ticjzxc.apigw.ntruss.com/custom/v1/33294/392568e4b3dd4ed6a9cc6ac71e0799fb1e4f36d0a9c0326068c95ef1184ac831/general'\n",
    "secret_key = 'Z1R5aE5UTmZ1dWtJWGtkTkZJa09RbExXV0pqUGFGZ2g='\n",
    "image_url = 'testimage.png'"
   ]
  },
  {
   "cell_type": "code",
   "execution_count": 50,
   "id": "76ea52bf-15bb-45c9-a212-c1bba8cce96c",
   "metadata": {},
   "outputs": [],
   "source": [
    "request_json = {\n",
    "    'images': [\n",
    "        {\n",
    "            'format': 'jpg',\n",
    "            'name': 'demo'\n",
    "        }\n",
    "    ],\n",
    "    'requestId': str(uuid.uuid4()),\n",
    "    'version': 'V2',\n",
    "    'timestamp': int(round(time.time() * 1000))\n",
    "}\n",
    "\n",
    "payload = {'message': json.dumps(request_json).encode('UTF-8')}\n",
    "files = [\n",
    "  ('file', open(image_url,'rb'))\n",
    "]\n",
    "headers = {\n",
    "  'X-OCR-SECRET': secret_key\n",
    "}"
   ]
  },
  {
   "cell_type": "code",
   "execution_count": 51,
   "id": "b3b4a165-ea1e-4b9f-9324-898abb55ce9a",
   "metadata": {},
   "outputs": [],
   "source": [
    "response = requests.request(\"POST\", api_url, headers=headers, data = payload, files = files)"
   ]
  },
  {
   "cell_type": "code",
   "execution_count": 52,
   "id": "cb44fd98-4f9f-4503-8403-4af9cc57d028",
   "metadata": {},
   "outputs": [
    {
     "name": "stdout",
     "output_type": "stream",
     "text": [
      "{\"version\":\"V2\",\"requestId\":\"7933930b-4e83-4b5d-9da8-68b9a454e078\",\"timestamp\":1722906425201,\"images\":[{\"uid\":\"cfb8e6f81e7d48e7b538ca8ef954ad21\",\"name\":\"demo\",\"inferResult\":\"SUCCESS\",\"message\":\"SUCCESS\",\"validationResult\":{\"result\":\"NO_REQUESTED\"},\"convertedImageInfo\":{\"width\":631,\"height\":863,\"pageIndex\":0,\"longImage\":false},\"fields\":[{\"valueType\":\"ALL\",\"boundingPoly\":{\"vertices\":[{\"x\":23.0,\"y\":17.0},{\"x\":160.0,\"y\":17.0},{\"x\":160.0,\"y\":34.0},{\"x\":23.0,\"y\":34.0}]},\"inferText\":\"[별지제17호서식]\",\"inferConfidence\":0.9997,\"type\":\"NORMAL\",\"lineBreak\":true},{\"valueType\":\"ALL\",\"boundingPoly\":{\"vertices\":[{\"x\":71.0,\"y\":72.0},{\"x\":126.0,\"y\":72.0},{\"x\":126.0,\"y\":91.0},{\"x\":71.0,\"y\":91.0}]},\"inferText\":\"년 형제\",\"inferConfidence\":0.9968,\"type\":\"NORMAL\",\"lineBreak\":false},{\"valueType\":\"ALL\",\"boundingPoly\":{\"vertices\":[{\"x\":166.0,\"y\":73.0},{\"x\":186.0,\"y\":73.0},{\"x\":186.0,\"y\":89.0},{\"x\":166.0,\"y\":89.0}]},\"inferText\":\"호\",\"inferConfidence\":1.0,\"type\":\"NORMAL\",\"lineBreak\":true},{\"valueType\":\"ALL\",\"boundingPoly\":{\"vertices\":[{\"x\":230.0,\"y\":105.0},{\"x\":297.0,\"y\":105.0},{\"x\":297.0,\"y\":130.0},{\"x\":230.0,\"y\":130.0}]},\"inferText\":\"참고인\",\"inferConfidence\":1.0,\"type\":\"NORMAL\",\"lineBreak\":false},{\"valueType\":\"ALL\",\"boundingPoly\":{\"vertices\":[{\"x\":303.0,\"y\":104.0},{\"x\":411.0,\"y\":104.0},{\"x\":411.0,\"y\":132.0},{\"x\":303.0,\"y\":132.0}]},\"inferText\":\"출석요구서\",\"inferConfidence\":0.9998,\"type\":\"NORMAL\",\"lineBreak\":true},{\"valueType\":\"ALL\",\"boundingPoly\":{\"vertices\":[{\"x\":48.0,\"y\":199.0},{\"x\":97.0,\"y\":199.0},{\"x\":97.0,\"y\":219.0},{\"x\":48.0,\"y\":219.0}]},\"inferText\":\"피의자\",\"inferConfidence\":1.0,\"type\":\"NORMAL\",\"lineBreak\":false},{\"valueType\":\"ALL\",\"boundingPoly\":{\"vertices\":[{\"x\":334.0,\"y\":199.0},{\"x\":366.0,\"y\":199.0},{\"x\":366.0,\"y\":219.0},{\"x\":334.0,\"y\":219.0}]},\"inferText\":\"피의\",\"inferConfidence\":1.0,\"type\":\"NORMAL\",\"lineBreak\":true},{\"valueType\":\"ALL\",\"boundingPoly\":{\"vertices\":[{\"x\":48.0,\"y\":226.0},{\"x\":112.0,\"y\":226.0},{\"x\":112.0,\"y\":246.0},{\"x\":48.0,\"y\":246.0}]},\"inferText\":\"피내사자\",\"inferConfidence\":1.0,\"type\":\"NORMAL\",\"lineBreak\":false},{\"valueType\":\"ALL\",\"boundingPoly\":{\"vertices\":[{\"x\":176.0,\"y\":227.0},{\"x\":233.0,\"y\":227.0},{\"x\":233.0,\"y\":245.0},{\"x\":176.0,\"y\":245.0}]},\"inferText\":\"에 대한\",\"inferConfidence\":0.9998,\"type\":\"NORMAL\",\"lineBreak\":false},{\"valueType\":\"ALL\",\"boundingPoly\":{\"vertices\":[{\"x\":334.0,\"y\":226.0},{\"x\":368.0,\"y\":226.0},{\"x\":368.0,\"y\":245.0},{\"x\":334.0,\"y\":245.0}]},\"inferText\":\"내사\",\"inferConfidence\":1.0,\"type\":\"NORMAL\",\"lineBreak\":false},{\"valueType\":\"ALL\",\"boundingPoly\":{\"vertices\":[{\"x\":378.0,\"y\":226.0},{\"x\":427.0,\"y\":226.0},{\"x\":427.0,\"y\":246.0},{\"x\":378.0,\"y\":246.0}]},\"inferText\":\"사건의\",\"inferConfidence\":1.0,\"type\":\"NORMAL\",\"lineBreak\":false},{\"valueType\":\"ALL\",\"boundingPoly\":{\"vertices\":[{\"x\":432.0,\"y\":227.0},{\"x\":511.0,\"y\":227.0},{\"x\":511.0,\"y\":245.0},{\"x\":432.0,\"y\":245.0}]},\"inferText\":\"참고인으로\",\"inferConfidence\":1.0,\"type\":\"NORMAL\",\"lineBreak\":false},{\"valueType\":\"ALL\",\"boundingPoly\":{\"vertices\":[{\"x\":512.0,\"y\":227.0},{\"x\":576.0,\"y\":227.0},{\"x\":576.0,\"y\":244.0},{\"x\":512.0,\"y\":244.0}]},\"inferText\":\"문의드릴\",\"inferConfidence\":1.0,\"type\":\"NORMAL\",\"lineBreak\":true},{\"valueType\":\"ALL\",\"boundingPoly\":{\"vertices\":[{\"x\":49.0,\"y\":254.0},{\"x\":112.0,\"y\":254.0},{\"x\":112.0,\"y\":272.0},{\"x\":49.0,\"y\":272.0}]},\"inferText\":\"피진정인\",\"inferConfidence\":0.9994,\"type\":\"NORMAL\",\"lineBreak\":false},{\"valueType\":\"ALL\",\"boundingPoly\":{\"vertices\":[{\"x\":334.0,\"y\":253.0},{\"x\":366.0,\"y\":253.0},{\"x\":366.0,\"y\":273.0},{\"x\":334.0,\"y\":273.0}]},\"inferText\":\"진정\",\"inferConfidence\":1.0,\"type\":\"NORMAL\",\"lineBreak\":true},{\"valueType\":\"ALL\",\"boundingPoly\":{\"vertices\":[{\"x\":50.0,\"y\":307.0},{\"x\":82.0,\"y\":307.0},{\"x\":82.0,\"y\":327.0},{\"x\":50.0,\"y\":327.0}]},\"inferText\":\"일이\",\"inferConfidence\":0.9987,\"type\":\"NORMAL\",\"lineBreak\":false},{\"valueType\":\"ALL\",\"boundingPoly\":{\"vertices\":[{\"x\":86.0,\"y\":307.0},{\"x\":134.0,\"y\":307.0},{\"x\":134.0,\"y\":327.0},{\"x\":86.0,\"y\":327.0}]},\"inferText\":\"있으니\",\"inferConfidence\":1.0,\"type\":\"NORMAL\",\"lineBreak\":false},{\"valueType\":\"ALL\",\"boundingPoly\":{\"vertices\":[{\"x\":163.0,\"y\":318.0},{\"x\":170.0,\"y\":318.0},{\"x\":170.0,\"y\":324.0},{\"x\":163.0,\"y\":324.0}]},\"inferText\":\"·\",\"inferConfidence\":0.7706,\"type\":\"NORMAL\",\"lineBreak\":false},{\"valueType\":\"ALL\",\"boundingPoly\":{\"vertices\":[{\"x\":196.0,\"y\":319.0},{\"x\":203.0,\"y\":319.0},{\"x\":203.0,\"y\":324.0},{\"x\":196.0,\"y\":324.0}]},\"inferText\":\"·\",\"inferConfidence\":0.7001,\"type\":\"NORMAL\",\"lineBreak\":false},{\"valueType\":\"ALL\",\"boundingPoly\":{\"vertices\":[{\"x\":229.0,\"y\":317.0},{\"x\":240.0,\"y\":317.0},{\"x\":240.0,\"y\":327.0},{\"x\":229.0,\"y\":327.0}]},\"inferText\":\"·\",\"inferConfidence\":0.6343,\"type\":\"NORMAL\",\"lineBreak\":false},{\"valueType\":\"ALL\",\"boundingPoly\":{\"vertices\":[{\"x\":241.0,\"y\":307.0},{\"x\":302.0,\"y\":307.0},{\"x\":302.0,\"y\":326.0},{\"x\":241.0,\"y\":326.0}]},\"inferText\":\"오전(후)\",\"inferConfidence\":0.9999,\"type\":\"NORMAL\",\"lineBreak\":false},{\"valueType\":\"ALL\",\"boundingPoly\":{\"vertices\":[{\"x\":336.0,\"y\":307.0},{\"x\":368.0,\"y\":307.0},{\"x\":368.0,\"y\":327.0},{\"x\":336.0,\"y\":327.0}]},\"inferText\":\"시에\",\"inferConfidence\":1.0,\"type\":\"NORMAL\",\"lineBreak\":false},{\"valueType\":\"ALL\",\"boundingPoly\":{\"vertices\":[{\"x\":374.0,\"y\":307.0},{\"x\":430.0,\"y\":307.0},{\"x\":430.0,\"y\":327.0},{\"x\":374.0,\"y\":327.0}]},\"inferText\":\"우리 부\",\"inferConfidence\":0.9281,\"type\":\"NORMAL\",\"lineBreak\":false},{\"valueType\":\"ALL\",\"boundingPoly\":{\"vertices\":[{\"x\":456.0,\"y\":307.0},{\"x\":559.0,\"y\":307.0},{\"x\":559.0,\"y\":326.0},{\"x\":456.0,\"y\":326.0}]},\"inferText\":\"호 검찰관실로\",\"inferConfidence\":0.9903,\"type\":\"NORMAL\",\"lineBreak\":false},{\"valueType\":\"ALL\",\"boundingPoly\":{\"vertices\":[{\"x\":562.0,\"y\":307.0},{\"x\":594.0,\"y\":307.0},{\"x\":594.0,\"y\":326.0},{\"x\":562.0,\"y\":326.0}]},\"inferText\":\"출석\",\"inferConfidence\":0.9999,\"type\":\"NORMAL\",\"lineBreak\":true},{\"valueType\":\"ALL\",\"boundingPoly\":{\"vertices\":[{\"x\":51.0,\"y\":334.0},{\"x\":82.0,\"y\":334.0},{\"x\":82.0,\"y\":354.0},{\"x\":51.0,\"y\":354.0}]},\"inferText\":\"하여\",\"inferConfidence\":0.9999,\"type\":\"NORMAL\",\"lineBreak\":false},{\"valueType\":\"ALL\",\"boundingPoly\":{\"vertices\":[{\"x\":86.0,\"y\":334.0},{\"x\":134.0,\"y\":334.0},{\"x\":134.0,\"y\":354.0},{\"x\":86.0,\"y\":354.0}]},\"inferText\":\"주시기\",\"inferConfidence\":1.0,\"type\":\"NORMAL\",\"lineBreak\":false},{\"valueType\":\"ALL\",\"boundingPoly\":{\"vertices\":[{\"x\":139.0,\"y\":334.0},{\"x\":207.0,\"y\":334.0},{\"x\":207.0,\"y\":354.0},{\"x\":139.0,\"y\":354.0}]},\"inferText\":\"바랍니다.\",\"inferConfidence\":1.0,\"type\":\"NORMAL\",\"lineBreak\":false},{\"valueType\":\"ALL\",\"boundingPoly\":{\"vertices\":[{\"x\":210.0,\"y\":334.0},{\"x\":257.0,\"y\":334.0},{\"x\":257.0,\"y\":354.0},{\"x\":210.0,\"y\":354.0}]},\"inferText\":\"조사에\",\"inferConfidence\":1.0,\"type\":\"NORMAL\",\"lineBreak\":false},{\"valueType\":\"ALL\",\"boundingPoly\":{\"vertices\":[{\"x\":263.0,\"y\":334.0},{\"x\":311.0,\"y\":334.0},{\"x\":311.0,\"y\":353.0},{\"x\":263.0,\"y\":353.0}]},\"inferText\":\"걸리는\",\"inferConfidence\":1.0,\"type\":\"NORMAL\",\"lineBreak\":false},{\"valueType\":\"ALL\",\"boundingPoly\":{\"vertices\":[{\"x\":315.0,\"y\":334.0},{\"x\":363.0,\"y\":334.0},{\"x\":363.0,\"y\":354.0},{\"x\":315.0,\"y\":354.0}]},\"inferText\":\"시간은\",\"inferConfidence\":1.0,\"type\":\"NORMAL\",\"lineBreak\":false},{\"valueType\":\"ALL\",\"boundingPoly\":{\"vertices\":[{\"x\":390.0,\"y\":334.0},{\"x\":425.0,\"y\":334.0},{\"x\":425.0,\"y\":354.0},{\"x\":390.0,\"y\":354.0}]},\"inferText\":\"시간\",\"inferConfidence\":1.0,\"type\":\"NORMAL\",\"lineBreak\":false},{\"valueType\":\"ALL\",\"boundingPoly\":{\"vertices\":[{\"x\":428.0,\"y\":335.0},{\"x\":476.0,\"y\":335.0},{\"x\":476.0,\"y\":353.0},{\"x\":428.0,\"y\":353.0}]},\"inferText\":\"정도로\",\"inferConfidence\":1.0,\"type\":\"NORMAL\",\"lineBreak\":false},{\"valueType\":\"ALL\",\"boundingPoly\":{\"vertices\":[{\"x\":480.0,\"y\":334.0},{\"x\":542.0,\"y\":334.0},{\"x\":542.0,\"y\":354.0},{\"x\":480.0,\"y\":354.0}]},\"inferText\":\"예상되며\",\"inferConfidence\":1.0,\"type\":\"NORMAL\",\"lineBreak\":false},{\"valueType\":\"ALL\",\"boundingPoly\":{\"vertices\":[{\"x\":546.0,\"y\":334.0},{\"x\":596.0,\"y\":334.0},{\"x\":596.0,\"y\":354.0},{\"x\":546.0,\"y\":354.0}]},\"inferText\":\"출석한\",\"inferConfidence\":0.9985,\"type\":\"NORMAL\",\"lineBreak\":true},{\"valueType\":\"ALL\",\"boundingPoly\":{\"vertices\":[{\"x\":50.0,\"y\":361.0},{\"x\":143.0,\"y\":361.0},{\"x\":143.0,\"y\":380.0},{\"x\":50.0,\"y\":380.0}]},\"inferText\":\"참고인에게는\",\"inferConfidence\":1.0,\"type\":\"NORMAL\",\"lineBreak\":false},{\"valueType\":\"ALL\",\"boundingPoly\":{\"vertices\":[{\"x\":147.0,\"y\":361.0},{\"x\":194.0,\"y\":361.0},{\"x\":194.0,\"y\":381.0},{\"x\":147.0,\"y\":381.0}]},\"inferText\":\"소정의\",\"inferConfidence\":1.0,\"type\":\"NORMAL\",\"lineBreak\":false},{\"valueType\":\"ALL\",\"boundingPoly\":{\"vertices\":[{\"x\":200.0,\"y\":361.0},{\"x\":248.0,\"y\":361.0},{\"x\":248.0,\"y\":381.0},{\"x\":200.0,\"y\":381.0}]},\"inferText\":\"여비를\",\"inferConfidence\":1.0,\"type\":\"NORMAL\",\"lineBreak\":false},{\"valueType\":\"ALL\",\"boundingPoly\":{\"vertices\":[{\"x\":252.0,\"y\":362.0},{\"x\":301.0,\"y\":362.0},{\"x\":301.0,\"y\":380.0},{\"x\":252.0,\"y\":380.0}]},\"inferText\":\"지급해\",\"inferConfidence\":1.0,\"type\":\"NORMAL\",\"lineBreak\":false},{\"valueType\":\"ALL\",\"boundingPoly\":{\"vertices\":[{\"x\":304.0,\"y\":361.0},{\"x\":371.0,\"y\":361.0},{\"x\":371.0,\"y\":380.0},{\"x\":304.0,\"y\":380.0}]},\"inferText\":\"드립니다.\",\"inferConfidence\":0.9998,\"type\":\"NORMAL\",\"lineBreak\":true},{\"valueType\":\"ALL\",\"boundingPoly\":{\"vertices\":[{\"x\":72.0,\"y\":415.0},{\"x\":136.0,\"y\":415.0},{\"x\":136.0,\"y\":435.0},{\"x\":72.0,\"y\":435.0}]},\"inferText\":\"준비사항\",\"inferConfidence\":1.0,\"type\":\"NORMAL\",\"lineBreak\":true},{\"valueType\":\"ALL\",\"boundingPoly\":{\"vertices\":[{\"x\":50.0,\"y\":445.0},{\"x\":65.0,\"y\":445.0},{\"x\":65.0,\"y\":461.0},{\"x\":50.0,\"y\":461.0}]},\"inferText\":\"1.\",\"inferConfidence\":1.0,\"type\":\"NORMAL\",\"lineBreak\":false},{\"valueType\":\"ALL\",\"boundingPoly\":{\"vertices\":[{\"x\":70.0,\"y\":442.0},{\"x\":153.0,\"y\":443.0},{\"x\":153.0,\"y\":462.0},{\"x\":70.0,\"y\":461.0}]},\"inferText\":\"출석요구서,\",\"inferConfidence\":0.9975,\"type\":\"NORMAL\",\"lineBreak\":false},{\"valueType\":\"ALL\",\"boundingPoly\":{\"vertices\":[{\"x\":159.0,\"y\":442.0},{\"x\":273.0,\"y\":442.0},{\"x\":273.0,\"y\":461.0},{\"x\":159.0,\"y\":461.0}]},\"inferText\":\"주민등록증(또는\",\"inferConfidence\":0.9999,\"type\":\"NORMAL\",\"lineBreak\":false},{\"valueType\":\"ALL\",\"boundingPoly\":{\"vertices\":[{\"x\":280.0,\"y\":442.0},{\"x\":358.0,\"y\":442.0},{\"x\":358.0,\"y\":462.0},{\"x\":280.0,\"y\":462.0}]},\"inferText\":\"운전면허증\",\"inferConfidence\":1.0,\"type\":\"NORMAL\",\"lineBreak\":false},{\"valueType\":\"ALL\",\"boundingPoly\":{\"vertices\":[{\"x\":363.0,\"y\":442.0},{\"x\":382.0,\"y\":442.0},{\"x\":382.0,\"y\":461.0},{\"x\":363.0,\"y\":461.0}]},\"inferText\":\"등\",\"inferConfidence\":1.0,\"type\":\"NORMAL\",\"lineBreak\":false},{\"valueType\":\"ALL\",\"boundingPoly\":{\"vertices\":[{\"x\":389.0,\"y\":445.0},{\"x\":407.0,\"y\":445.0},{\"x\":407.0,\"y\":459.0},{\"x\":389.0,\"y\":459.0}]},\"inferText\":\"그\",\"inferConfidence\":1.0,\"type\":\"NORMAL\",\"lineBreak\":false},{\"valueType\":\"ALL\",\"boundingPoly\":{\"vertices\":[{\"x\":413.0,\"y\":443.0},{\"x\":445.0,\"y\":443.0},{\"x\":445.0,\"y\":462.0},{\"x\":413.0,\"y\":462.0}]},\"inferText\":\"밖에\",\"inferConfidence\":1.0,\"type\":\"NORMAL\",\"lineBreak\":false},{\"valueType\":\"ALL\",\"boundingPoly\":{\"vertices\":[{\"x\":452.0,\"y\":442.0},{\"x\":515.0,\"y\":442.0},{\"x\":515.0,\"y\":461.0},{\"x\":452.0,\"y\":461.0}]},\"inferText\":\"본인임을\",\"inferConfidence\":1.0,\"type\":\"NORMAL\",\"lineBreak\":false},{\"valueType\":\"ALL\",\"boundingPoly\":{\"vertices\":[{\"x\":522.0,\"y\":443.0},{\"x\":571.0,\"y\":443.0},{\"x\":571.0,\"y\":461.0},{\"x\":522.0,\"y\":461.0}]},\"inferText\":\"확인할\",\"inferConfidence\":0.9999,\"type\":\"NORMAL\",\"lineBreak\":false},{\"valueType\":\"ALL\",\"boundingPoly\":{\"vertices\":[{\"x\":576.0,\"y\":442.0},{\"x\":596.0,\"y\":442.0},{\"x\":596.0,\"y\":462.0},{\"x\":576.0,\"y\":462.0}]},\"inferText\":\"수\",\"inferConfidence\":1.0,\"type\":\"NORMAL\",\"lineBreak\":true},{\"valueType\":\"ALL\",\"boundingPoly\":{\"vertices\":[{\"x\":73.0,\"y\":470.0},{\"x\":107.0,\"y\":470.0},{\"x\":107.0,\"y\":489.0},{\"x\":73.0,\"y\":489.0}]},\"inferText\":\"있는\",\"inferConfidence\":1.0,\"type\":\"NORMAL\",\"lineBreak\":false},{\"valueType\":\"ALL\",\"boundingPoly\":{\"vertices\":[{\"x\":110.0,\"y\":470.0},{\"x\":150.0,\"y\":470.0},{\"x\":150.0,\"y\":487.0},{\"x\":110.0,\"y\":487.0}]},\"inferText\":\"자료)\",\"inferConfidence\":1.0,\"type\":\"NORMAL\",\"lineBreak\":false},{\"valueType\":\"ALL\",\"boundingPoly\":{\"vertices\":[{\"x\":154.0,\"y\":470.0},{\"x\":210.0,\"y\":470.0},{\"x\":210.0,\"y\":488.0},{\"x\":154.0,\"y\":488.0}]},\"inferText\":\"및 도장\",\"inferConfidence\":0.9667,\"type\":\"NORMAL\",\"lineBreak\":true},{\"valueType\":\"ALL\",\"boundingPoly\":{\"vertices\":[{\"x\":49.0,\"y\":499.0},{\"x\":65.0,\"y\":499.0},{\"x\":65.0,\"y\":512.0},{\"x\":49.0,\"y\":512.0}]},\"inferText\":\"2.\",\"inferConfidence\":1.0,\"type\":\"NORMAL\",\"lineBreak\":true},{\"valueType\":\"ALL\",\"boundingPoly\":{\"vertices\":[{\"x\":49.0,\"y\":526.0},{\"x\":64.0,\"y\":526.0},{\"x\":64.0,\"y\":539.0},{\"x\":49.0,\"y\":539.0}]},\"inferText\":\"3.\",\"inferConfidence\":1.0,\"type\":\"NORMAL\",\"lineBreak\":true},{\"valueType\":\"ALL\",\"boundingPoly\":{\"vertices\":[{\"x\":49.0,\"y\":552.0},{\"x\":65.0,\"y\":552.0},{\"x\":65.0,\"y\":567.0},{\"x\":49.0,\"y\":567.0}]},\"inferText\":\"4.\",\"inferConfidence\":1.0,\"type\":\"NORMAL\",\"lineBreak\":false},{\"valueType\":\"ALL\",\"boundingPoly\":{\"vertices\":[{\"x\":69.0,\"y\":553.0},{\"x\":87.0,\"y\":553.0},{\"x\":87.0,\"y\":566.0},{\"x\":69.0,\"y\":566.0}]},\"inferText\":\"그\",\"inferConfidence\":1.0,\"type\":\"NORMAL\",\"lineBreak\":false},{\"valueType\":\"ALL\",\"boundingPoly\":{\"vertices\":[{\"x\":91.0,\"y\":551.0},{\"x\":123.0,\"y\":551.0},{\"x\":123.0,\"y\":569.0},{\"x\":91.0,\"y\":569.0}]},\"inferText\":\"밖에\",\"inferConfidence\":1.0,\"type\":\"NORMAL\",\"lineBreak\":false},{\"valueType\":\"ALL\",\"boundingPoly\":{\"vertices\":[{\"x\":129.0,\"y\":551.0},{\"x\":177.0,\"y\":551.0},{\"x\":177.0,\"y\":569.0},{\"x\":129.0,\"y\":569.0}]},\"inferText\":\"귀하가\",\"inferConfidence\":1.0,\"type\":\"NORMAL\",\"lineBreak\":false},{\"valueType\":\"ALL\",\"boundingPoly\":{\"vertices\":[{\"x\":182.0,\"y\":551.0},{\"x\":260.0,\"y\":551.0},{\"x\":260.0,\"y\":569.0},{\"x\":182.0,\"y\":569.0}]},\"inferText\":\"필요하다고\",\"inferConfidence\":1.0,\"type\":\"NORMAL\",\"lineBreak\":false},{\"valueType\":\"ALL\",\"boundingPoly\":{\"vertices\":[{\"x\":264.0,\"y\":551.0},{\"x\":327.0,\"y\":551.0},{\"x\":327.0,\"y\":569.0},{\"x\":264.0,\"y\":569.0}]},\"inferText\":\"생각하는\",\"inferConfidence\":1.0,\"type\":\"NORMAL\",\"lineBreak\":false},{\"valueType\":\"ALL\",\"boundingPoly\":{\"vertices\":[{\"x\":331.0,\"y\":551.0},{\"x\":364.0,\"y\":551.0},{\"x\":364.0,\"y\":569.0},{\"x\":331.0,\"y\":569.0}]},\"inferText\":\"자료\",\"inferConfidence\":1.0,\"type\":\"NORMAL\",\"lineBreak\":true},{\"valueType\":\"ALL\",\"boundingPoly\":{\"vertices\":[{\"x\":72.0,\"y\":613.0},{\"x\":121.0,\"y\":613.0},{\"x\":121.0,\"y\":633.0},{\"x\":72.0,\"y\":633.0}]},\"inferText\":\"지정된\",\"inferConfidence\":0.9999,\"type\":\"NORMAL\",\"lineBreak\":false},{\"valueType\":\"ALL\",\"boundingPoly\":{\"vertices\":[{\"x\":124.0,\"y\":613.0},{\"x\":172.0,\"y\":613.0},{\"x\":172.0,\"y\":633.0},{\"x\":124.0,\"y\":633.0}]},\"inferText\":\"일시에\",\"inferConfidence\":1.0,\"type\":\"NORMAL\",\"lineBreak\":false},{\"valueType\":\"ALL\",\"boundingPoly\":{\"vertices\":[{\"x\":177.0,\"y\":613.0},{\"x\":227.0,\"y\":613.0},{\"x\":227.0,\"y\":633.0},{\"x\":177.0,\"y\":633.0}]},\"inferText\":\"출석할\",\"inferConfidence\":0.9758,\"type\":\"NORMAL\",\"lineBreak\":false},{\"valueType\":\"ALL\",\"boundingPoly\":{\"vertices\":[{\"x\":229.0,\"y\":613.0},{\"x\":249.0,\"y\":613.0},{\"x\":249.0,\"y\":632.0},{\"x\":229.0,\"y\":632.0}]},\"inferText\":\"수\",\"inferConfidence\":1.0,\"type\":\"NORMAL\",\"lineBreak\":false},{\"valueType\":\"ALL\",\"boundingPoly\":{\"vertices\":[{\"x\":253.0,\"y\":614.0},{\"x\":286.0,\"y\":614.0},{\"x\":286.0,\"y\":632.0},{\"x\":253.0,\"y\":632.0}]},\"inferText\":\"없는\",\"inferConfidence\":1.0,\"type\":\"NORMAL\",\"lineBreak\":false},{\"valueType\":\"ALL\",\"boundingPoly\":{\"vertices\":[{\"x\":290.0,\"y\":613.0},{\"x\":354.0,\"y\":613.0},{\"x\":354.0,\"y\":633.0},{\"x\":290.0,\"y\":633.0}]},\"inferText\":\"부득이한\",\"inferConfidence\":0.9999,\"type\":\"NORMAL\",\"lineBreak\":false},{\"valueType\":\"ALL\",\"boundingPoly\":{\"vertices\":[{\"x\":357.0,\"y\":613.0},{\"x\":405.0,\"y\":613.0},{\"x\":405.0,\"y\":633.0},{\"x\":357.0,\"y\":633.0}]},\"inferText\":\"사정이\",\"inferConfidence\":1.0,\"type\":\"NORMAL\",\"lineBreak\":false},{\"valueType\":\"ALL\",\"boundingPoly\":{\"vertices\":[{\"x\":410.0,\"y\":613.0},{\"x\":458.0,\"y\":613.0},{\"x\":458.0,\"y\":633.0},{\"x\":410.0,\"y\":633.0}]},\"inferText\":\"있거나\",\"inferConfidence\":1.0,\"type\":\"NORMAL\",\"lineBreak\":false},{\"valueType\":\"ALL\",\"boundingPoly\":{\"vertices\":[{\"x\":462.0,\"y\":613.0},{\"x\":540.0,\"y\":613.0},{\"x\":540.0,\"y\":633.0},{\"x\":462.0,\"y\":633.0}]},\"inferText\":\"사건내용에\",\"inferConfidence\":1.0,\"type\":\"NORMAL\",\"lineBreak\":false},{\"valueType\":\"ALL\",\"boundingPoly\":{\"vertices\":[{\"x\":546.0,\"y\":613.0},{\"x\":592.0,\"y\":613.0},{\"x\":592.0,\"y\":633.0},{\"x\":546.0,\"y\":633.0}]},\"inferText\":\"관하여\",\"inferConfidence\":0.9999,\"type\":\"NORMAL\",\"lineBreak\":true},{\"valueType\":\"ALL\",\"boundingPoly\":{\"vertices\":[{\"x\":70.0,\"y\":642.0},{\"x\":119.0,\"y\":642.0},{\"x\":119.0,\"y\":660.0},{\"x\":70.0,\"y\":660.0}]},\"inferText\":\"문의할\",\"inferConfidence\":0.995,\"type\":\"NORMAL\",\"lineBreak\":false},{\"valueType\":\"ALL\",\"boundingPoly\":{\"vertices\":[{\"x\":120.0,\"y\":640.0},{\"x\":168.0,\"y\":640.0},{\"x\":168.0,\"y\":660.0},{\"x\":120.0,\"y\":660.0}]},\"inferText\":\"사항이\",\"inferConfidence\":1.0,\"type\":\"NORMAL\",\"lineBreak\":false},{\"valueType\":\"ALL\",\"boundingPoly\":{\"vertices\":[{\"x\":172.0,\"y\":642.0},{\"x\":224.0,\"y\":642.0},{\"x\":224.0,\"y\":660.0},{\"x\":172.0,\"y\":660.0}]},\"inferText\":\"있으면,\",\"inferConfidence\":1.0,\"type\":\"NORMAL\",\"lineBreak\":false},{\"valueType\":\"ALL\",\"boundingPoly\":{\"vertices\":[{\"x\":227.0,\"y\":642.0},{\"x\":258.0,\"y\":642.0},{\"x\":258.0,\"y\":660.0},{\"x\":227.0,\"y\":660.0}]},\"inferText\":\"우리\",\"inferConfidence\":1.0,\"type\":\"NORMAL\",\"lineBreak\":false},{\"valueType\":\"ALL\",\"boundingPoly\":{\"vertices\":[{\"x\":263.0,\"y\":641.0},{\"x\":282.0,\"y\":641.0},{\"x\":282.0,\"y\":660.0},{\"x\":263.0,\"y\":660.0}]},\"inferText\":\"부\",\"inferConfidence\":1.0,\"type\":\"NORMAL\",\"lineBreak\":false},{\"valueType\":\"ALL\",\"boundingPoly\":{\"vertices\":[{\"x\":285.0,\"y\":641.0},{\"x\":382.0,\"y\":642.0},{\"x\":382.0,\"y\":661.0},{\"x\":285.0,\"y\":660.0}]},\"inferText\":\"검찰관실(전화\",\"inferConfidence\":0.9999,\"type\":\"NORMAL\",\"lineBreak\":false},{\"valueType\":\"ALL\",\"boundingPoly\":{\"vertices\":[{\"x\":458.0,\"y\":642.0},{\"x\":505.0,\"y\":642.0},{\"x\":505.0,\"y\":660.0},{\"x\":458.0,\"y\":660.0}]},\"inferText\":\"담당자\",\"inferConfidence\":1.0,\"type\":\"NORMAL\",\"lineBreak\":false},{\"valueType\":\"ALL\",\"boundingPoly\":{\"vertices\":[{\"x\":564.0,\"y\":643.0},{\"x\":589.0,\"y\":643.0},{\"x\":589.0,\"y\":658.0},{\"x\":564.0,\"y\":658.0}]},\"inferText\":\")로\",\"inferConfidence\":1.0,\"type\":\"NORMAL\",\"lineBreak\":true},{\"valueType\":\"ALL\",\"boundingPoly\":{\"vertices\":[{\"x\":71.0,\"y\":670.0},{\"x\":132.0,\"y\":670.0},{\"x\":132.0,\"y\":690.0},{\"x\":71.0,\"y\":690.0}]},\"inferText\":\"연락하여\",\"inferConfidence\":1.0,\"type\":\"NORMAL\",\"lineBreak\":false},{\"valueType\":\"ALL\",\"boundingPoly\":{\"vertices\":[{\"x\":138.0,\"y\":670.0},{\"x\":217.0,\"y\":670.0},{\"x\":217.0,\"y\":689.0},{\"x\":138.0,\"y\":689.0}]},\"inferText\":\"출석일시를\",\"inferConfidence\":0.9997,\"type\":\"NORMAL\",\"lineBreak\":false},{\"valueType\":\"ALL\",\"boundingPoly\":{\"vertices\":[{\"x\":221.0,\"y\":670.0},{\"x\":300.0,\"y\":670.0},{\"x\":300.0,\"y\":690.0},{\"x\":221.0,\"y\":690.0}]},\"inferText\":\"협의하거나\",\"inferConfidence\":0.9999,\"type\":\"NORMAL\",\"lineBreak\":false},{\"valueType\":\"ALL\",\"boundingPoly\":{\"vertices\":[{\"x\":302.0,\"y\":670.0},{\"x\":381.0,\"y\":670.0},{\"x\":381.0,\"y\":690.0},{\"x\":302.0,\"y\":690.0}]},\"inferText\":\"사건내용을\",\"inferConfidence\":0.9999,\"type\":\"NORMAL\",\"lineBreak\":false},{\"valueType\":\"ALL\",\"boundingPoly\":{\"vertices\":[{\"x\":385.0,\"y\":670.0},{\"x\":463.0,\"y\":670.0},{\"x\":463.0,\"y\":690.0},{\"x\":385.0,\"y\":690.0}]},\"inferText\":\"문의하시기\",\"inferConfidence\":1.0,\"type\":\"NORMAL\",\"lineBreak\":false},{\"valueType\":\"ALL\",\"boundingPoly\":{\"vertices\":[{\"x\":468.0,\"y\":670.0},{\"x\":535.0,\"y\":670.0},{\"x\":535.0,\"y\":690.0},{\"x\":468.0,\"y\":690.0}]},\"inferText\":\"바랍니다.\",\"inferConfidence\":1.0,\"type\":\"NORMAL\",\"lineBreak\":true},{\"valueType\":\"ALL\",\"boundingPoly\":{\"vertices\":[{\"x\":281.0,\"y\":737.0},{\"x\":301.0,\"y\":737.0},{\"x\":301.0,\"y\":751.0},{\"x\":281.0,\"y\":751.0}]},\"inferText\":\"20\",\"inferConfidence\":1.0,\"type\":\"NORMAL\",\"lineBreak\":true},{\"valueType\":\"ALL\",\"boundingPoly\":{\"vertices\":[{\"x\":283.0,\"y\":771.0},{\"x\":409.0,\"y\":771.0},{\"x\":409.0,\"y\":789.0},{\"x\":283.0,\"y\":789.0}]},\"inferText\":\"OOO보통검찰부\",\"inferConfidence\":0.952,\"type\":\"NORMAL\",\"lineBreak\":true},{\"valueType\":\"ALL\",\"boundingPoly\":{\"vertices\":[{\"x\":281.0,\"y\":807.0},{\"x\":331.0,\"y\":807.0},{\"x\":331.0,\"y\":825.0},{\"x\":281.0,\"y\":825.0}]},\"inferText\":\"검찰관\",\"inferConfidence\":0.9997,\"type\":\"NORMAL\",\"lineBreak\":false},{\"valueType\":\"ALL\",\"boundingPoly\":{\"vertices\":[{\"x\":484.0,\"y\":807.0},{\"x\":560.0,\"y\":807.0},{\"x\":560.0,\"y\":824.0},{\"x\":484.0,\"y\":824.0}]},\"inferText\":\"(서명 또는\",\"inferConfidence\":1.0,\"type\":\"NORMAL\",\"lineBreak\":false},{\"valueType\":\"ALL\",\"boundingPoly\":{\"vertices\":[{\"x\":566.0,\"y\":808.0},{\"x\":589.0,\"y\":808.0},{\"x\":589.0,\"y\":824.0},{\"x\":566.0,\"y\":824.0}]},\"inferText\":\"인)\",\"inferConfidence\":0.9975,\"type\":\"NORMAL\",\"lineBreak\":true}]}]}\n"
     ]
    }
   ],
   "source": [
    "print(response.text)"
   ]
  },
  {
   "cell_type": "code",
   "execution_count": 53,
   "id": "73531538-7d7a-467e-b987-fe4c4c2338a0",
   "metadata": {},
   "outputs": [],
   "source": [
    "json_data = response.text"
   ]
  },
  {
   "cell_type": "code",
   "execution_count": 54,
   "id": "2448750e-fa29-45cd-b8f0-60692b954229",
   "metadata": {},
   "outputs": [],
   "source": [
    "data = json.loads(json_data)"
   ]
  },
  {
   "cell_type": "code",
   "execution_count": 55,
   "id": "6640893b-0e09-49ec-9cfe-45cee5246514",
   "metadata": {},
   "outputs": [],
   "source": [
    "text_lines = [field['inferText'] for image in data['images'] for field in image['fields']]"
   ]
  },
  {
   "cell_type": "code",
   "execution_count": 56,
   "id": "ca5aeaec-7800-4ca5-a74d-8ba3f6a432d6",
   "metadata": {},
   "outputs": [
    {
     "name": "stdout",
     "output_type": "stream",
     "text": [
      "[별지제17호서식] 년 형제 호 참고인 출석요구서 피의자 피의 피내사자 에 대한 내사 사건의 참고인으로 문의드릴 피진정인 진정 일이 있으니 · · · 오전(후) 시에 우리 부 호 검찰관실로 출석 하여 주시기 바랍니다. 조사에 걸리는 시간은 시간 정도로 예상되며 출석한 참고인에게는 소정의 여비를 지급해 드립니다. 준비사항 1. 출석요구서, 주민등록증(또는 운전면허증 등 그 밖에 본인임을 확인할 수 있는 자료) 및 도장 2. 3. 4. 그 밖에 귀하가 필요하다고 생각하는 자료 지정된 일시에 출석할 수 없는 부득이한 사정이 있거나 사건내용에 관하여 문의할 사항이 있으면, 우리 부 검찰관실(전화 담당자 )로 연락하여 출석일시를 협의하거나 사건내용을 문의하시기 바랍니다. 20 OOO보통검찰부 검찰관 (서명 또는 인)\n"
     ]
    }
   ],
   "source": [
    "output_text = ' '.join(text_lines)\n",
    "print(output_text)"
   ]
  },
  {
   "cell_type": "code",
   "execution_count": null,
   "id": "d37c62db-2006-45d8-82f7-3504956b2f8a",
   "metadata": {},
   "outputs": [],
   "source": []
  },
  {
   "cell_type": "code",
   "execution_count": 34,
   "id": "2c8906a0-b935-4eda-899d-e5b07c514819",
   "metadata": {},
   "outputs": [
    {
     "name": "stdout",
     "output_type": "stream",
     "text": [
      "An error occurred: HTTPConnectionPool(host='clovaocr-api-kr.ncloud.com', port=80): Max retries exceeded with url: /external/v1/33291/7f1164f470aecfdf9b5f94794f401a98af2a9ccdac856556148665e18e68d0a6 (Caused by ConnectTimeoutError(<urllib3.connection.HTTPConnection object at 0x00000267D7FED650>, 'Connection to clovaocr-api-kr.ncloud.com timed out. (connect timeout=10)'))\n"
     ]
    }
   ],
   "source": [
    "import requests\n",
    "\n",
    "test_url = \"http://clovaocr-api-kr.ncloud.com/external/v1/33291/7f1164f470aecfdf9b5f94794f401a98af2a9ccdac856556148665e18e68d0a6\"\n",
    "try:\n",
    "    response = requests.get(test_url, timeout=10)\n",
    "    print(f\"Status Code: {response.status_code}\")\n",
    "    if response.ok:\n",
    "        print(\"Successfully connected to the API.\")\n",
    "    else:\n",
    "        print(\"Failed to connect to the API.\")\n",
    "except requests.exceptions.RequestException as e:\n",
    "    print(f\"An error occurred: {e}\")"
   ]
  },
  {
   "cell_type": "code",
   "execution_count": null,
   "id": "c0f51987-664c-4511-aa52-b9bfc180ed26",
   "metadata": {},
   "outputs": [],
   "source": []
  },
  {
   "cell_type": "code",
   "execution_count": null,
   "id": "536f73df-1da9-445e-bf78-37b39360ff54",
   "metadata": {},
   "outputs": [],
   "source": []
  }
 ],
 "metadata": {
  "kernelspec": {
   "display_name": "Python 3 (ipykernel)",
   "language": "python",
   "name": "python3"
  },
  "language_info": {
   "codemirror_mode": {
    "name": "ipython",
    "version": 3
   },
   "file_extension": ".py",
   "mimetype": "text/x-python",
   "name": "python",
   "nbconvert_exporter": "python",
   "pygments_lexer": "ipython3",
   "version": "3.11.7"
  }
 },
 "nbformat": 4,
 "nbformat_minor": 5
}
