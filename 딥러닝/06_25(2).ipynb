{
 "cells": [
  {
   "cell_type": "code",
   "execution_count": 1,
   "id": "4185034c-27d8-4923-9484-db9bb83b45ef",
   "metadata": {},
   "outputs": [],
   "source": [
    "# MNIST 데이터를 학습하기 위한 모델을 정의하세요.\n",
    "# 은닉층은 2개, 각 층의 뉴런의 개수는 300게, 200개로 하세요.\n",
    "# 은닉층의 활성화 함수는 relu를 사용하세요."
   ]
  },
  {
   "cell_type": "code",
   "execution_count": 2,
   "id": "50036f13-e718-4a1c-8ed7-e59985b8b364",
   "metadata": {},
   "outputs": [],
   "source": [
    "#훈련을 정의하세요.\n",
    "#손실함수는 크로스엔트로피, 옵티마이저는 adam 사용"
   ]
  },
  {
   "cell_type": "code",
   "execution_count": 3,
   "id": "dadd206c-7404-4f15-953b-7e63f213ce5b",
   "metadata": {},
   "outputs": [],
   "source": [
    "#MNIST 데이터를 불러와 0~1사이로 표준화 하세요"
   ]
  },
  {
   "cell_type": "code",
   "execution_count": 4,
   "id": "7c95b647-fb72-45ac-b6e9-aec638adbe5a",
   "metadata": {},
   "outputs": [],
   "source": [
    "from tensorflow.keras.models import Sequential\n",
    "from tensorflow.keras.layers import Flatten, Dense, Dropout"
   ]
  },
  {
   "cell_type": "code",
   "execution_count": 5,
   "id": "d24a5ad4-2539-42d1-89dd-1112b4e34c1a",
   "metadata": {},
   "outputs": [],
   "source": [
    "model = Sequential([\n",
    "    Flatten(input_shape=(28,28)),\n",
    "    Dense(300, activation='relu'),\n",
    "    Dense(200, activation='relu'),\n",
    "    Dense(10, activation='softmax')\n",
    "])"
   ]
  },
  {
   "cell_type": "code",
   "execution_count": 6,
   "id": "0705ad70-e0d4-424b-9f0c-b44f04dff3a9",
   "metadata": {},
   "outputs": [
    {
     "name": "stdout",
     "output_type": "stream",
     "text": [
      "Model: \"sequential\"\n",
      "_________________________________________________________________\n",
      " Layer (type)                Output Shape              Param #   \n",
      "=================================================================\n",
      " flatten (Flatten)           (None, 784)               0         \n",
      "                                                                 \n",
      " dense (Dense)               (None, 300)               235500    \n",
      "                                                                 \n",
      " dense_1 (Dense)             (None, 200)               60200     \n",
      "                                                                 \n",
      " dense_2 (Dense)             (None, 10)                2010      \n",
      "                                                                 \n",
      "=================================================================\n",
      "Total params: 297710 (1.14 MB)\n",
      "Trainable params: 297710 (1.14 MB)\n",
      "Non-trainable params: 0 (0.00 Byte)\n",
      "_________________________________________________________________\n"
     ]
    }
   ],
   "source": [
    "model.summary()"
   ]
  },
  {
   "cell_type": "code",
   "execution_count": 7,
   "id": "ba01b1ce-d421-4255-9ffe-d35b13142f04",
   "metadata": {},
   "outputs": [],
   "source": [
    "from tensorflow.keras.datasets import mnist\n",
    "(train_X, train_y), (test_X, test_y) = mnist.load_data()\n",
    "train_X = train_X/255.0\n",
    "test_X = test_X/255.0"
   ]
  },
  {
   "cell_type": "code",
   "execution_count": 8,
   "id": "fabfc6d7-e5a8-4ec8-9e8e-7cb3c6c8fbad",
   "metadata": {},
   "outputs": [],
   "source": [
    "model.compile(loss='sparse_categorical_crossentropy', optimizer='adam', metrics=['accuracy'])"
   ]
  },
  {
   "cell_type": "code",
   "execution_count": 9,
   "id": "30dfa87c-f846-449c-bac3-5ec4c2fdbede",
   "metadata": {},
   "outputs": [],
   "source": [
    "checkpoint_dir = 'C:/Users/kosa/인공신경망/'"
   ]
  },
  {
   "cell_type": "code",
   "execution_count": 10,
   "id": "62436ee2-1645-4a35-96ae-f13bf4cf2169",
   "metadata": {},
   "outputs": [],
   "source": [
    "#checkpoint callback\n",
    "from tensorflow.keras.callbacks import ModelCheckpoint\n",
    "checkpoint_path = checkpoint_dir + 'mnist_model_{epoch:02d}_{val_accuracy:.4f}.h5'\n",
    "checkpoint = ModelCheckpoint(checkpoint_path,\n",
    "                             save_best_only=True,\n",
    "                             verbose=1)"
   ]
  },
  {
   "cell_type": "code",
   "execution_count": 11,
   "id": "c1f0487f-4205-4c8a-9d80-c915a80d9937",
   "metadata": {},
   "outputs": [],
   "source": [
    "# #early stopping\n",
    "# from tensorflow.keras.callbacks import EarlyStopping\n",
    "# early_stopping = EarlyStopping(monitor='val_accuracy', patience=3)"
   ]
  },
  {
   "cell_type": "code",
   "execution_count": 12,
   "id": "f0d5556f-5925-47fa-8f7d-86f18bd7cecb",
   "metadata": {},
   "outputs": [
    {
     "name": "stdout",
     "output_type": "stream",
     "text": [
      "Epoch 1/10\n",
      "53/60 [=========================>....] - ETA: 0s - loss: 0.6245 - accuracy: 0.8378\n",
      "Epoch 1: val_loss improved from inf to 0.23442, saving model to C:/Users/kosa/인공신경망\\mnist_model_01_0.9317.h5\n",
      "60/60 [==============================] - 1s 10ms/step - loss: 0.5818 - accuracy: 0.8481 - val_loss: 0.2344 - val_accuracy: 0.9317\n",
      "Epoch 2/10\n",
      "23/60 [==========>...................] - ETA: 0s - loss: 0.2217 - accuracy: 0.9368"
     ]
    },
    {
     "name": "stderr",
     "output_type": "stream",
     "text": [
      "C:\\Users\\kosa\\anaconda3\\envs\\tf2.14\\Lib\\site-packages\\keras\\src\\engine\\training.py:3079: UserWarning: You are saving your model as an HDF5 file via `model.save()`. This file format is considered legacy. We recommend using instead the native Keras format, e.g. `model.save('my_model.keras')`.\n",
      "  saving_api.save_model(\n"
     ]
    },
    {
     "name": "stdout",
     "output_type": "stream",
     "text": [
      "57/60 [===========================>..] - ETA: 0s - loss: 0.2040 - accuracy: 0.9407\n",
      "Epoch 2: val_loss improved from 0.23442 to 0.16447, saving model to C:/Users/kosa/인공신경망\\mnist_model_02_0.9527.h5\n",
      "60/60 [==============================] - 0s 8ms/step - loss: 0.2018 - accuracy: 0.9411 - val_loss: 0.1645 - val_accuracy: 0.9527\n",
      "Epoch 3/10\n",
      "59/60 [============================>.] - ETA: 0s - loss: 0.1420 - accuracy: 0.9593\n",
      "Epoch 3: val_loss improved from 0.16447 to 0.13082, saving model to C:/Users/kosa/인공신경망\\mnist_model_03_0.9617.h5\n",
      "60/60 [==============================] - 0s 8ms/step - loss: 0.1420 - accuracy: 0.9593 - val_loss: 0.1308 - val_accuracy: 0.9617\n",
      "Epoch 4/10\n",
      "52/60 [=========================>....] - ETA: 0s - loss: 0.1094 - accuracy: 0.9690\n",
      "Epoch 4: val_loss improved from 0.13082 to 0.10695, saving model to C:/Users/kosa/인공신경망\\mnist_model_04_0.9664.h5\n",
      "60/60 [==============================] - 0s 8ms/step - loss: 0.1076 - accuracy: 0.9693 - val_loss: 0.1070 - val_accuracy: 0.9664\n",
      "Epoch 5/10\n",
      "55/60 [==========================>...] - ETA: 0s - loss: 0.0851 - accuracy: 0.9759\n",
      "Epoch 5: val_loss improved from 0.10695 to 0.09252, saving model to C:/Users/kosa/인공신경망\\mnist_model_05_0.9718.h5\n",
      "60/60 [==============================] - 0s 8ms/step - loss: 0.0847 - accuracy: 0.9759 - val_loss: 0.0925 - val_accuracy: 0.9718\n",
      "Epoch 6/10\n",
      "55/60 [==========================>...] - ETA: 0s - loss: 0.0697 - accuracy: 0.9799\n",
      "Epoch 6: val_loss improved from 0.09252 to 0.08736, saving model to C:/Users/kosa/인공신경망\\mnist_model_06_0.9727.h5\n",
      "60/60 [==============================] - 0s 8ms/step - loss: 0.0690 - accuracy: 0.9801 - val_loss: 0.0874 - val_accuracy: 0.9727\n",
      "Epoch 7/10\n",
      "56/60 [===========================>..] - ETA: 0s - loss: 0.0577 - accuracy: 0.9832\n",
      "Epoch 7: val_loss improved from 0.08736 to 0.08671, saving model to C:/Users/kosa/인공신경망\\mnist_model_07_0.9714.h5\n",
      "60/60 [==============================] - 1s 8ms/step - loss: 0.0572 - accuracy: 0.9835 - val_loss: 0.0867 - val_accuracy: 0.9714\n",
      "Epoch 8/10\n",
      "56/60 [===========================>..] - ETA: 0s - loss: 0.0466 - accuracy: 0.9866\n",
      "Epoch 8: val_loss improved from 0.08671 to 0.07374, saving model to C:/Users/kosa/인공신경망\\mnist_model_08_0.9760.h5\n",
      "60/60 [==============================] - 0s 8ms/step - loss: 0.0461 - accuracy: 0.9867 - val_loss: 0.0737 - val_accuracy: 0.9760\n",
      "Epoch 9/10\n",
      "55/60 [==========================>...] - ETA: 0s - loss: 0.0381 - accuracy: 0.9891\n",
      "Epoch 9: val_loss did not improve from 0.07374\n",
      "60/60 [==============================] - 0s 8ms/step - loss: 0.0382 - accuracy: 0.9892 - val_loss: 0.0771 - val_accuracy: 0.9768\n",
      "Epoch 10/10\n",
      "52/60 [=========================>....] - ETA: 0s - loss: 0.0335 - accuracy: 0.9911\n",
      "Epoch 10: val_loss improved from 0.07374 to 0.06796, saving model to C:/Users/kosa/인공신경망\\mnist_model_10_0.9783.h5\n",
      "60/60 [==============================] - 0s 8ms/step - loss: 0.0332 - accuracy: 0.9912 - val_loss: 0.0680 - val_accuracy: 0.9783\n"
     ]
    },
    {
     "data": {
      "text/plain": [
       "<keras.src.callbacks.History at 0x22f1d9059d0>"
      ]
     },
     "execution_count": 12,
     "metadata": {},
     "output_type": "execute_result"
    }
   ],
   "source": [
    "model.fit(train_X, train_y, validation_data=(test_X, test_y), epochs=10, batch_size=1000,\n",
    "         callbacks=[checkpoint])"
   ]
  },
  {
   "cell_type": "code",
   "execution_count": null,
   "id": "68573b5c-7e91-4876-8730-d423270348e3",
   "metadata": {},
   "outputs": [],
   "source": []
  }
 ],
 "metadata": {
  "kernelspec": {
   "display_name": "tf2.14",
   "language": "python",
   "name": "tf2.14"
  },
  "language_info": {
   "codemirror_mode": {
    "name": "ipython",
    "version": 3
   },
   "file_extension": ".py",
   "mimetype": "text/x-python",
   "name": "python",
   "nbconvert_exporter": "python",
   "pygments_lexer": "ipython3",
   "version": "3.11.9"
  }
 },
 "nbformat": 4,
 "nbformat_minor": 5
}
