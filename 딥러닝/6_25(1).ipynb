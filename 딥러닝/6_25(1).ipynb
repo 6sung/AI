{
 "cells": [
  {
   "cell_type": "code",
   "execution_count": 1,
   "id": "30a1e156-e6b6-45eb-8eb3-385431a68c1f",
   "metadata": {},
   "outputs": [
    {
     "name": "stdout",
     "output_type": "stream",
     "text": [
      "Model: \"sequential\"\n",
      "_________________________________________________________________\n",
      " Layer (type)                Output Shape              Param #   \n",
      "=================================================================\n",
      " flatten (Flatten)           (None, 784)               0         \n",
      "                                                                 \n",
      " dense (Dense)               (None, 360)               282600    \n",
      "                                                                 \n",
      " dense_1 (Dense)             (None, 128)               46208     \n",
      "                                                                 \n",
      " dropout (Dropout)           (None, 128)               0         \n",
      "                                                                 \n",
      " dense_2 (Dense)             (None, 10)                1290      \n",
      "                                                                 \n",
      "=================================================================\n",
      "Total params: 330098 (1.26 MB)\n",
      "Trainable params: 330098 (1.26 MB)\n",
      "Non-trainable params: 0 (0.00 Byte)\n",
      "_________________________________________________________________\n"
     ]
    }
   ],
   "source": [
    "# 모델 정의하기\n",
    "from tensorflow.keras.models import Sequential\n",
    "from tensorflow.keras.layers import Flatten, Dense, Dropout\n",
    "\n",
    "model = Sequential([\n",
    "    Flatten(input_shape=(28,28)),\n",
    "    Dense(360, activation='relu'),\n",
    "    Dense(128, activation='relu'),\n",
    "    Dropout(0.2), # 이 층의 뉴런 20%를 가중치 업데이트 안함\n",
    "    Dense(10, activation='softmax')\n",
    "])\n",
    "model.summary()"
   ]
  },
  {
   "cell_type": "code",
   "execution_count": 12,
   "id": "ae2378a9-d899-4213-9e69-6828979e24db",
   "metadata": {},
   "outputs": [],
   "source": [
    "from tensorflow.keras.datasets import mnist\n",
    "(train_X, train_y), (test_X, test_y) = mnist.load_data()\n",
    "train_X = train_X / 255.0  #화소는 0~255값을 가짐. 0~1 사이로 표준화\n",
    "test_X = test_X / 255.0"
   ]
  },
  {
   "cell_type": "code",
   "execution_count": 8,
   "id": "817e8017-60e4-4743-bdb0-46b9920a5fc2",
   "metadata": {},
   "outputs": [
    {
     "data": {
      "image/png": "[encoded data removed]",
      "text/plain": [
       "<Figure size 200x200 with 16 Axes>"
      ]
     },
     "metadata": {},
     "output_type": "display_data"
    }
   ],
   "source": [
    "import matplotlib.pyplot as plt\n",
    "plt.figure(figsize=(2,2))\n",
    "for i in range(16):\n",
    "    plt.subplot(4,4,i+1)\n",
    "    plt.imshow(train_X[i,...], cmap='gray')\n",
    "    plt.axis('off')\n",
    "plt.show()"
   ]
  },
  {
   "cell_type": "code",
   "execution_count": 5,
   "id": "52a46bd5-54d5-4282-90e5-856a96e80e77",
   "metadata": {},
   "outputs": [
    {
     "name": "stdout",
     "output_type": "stream",
     "text": [
      "(60000, 28, 28) (60000,) (10000, 28, 28) (10000,)\n"
     ]
    }
   ],
   "source": [
    "print(train_X.shape, train_y.shape, test_X.shape, test_y.shape)"
   ]
  },
  {
   "cell_type": "code",
   "execution_count": 6,
   "id": "36335007-2f9d-4b3b-81d8-89b5515a90bd",
   "metadata": {},
   "outputs": [],
   "source": [
    "model.compile(loss='sparse_categorical_crossentropy', optimizer='SGD', metrics=['accuracy'])"
   ]
  },
  {
   "cell_type": "code",
   "execution_count": 7,
   "id": "a310b7f0-6dc3-49f1-bfbd-6a764426b858",
   "metadata": {},
   "outputs": [
    {
     "name": "stdout",
     "output_type": "stream",
     "text": [
      "Epoch 1/5\n",
      "600/600 [==============================] - 2s 3ms/step - loss: 1.0963 - accuracy: 0.7139\n",
      "Epoch 2/5\n",
      "600/600 [==============================] - 1s 2ms/step - loss: 0.4737 - accuracy: 0.8673\n",
      "Epoch 3/5\n",
      "600/600 [==============================] - 2s 3ms/step - loss: 0.3807 - accuracy: 0.8911\n",
      "Epoch 4/5\n",
      "600/600 [==============================] - 2s 3ms/step - loss: 0.3360 - accuracy: 0.9036\n",
      "Epoch 5/5\n",
      "600/600 [==============================] - 2s 3ms/step - loss: 0.3058 - accuracy: 0.9121\n"
     ]
    },
    {
     "data": {
      "text/plain": [
       "<keras.src.callbacks.History at 0x2226f806b10>"
      ]
     },
     "execution_count": 7,
     "metadata": {},
     "output_type": "execute_result"
    }
   ],
   "source": [
    "model.fit(train_X, train_y, batch_size=100, epochs=5)"
   ]
  },
  {
   "cell_type": "code",
   "execution_count": 9,
   "id": "f4dd5ff5-4bcf-4730-a9c7-e13e5b13645e",
   "metadata": {},
   "outputs": [],
   "source": [
    "model.save('mnist_model.keras')"
   ]
  },
  {
   "cell_type": "code",
   "execution_count": 10,
   "id": "8051b92c-9edb-4cdb-8a0f-ac14922c66d2",
   "metadata": {},
   "outputs": [],
   "source": [
    "from tensorflow.keras.models import load_model\n",
    "model2 = load_model('mnist_model.keras')"
   ]
  },
  {
   "cell_type": "code",
   "execution_count": 11,
   "id": "75c1bf41-f5e2-44f1-a6d4-de407b17d0a2",
   "metadata": {},
   "outputs": [
    {
     "name": "stdout",
     "output_type": "stream",
     "text": [
      "Model: \"sequential\"\n",
      "_________________________________________________________________\n",
      " Layer (type)                Output Shape              Param #   \n",
      "=================================================================\n",
      " flatten (Flatten)           (None, 784)               0         \n",
      "                                                                 \n",
      " dense (Dense)               (None, 360)               282600    \n",
      "                                                                 \n",
      " dense_1 (Dense)             (None, 128)               46208     \n",
      "                                                                 \n",
      " dropout (Dropout)           (None, 128)               0         \n",
      "                                                                 \n",
      " dense_2 (Dense)             (None, 10)                1290      \n",
      "                                                                 \n",
      "=================================================================\n",
      "Total params: 330098 (1.26 MB)\n",
      "Trainable params: 330098 (1.26 MB)\n",
      "Non-trainable params: 0 (0.00 Byte)\n",
      "_________________________________________________________________\n"
     ]
    }
   ],
   "source": [
    "model2.summary()"
   ]
  },
  {
   "cell_type": "code",
   "execution_count": 13,
   "id": "ef9d4329-b93d-4ace-af1b-0429371c45af",
   "metadata": {},
   "outputs": [
    {
     "name": "stdout",
     "output_type": "stream",
     "text": [
      "313/313 [==============================] - 0s 978us/step\n"
     ]
    }
   ],
   "source": [
    "pred = model2.predict(test_X)"
   ]
  },
  {
   "cell_type": "code",
   "execution_count": 14,
   "id": "9c1ee41c-978b-417b-b687-a6b1f6ab4be2",
   "metadata": {},
   "outputs": [
    {
     "name": "stdout",
     "output_type": "stream",
     "text": [
      "[[4.93135267e-05 8.82112181e-06 6.51320210e-04 ... 9.93814111e-01\n",
      "  2.68693020e-05 7.44595716e-04]\n",
      " [1.02510089e-02 2.22817325e-04 8.39169800e-01 ... 1.89635994e-05\n",
      "  4.24025813e-03 3.26774875e-06]\n",
      " [6.12935051e-04 9.59405065e-01 1.02024116e-02 ... 7.21935136e-03\n",
      "  6.05775695e-03 2.62574782e-03]\n",
      " ...\n",
      " [1.40922373e-06 1.37073703e-05 2.35275947e-05 ... 3.94724077e-04\n",
      "  6.61610812e-03 1.93574522e-02]\n",
      " [2.43527535e-03 6.50078151e-03 8.17096268e-04 ... 7.44729943e-04\n",
      "  1.17642485e-01 1.72086421e-03]\n",
      " [3.13047094e-05 1.82612666e-07 7.00685487e-04 ... 2.45990122e-07\n",
      "  2.11249858e-06 2.27911045e-07]]\n"
     ]
    }
   ],
   "source": [
    "print(pred)"
   ]
  },
  {
   "cell_type": "code",
   "execution_count": 15,
   "id": "f2d0fffc-2911-4481-9c2b-b845a4b5137d",
   "metadata": {},
   "outputs": [
    {
     "name": "stdout",
     "output_type": "stream",
     "text": [
      "[7 2 1 ... 4 5 6]\n"
     ]
    }
   ],
   "source": [
    "import numpy as np\n",
    "print(np.argmax(pred, axis=1))"
   ]
  },
  {
   "cell_type": "code",
   "execution_count": 16,
   "id": "e2a02f74-1402-4d3f-b53b-3a64b185b310",
   "metadata": {},
   "outputs": [
    {
     "name": "stdout",
     "output_type": "stream",
     "text": [
      "{\"class_name\": \"Sequential\", \"config\": {\"name\": \"sequential\", \"layers\": [{\"module\": \"keras.layers\", \"class_name\": \"InputLayer\", \"config\": {\"batch_input_shape\": [null, 28, 28], \"dtype\": \"float32\", \"sparse\": false, \"ragged\": false, \"name\": \"flatten_input\"}, \"registered_name\": null}, {\"module\": \"keras.layers\", \"class_name\": \"Flatten\", \"config\": {\"name\": \"flatten\", \"trainable\": true, \"dtype\": \"float32\", \"batch_input_shape\": [null, 28, 28], \"data_format\": \"channels_last\"}, \"registered_name\": null, \"build_config\": {\"input_shape\": [null, 28, 28]}}, {\"module\": \"keras.layers\", \"class_name\": \"Dense\", \"config\": {\"name\": \"dense\", \"trainable\": true, \"dtype\": \"float32\", \"units\": 360, \"activation\": \"relu\", \"use_bias\": true, \"kernel_initializer\": {\"module\": \"keras.initializers\", \"class_name\": \"GlorotUniform\", \"config\": {\"seed\": null}, \"registered_name\": null}, \"bias_initializer\": {\"module\": \"keras.initializers\", \"class_name\": \"Zeros\", \"config\": {}, \"registered_name\": null}, \"kernel_regularizer\": null, \"bias_regularizer\": null, \"activity_regularizer\": null, \"kernel_constraint\": null, \"bias_constraint\": null}, \"registered_name\": null, \"build_config\": {\"input_shape\": [null, 784]}}, {\"module\": \"keras.layers\", \"class_name\": \"Dense\", \"config\": {\"name\": \"dense_1\", \"trainable\": true, \"dtype\": \"float32\", \"units\": 128, \"activation\": \"relu\", \"use_bias\": true, \"kernel_initializer\": {\"module\": \"keras.initializers\", \"class_name\": \"GlorotUniform\", \"config\": {\"seed\": null}, \"registered_name\": null}, \"bias_initializer\": {\"module\": \"keras.initializers\", \"class_name\": \"Zeros\", \"config\": {}, \"registered_name\": null}, \"kernel_regularizer\": null, \"bias_regularizer\": null, \"activity_regularizer\": null, \"kernel_constraint\": null, \"bias_constraint\": null}, \"registered_name\": null, \"build_config\": {\"input_shape\": [null, 360]}}, {\"module\": \"keras.layers\", \"class_name\": \"Dropout\", \"config\": {\"name\": \"dropout\", \"trainable\": true, \"dtype\": \"float32\", \"rate\": 0.2, \"noise_shape\": null, \"seed\": null}, \"registered_name\": null, \"build_config\": {\"input_shape\": [null, 128]}}, {\"module\": \"keras.layers\", \"class_name\": \"Dense\", \"config\": {\"name\": \"dense_2\", \"trainable\": true, \"dtype\": \"float32\", \"units\": 10, \"activation\": \"softmax\", \"use_bias\": true, \"kernel_initializer\": {\"module\": \"keras.initializers\", \"class_name\": \"GlorotUniform\", \"config\": {\"seed\": null}, \"registered_name\": null}, \"bias_initializer\": {\"module\": \"keras.initializers\", \"class_name\": \"Zeros\", \"config\": {}, \"registered_name\": null}, \"kernel_regularizer\": null, \"bias_regularizer\": null, \"activity_regularizer\": null, \"kernel_constraint\": null, \"bias_constraint\": null}, \"registered_name\": null, \"build_config\": {\"input_shape\": [null, 128]}}]}, \"keras_version\": \"2.14.0\", \"backend\": \"tensorflow\"}\n"
     ]
    }
   ],
   "source": [
    "json_str = model.to_json()\n",
    "print(json_str)"
   ]
  },
  {
   "cell_type": "code",
   "execution_count": 19,
   "id": "510f412e-c41a-4f8e-b2bd-db24a50b563b",
   "metadata": {},
   "outputs": [],
   "source": [
    "import json\n",
    "json_dic = json.loads(json_str)\n",
    "with open(\"mnist_model.json\",'w') as f:\n",
    "    json.dump(json_dic, f, indent=4)"
   ]
  },
  {
   "cell_type": "code",
   "execution_count": 20,
   "id": "4d98ccc6-35ae-481d-a27a-01ebcac6b9a6",
   "metadata": {},
   "outputs": [],
   "source": [
    "with open('mnist_model.json', 'r') as f:\n",
    "    model_json = f.read()"
   ]
  },
  {
   "cell_type": "code",
   "execution_count": 21,
   "id": "13147678-ad0b-4294-a2f8-77d1a2a45695",
   "metadata": {},
   "outputs": [
    {
     "name": "stdout",
     "output_type": "stream",
     "text": [
      "{\n",
      "    \"class_name\": \"Sequential\",\n",
      "    \"config\": {\n",
      "        \"name\": \"sequential\",\n",
      "        \"layers\": [\n",
      "            {\n",
      "                \"module\": \"keras.layers\",\n",
      "                \"class_name\": \"InputLayer\",\n",
      "                \"config\": {\n",
      "                    \"batch_input_shape\": [\n",
      "                        null,\n",
      "                        28,\n",
      "                        28\n",
      "                    ],\n",
      "                    \"dtype\": \"float32\",\n",
      "                    \"sparse\": false,\n",
      "                    \"ragged\": false,\n",
      "                    \"name\": \"flatten_input\"\n",
      "                },\n",
      "                \"registered_name\": null\n",
      "            },\n",
      "            {\n",
      "                \"module\": \"keras.layers\",\n",
      "                \"class_name\": \"Flatten\",\n",
      "                \"config\": {\n",
      "                    \"name\": \"flatten\",\n",
      "                    \"trainable\": true,\n",
      "                    \"dtype\": \"float32\",\n",
      "                    \"batch_input_shape\": [\n",
      "                        null,\n",
      "                        28,\n",
      "                        28\n",
      "                    ],\n",
      "                    \"data_format\": \"channels_last\"\n",
      "                },\n",
      "                \"registered_name\": null,\n",
      "                \"build_config\": {\n",
      "                    \"input_shape\": [\n",
      "                        null,\n",
      "                        28,\n",
      "                        28\n",
      "                    ]\n",
      "                }\n",
      "            },\n",
      "            {\n",
      "                \"module\": \"keras.layers\",\n",
      "                \"class_name\": \"Dense\",\n",
      "                \"config\": {\n",
      "                    \"name\": \"dense\",\n",
      "                    \"trainable\": true,\n",
      "                    \"dtype\": \"float32\",\n",
      "                    \"units\": 360,\n",
      "                    \"activation\": \"relu\",\n",
      "                    \"use_bias\": true,\n",
      "                    \"kernel_initializer\": {\n",
      "                        \"module\": \"keras.initializers\",\n",
      "                        \"class_name\": \"GlorotUniform\",\n",
      "                        \"config\": {\n",
      "                            \"seed\": null\n",
      "                        },\n",
      "                        \"registered_name\": null\n",
      "                    },\n",
      "                    \"bias_initializer\": {\n",
      "                        \"module\": \"keras.initializers\",\n",
      "                        \"class_name\": \"Zeros\",\n",
      "                        \"config\": {},\n",
      "                        \"registered_name\": null\n",
      "                    },\n",
      "                    \"kernel_regularizer\": null,\n",
      "                    \"bias_regularizer\": null,\n",
      "                    \"activity_regularizer\": null,\n",
      "                    \"kernel_constraint\": null,\n",
      "                    \"bias_constraint\": null\n",
      "                },\n",
      "                \"registered_name\": null,\n",
      "                \"build_config\": {\n",
      "                    \"input_shape\": [\n",
      "                        null,\n",
      "                        784\n",
      "                    ]\n",
      "                }\n",
      "            },\n",
      "            {\n",
      "                \"module\": \"keras.layers\",\n",
      "                \"class_name\": \"Dense\",\n",
      "                \"config\": {\n",
      "                    \"name\": \"dense_1\",\n",
      "                    \"trainable\": true,\n",
      "                    \"dtype\": \"float32\",\n",
      "                    \"units\": 128,\n",
      "                    \"activation\": \"relu\",\n",
      "                    \"use_bias\": true,\n",
      "                    \"kernel_initializer\": {\n",
      "                        \"module\": \"keras.initializers\",\n",
      "                        \"class_name\": \"GlorotUniform\",\n",
      "                        \"config\": {\n",
      "                            \"seed\": null\n",
      "                        },\n",
      "                        \"registered_name\": null\n",
      "                    },\n",
      "                    \"bias_initializer\": {\n",
      "                        \"module\": \"keras.initializers\",\n",
      "                        \"class_name\": \"Zeros\",\n",
      "                        \"config\": {},\n",
      "                        \"registered_name\": null\n",
      "                    },\n",
      "                    \"kernel_regularizer\": null,\n",
      "                    \"bias_regularizer\": null,\n",
      "                    \"activity_regularizer\": null,\n",
      "                    \"kernel_constraint\": null,\n",
      "                    \"bias_constraint\": null\n",
      "                },\n",
      "                \"registered_name\": null,\n",
      "                \"build_config\": {\n",
      "                    \"input_shape\": [\n",
      "                        null,\n",
      "                        360\n",
      "                    ]\n",
      "                }\n",
      "            },\n",
      "            {\n",
      "                \"module\": \"keras.layers\",\n",
      "                \"class_name\": \"Dropout\",\n",
      "                \"config\": {\n",
      "                    \"name\": \"dropout\",\n",
      "                    \"trainable\": true,\n",
      "                    \"dtype\": \"float32\",\n",
      "                    \"rate\": 0.2,\n",
      "                    \"noise_shape\": null,\n",
      "                    \"seed\": null\n",
      "                },\n",
      "                \"registered_name\": null,\n",
      "                \"build_config\": {\n",
      "                    \"input_shape\": [\n",
      "                        null,\n",
      "                        128\n",
      "                    ]\n",
      "                }\n",
      "            },\n",
      "            {\n",
      "                \"module\": \"keras.layers\",\n",
      "                \"class_name\": \"Dense\",\n",
      "                \"config\": {\n",
      "                    \"name\": \"dense_2\",\n",
      "                    \"trainable\": true,\n",
      "                    \"dtype\": \"float32\",\n",
      "                    \"units\": 10,\n",
      "                    \"activation\": \"softmax\",\n",
      "                    \"use_bias\": true,\n",
      "                    \"kernel_initializer\": {\n",
      "                        \"module\": \"keras.initializers\",\n",
      "                        \"class_name\": \"GlorotUniform\",\n",
      "                        \"config\": {\n",
      "                            \"seed\": null\n",
      "                        },\n",
      "                        \"registered_name\": null\n",
      "                    },\n",
      "                    \"bias_initializer\": {\n",
      "                        \"module\": \"keras.initializers\",\n",
      "                        \"class_name\": \"Zeros\",\n",
      "                        \"config\": {},\n",
      "                        \"registered_name\": null\n",
      "                    },\n",
      "                    \"kernel_regularizer\": null,\n",
      "                    \"bias_regularizer\": null,\n",
      "                    \"activity_regularizer\": null,\n",
      "                    \"kernel_constraint\": null,\n",
      "                    \"bias_constraint\": null\n",
      "                },\n",
      "                \"registered_name\": null,\n",
      "                \"build_config\": {\n",
      "                    \"input_shape\": [\n",
      "                        null,\n",
      "                        128\n",
      "                    ]\n",
      "                }\n",
      "            }\n",
      "        ]\n",
      "    },\n",
      "    \"keras_version\": \"2.14.0\",\n",
      "    \"backend\": \"tensorflow\"\n",
      "}\n"
     ]
    }
   ],
   "source": [
    "print(model_json)"
   ]
  },
  {
   "cell_type": "code",
   "execution_count": 22,
   "id": "f2fe1e4b-7ae9-44e2-9300-209b3433c60d",
   "metadata": {},
   "outputs": [
    {
     "name": "stdout",
     "output_type": "stream",
     "text": [
      "Model: \"sequential\"\n",
      "_________________________________________________________________\n",
      " Layer (type)                Output Shape              Param #   \n",
      "=================================================================\n",
      " flatten (Flatten)           (None, 784)               0         \n",
      "                                                                 \n",
      " dense (Dense)               (None, 360)               282600    \n",
      "                                                                 \n",
      " dense_1 (Dense)             (None, 128)               46208     \n",
      "                                                                 \n",
      " dropout (Dropout)           (None, 128)               0         \n",
      "                                                                 \n",
      " dense_2 (Dense)             (None, 10)                1290      \n",
      "                                                                 \n",
      "=================================================================\n",
      "Total params: 330098 (1.26 MB)\n",
      "Trainable params: 330098 (1.26 MB)\n",
      "Non-trainable params: 0 (0.00 Byte)\n",
      "_________________________________________________________________\n"
     ]
    }
   ],
   "source": [
    "from tensorflow.keras.models import model_from_json\n",
    "model3 = model_from_json(model_json)\n",
    "model3.summary()"
   ]
  },
  {
   "cell_type": "code",
   "execution_count": 25,
   "id": "c0d100e4-963c-424d-a26a-698cfcd31032",
   "metadata": {},
   "outputs": [],
   "source": [
    "model3.compile(loss='sparse_categorical_crossentropy', optimizer='SGD', metrics=['accuracy'])"
   ]
  },
  {
   "cell_type": "code",
   "execution_count": 26,
   "id": "8a552484-59e5-4d05-acd6-7fb395ae34ae",
   "metadata": {},
   "outputs": [
    {
     "name": "stdout",
     "output_type": "stream",
     "text": [
      "Epoch 1/3\n",
      "600/600 [==============================] - 2s 2ms/step - loss: 1.0767 - accuracy: 0.7177\n",
      "Epoch 2/3\n",
      "600/600 [==============================] - 1s 2ms/step - loss: 0.4794 - accuracy: 0.8645\n",
      "Epoch 3/3\n",
      "600/600 [==============================] - 1s 2ms/step - loss: 0.3874 - accuracy: 0.8901\n"
     ]
    },
    {
     "data": {
      "text/plain": [
       "<keras.src.callbacks.History at 0x222190a7b10>"
      ]
     },
     "execution_count": 26,
     "metadata": {},
     "output_type": "execute_result"
    }
   ],
   "source": [
    "model3.fit(train_X, train_y, batch_size=100, epochs=3)"
   ]
  },
  {
   "cell_type": "code",
   "execution_count": 27,
   "id": "91382a35-bc6e-49ca-89c5-28e4e3820f46",
   "metadata": {},
   "outputs": [
    {
     "name": "stdout",
     "output_type": "stream",
     "text": [
      "313/313 [==============================] - 0s 1ms/step - loss: 0.3018 - accuracy: 0.9180\n"
     ]
    },
    {
     "data": {
      "text/plain": [
       "[0.30180221796035767, 0.9179999828338623]"
      ]
     },
     "execution_count": 27,
     "metadata": {},
     "output_type": "execute_result"
    }
   ],
   "source": [
    "model3.evaluate(test_X, test_y)"
   ]
  },
  {
   "cell_type": "code",
   "execution_count": null,
   "id": "057265ca-8397-45f8-bd7b-39cbeb67c542",
   "metadata": {},
   "outputs": [],
   "source": []
  }
 ],
 "metadata": {
  "kernelspec": {
   "display_name": "tf2.14",
   "language": "python",
   "name": "tf2.14"
  },
  "language_info": {
   "codemirror_mode": {
    "name": "ipython",
    "version": 3
   },
   "file_extension": ".py",
   "mimetype": "text/x-python",
   "name": "python",
   "nbconvert_exporter": "python",
   "pygments_lexer": "ipython3",
   "version": "3.11.9"
  }
 },
 "nbformat": 4,
 "nbformat_minor": 5
}
