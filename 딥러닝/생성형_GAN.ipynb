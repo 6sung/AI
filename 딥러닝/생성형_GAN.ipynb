{
 "cells": [
  {
   "cell_type": "markdown",
   "id": "9ec3661a-5c59-4f13-aa64-eff2bc78c2c6",
   "metadata": {},
   "source": [
    "GAN 실습"
   ]
  },
  {
   "cell_type": "code",
   "execution_count": 1,
   "id": "6343daf0-e9d3-4791-ad9b-900d53d7e858",
   "metadata": {},
   "outputs": [],
   "source": [
    "from tensorflow.keras.datasets import mnist\n",
    "(train_images, _), (_,_) = mnist.load_data()"
   ]
  },
  {
   "cell_type": "code",
   "execution_count": 2,
   "id": "04484336-5764-4e9a-b5be-f262cf906796",
   "metadata": {},
   "outputs": [
    {
     "name": "stdout",
     "output_type": "stream",
     "text": [
      "float32\n"
     ]
    }
   ],
   "source": [
    "# -1 ~ 1 사이로 표준화\n",
    "train_images = (train_images.astype('float32') - 127.5 ) / 127.5\n",
    "print(train_images.dtype)"
   ]
  },
  {
   "cell_type": "code",
   "execution_count": 4,
   "id": "ee69f460-233b-4bbf-a42b-44f8f4933450",
   "metadata": {},
   "outputs": [
    {
     "name": "stdout",
     "output_type": "stream",
     "text": [
      "(60000, 28, 28)\n"
     ]
    }
   ],
   "source": [
    "# channel 구조 변경\n",
    "import numpy as np\n",
    "Train_images = np.expand_dims(train_images, axis=-1)\n",
    "print(train_images.shape)"
   ]
  },
  {
   "cell_type": "code",
   "execution_count": 18,
   "id": "10ffcc77-3d84-4813-bc63-52dc94ac4aa7",
   "metadata": {},
   "outputs": [
    {
     "name": "stdout",
     "output_type": "stream",
     "text": [
      "<_BatchDataset element_spec=TensorSpec(shape=(None, 28, 28), dtype=tf.float32, name=None)>\n"
     ]
    }
   ],
   "source": [
    "import tensorflow as tf\n",
    "train_dataset = tf.data.Dataset.from_tensor_slices(train_images).batch(256)\n",
    "print(train_dataset)"
   ]
  },
  {
   "cell_type": "code",
   "execution_count": 5,
   "id": "9f2571c2-fb56-4276-b486-249574fb27d0",
   "metadata": {},
   "outputs": [],
   "source": [
    "import tensorflow as tf\n",
    "from tensorflow.keras import layers\n",
    "from tensorflow.keras.models import Sequential"
   ]
  },
  {
   "cell_type": "code",
   "execution_count": 7,
   "id": "fe6d5cd6-a29a-4b64-a0d9-0327bf309811",
   "metadata": {},
   "outputs": [
    {
     "name": "stdout",
     "output_type": "stream",
     "text": [
      "Model: \"sequential\"\n",
      "_________________________________________________________________\n",
      " Layer (type)                Output Shape              Param #   \n",
      "=================================================================\n",
      " dense_1 (Dense)             (None, 12544)             1266944   \n",
      "                                                                 \n",
      " batch_normalization_3 (Bat  (None, 12544)             50176     \n",
      " chNormalization)                                                \n",
      "                                                                 \n",
      " reshape_1 (Reshape)         (None, 7, 7, 256)         0         \n",
      "                                                                 \n",
      " conv2d_transpose_2 (Conv2D  (None, 7, 7, 128)         819328    \n",
      " Transpose)                                                      \n",
      "                                                                 \n",
      " batch_normalization_4 (Bat  (None, 7, 7, 128)         512       \n",
      " chNormalization)                                                \n",
      "                                                                 \n",
      " conv2d_transpose_3 (Conv2D  (None, 14, 14, 64)        204864    \n",
      " Transpose)                                                      \n",
      "                                                                 \n",
      " batch_normalization_5 (Bat  (None, 14, 14, 64)        256       \n",
      " chNormalization)                                                \n",
      "                                                                 \n",
      " conv2d_transpose_4 (Conv2D  (None, 28, 28, 1)         1601      \n",
      " Transpose)                                                      \n",
      "                                                                 \n",
      "=================================================================\n",
      "Total params: 2343681 (8.94 MB)\n",
      "Trainable params: 2318209 (8.84 MB)\n",
      "Non-trainable params: 25472 (99.50 KB)\n",
      "_________________________________________________________________\n"
     ]
    }
   ],
   "source": [
    "#생성자\n",
    "generator_model = Sequential([\n",
    "    layers.Input(shape=(100,)),\n",
    "    layers.Dense(7*7*256, activation='elu'),\n",
    "    layers.BatchNormalization(),\n",
    "\n",
    "    layers.Reshape((7,7,256)),\n",
    "    layers.Conv2DTranspose(128, 5, padding='same', activation='elu'), #7*7*28\n",
    "    layers.BatchNormalization(),\n",
    "\n",
    "    layers.Conv2DTranspose(64, 5, strides=(2,2), padding='same', activation='elu'), #14*14*64\n",
    "    layers.BatchNormalization(),\n",
    "\n",
    "    layers.Conv2DTranspose(1, 5, strides=(2,2), padding='same', activation='tanh'), #28*28*1\n",
    "])\n",
    "generator_model.summary()"
   ]
  },
  {
   "cell_type": "code",
   "execution_count": 9,
   "id": "bc13d220-6f03-4cff-b7de-877495a27643",
   "metadata": {},
   "outputs": [
    {
     "name": "stdout",
     "output_type": "stream",
     "text": [
      "Model: \"sequential_1\"\n",
      "_________________________________________________________________\n",
      " Layer (type)                Output Shape              Param #   \n",
      "=================================================================\n",
      " conv2d (Conv2D)             (None, 14, 14, 64)        1664      \n",
      "                                                                 \n",
      " dropout (Dropout)           (None, 14, 14, 64)        0         \n",
      "                                                                 \n",
      " conv2d_1 (Conv2D)           (None, 7, 7, 128)         204928    \n",
      "                                                                 \n",
      " dropout_1 (Dropout)         (None, 7, 7, 128)         0         \n",
      "                                                                 \n",
      " flatten (Flatten)           (None, 6272)              0         \n",
      "                                                                 \n",
      " dense_2 (Dense)             (None, 1)                 6273      \n",
      "                                                                 \n",
      "=================================================================\n",
      "Total params: 212865 (831.50 KB)\n",
      "Trainable params: 212865 (831.50 KB)\n",
      "Non-trainable params: 0 (0.00 Byte)\n",
      "_________________________________________________________________\n"
     ]
    }
   ],
   "source": [
    "discriminator_model = Sequential([\n",
    "    layers.Input(shape=(28,28,1)),\n",
    "    layers.Conv2D(64, (5,5), strides=(2,2), padding='same', activation='elu'),\n",
    "    layers.Dropout(0.3),\n",
    "\n",
    "    layers.Conv2D(128, (5,5), strides=(2,2), padding='same', activation='elu'),\n",
    "    layers.Dropout(0.3),\n",
    "\n",
    "    layers.Flatten(),\n",
    "    layers.Dense(1)\n",
    "])\n",
    "discriminator_model.summary()"
   ]
  },
  {
   "cell_type": "code",
   "execution_count": 10,
   "id": "b28dd25a-17f5-4627-a107-1a2e75259111",
   "metadata": {},
   "outputs": [],
   "source": [
    "cross_entropy = tf.keras.losses.BinaryCrossentropy(from_logits=True)\n",
    "\n",
    "def generator_loss(fake_output):\n",
    "    return cross_entropy(tf.ones_like(fake_output), fake_output) # 1\n",
    "def discriminator_loss(real_output, fake_output):\n",
    "    real_loss = cross_entropy(tf.ones_like(real_output), real_output) # 1\n",
    "    fake_loss = cross_entropy(tf.zeros_like(fake_output), fake_output) # 0\n",
    "    total_loss = real_loss + fake_loss\n",
    "    return total_loss\n",
    "generator_optimizer = tf.keras.optimizers.Adam(1e-4)\n",
    "discriminator_optimizer = tf.keras.optimizers.Adam(1e-4)"
   ]
  },
  {
   "cell_type": "code",
   "execution_count": 12,
   "id": "d2f31212-337c-4afa-874a-0b1f8f1bdc80",
   "metadata": {},
   "outputs": [],
   "source": [
    "@tf.function\n",
    "def train_step(images):\n",
    "    noise = tf.random.normal([256, 100]) # 이미지 생성을 위한 노이즈 입력\n",
    "\n",
    "    with tf.GradientTape() as gen_tape, tf.GradientTape() as dis_tape: # 미분을 위한 도구, loss를 계산\n",
    "        generated_image = generator_model(noise, training=True)\n",
    "        fake_output = discriminator_model(generated_image, training=True)\n",
    "        real_output = discriminator_model(images, training=True)\n",
    "\n",
    "        gen_loss = generator_loss(fake_output)\n",
    "        dis_loss = discriminator_loss(real_output, fake_output)\n",
    "\n",
    "    gradients_of_generator = gen_tape.gradient(gen_loss, generator_model.trainable_variables)\n",
    "    gradients_of_discriminator = dis_tape.gradient(dis_loss, discriminator_model.trainable_variables)\n",
    "\n",
    "    generator_optimizer.apply_gradients( zip(gradients_of_generator, generator_model.trainable_variables))\n",
    "    discriminator_optimizer.apply_gradients( zip(gradients_of_discriminator, discriminator_model.trainable_variables))"
   ]
  },
  {
   "cell_type": "code",
   "execution_count": null,
   "id": "32741098-20a3-4bd8-b969-67e9a8e858f5",
   "metadata": {},
   "outputs": [],
   "source": []
  }
 ],
 "metadata": {
  "kernelspec": {
   "display_name": "tf2.14",
   "language": "python",
   "name": "tf2.14"
  },
  "language_info": {
   "codemirror_mode": {
    "name": "ipython",
    "version": 3
   },
   "file_extension": ".py",
   "mimetype": "text/x-python",
   "name": "python",
   "nbconvert_exporter": "python",
   "pygments_lexer": "ipython3",
   "version": "3.11.9"
  }
 },
 "nbformat": 4,
 "nbformat_minor": 5
}
