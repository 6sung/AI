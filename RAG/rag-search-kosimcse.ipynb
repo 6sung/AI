{
 "cells": [
  {
   "cell_type": "code",
   "execution_count": 1,
   "id": "1facfdb3",
   "metadata": {
    "execution": {
     "iopub.execute_input": "2024-07-23T09:29:33.771276Z",
     "iopub.status.busy": "2024-07-23T09:29:33.770941Z",
     "iopub.status.idle": "2024-07-23T09:29:48.011939Z",
     "shell.execute_reply": "2024-07-23T09:29:48.010811Z"
    },
    "papermill": {
     "duration": 14.255487,
     "end_time": "2024-07-23T09:29:48.014453",
     "exception": false,
     "start_time": "2024-07-23T09:29:33.758966",
     "status": "completed"
    },
    "tags": []
   },
   "outputs": [
    {
     "name": "stdout",
     "output_type": "stream",
     "text": [
      "Collecting konlpy\r\n",
      "  Downloading konlpy-0.6.0-py2.py3-none-any.whl.metadata (1.9 kB)\r\n",
      "Collecting JPype1>=0.7.0 (from konlpy)\r\n",
      "  Downloading JPype1-1.5.0-cp310-cp310-manylinux_2_17_x86_64.manylinux2014_x86_64.whl.metadata (4.9 kB)\r\n",
      "Requirement already satisfied: lxml>=4.1.0 in /opt/conda/lib/python3.10/site-packages (from konlpy) (5.2.2)\r\n",
      "Requirement already satisfied: numpy>=1.6 in /opt/conda/lib/python3.10/site-packages (from konlpy) (1.26.4)\r\n",
      "Requirement already satisfied: packaging in /opt/conda/lib/python3.10/site-packages (from JPype1>=0.7.0->konlpy) (21.3)\r\n",
      "Requirement already satisfied: pyparsing!=3.0.5,>=2.0.2 in /opt/conda/lib/python3.10/site-packages (from packaging->JPype1>=0.7.0->konlpy) (3.1.1)\r\n",
      "Downloading konlpy-0.6.0-py2.py3-none-any.whl (19.4 MB)\r\n",
      "\u001b[2K   \u001b[90m━━━━━━━━━━━━━━━━━━━━━━━━━━━━━━━━━━━━━━━━\u001b[0m \u001b[32m19.4/19.4 MB\u001b[0m \u001b[31m68.5 MB/s\u001b[0m eta \u001b[36m0:00:00\u001b[0m\r\n",
      "\u001b[?25hDownloading JPype1-1.5.0-cp310-cp310-manylinux_2_17_x86_64.manylinux2014_x86_64.whl (488 kB)\r\n",
      "\u001b[2K   \u001b[90m━━━━━━━━━━━━━━━━━━━━━━━━━━━━━━━━━━━━━━━━\u001b[0m \u001b[32m488.6/488.6 kB\u001b[0m \u001b[31m2.2 MB/s\u001b[0m eta \u001b[36m0:00:00\u001b[0m\r\n",
      "\u001b[?25hInstalling collected packages: JPype1, konlpy\r\n",
      "Successfully installed JPype1-1.5.0 konlpy-0.6.0\r\n"
     ]
    }
   ],
   "source": [
    "!pip install konlpy"
   ]
  },
  {
   "cell_type": "code",
   "execution_count": 2,
   "id": "9ca39693",
   "metadata": {
    "execution": {
     "iopub.execute_input": "2024-07-23T09:29:48.039465Z",
     "iopub.status.busy": "2024-07-23T09:29:48.039119Z",
     "iopub.status.idle": "2024-07-23T09:29:54.503144Z",
     "shell.execute_reply": "2024-07-23T09:29:54.502351Z"
    },
    "papermill": {
     "duration": 6.478959,
     "end_time": "2024-07-23T09:29:54.505410",
     "exception": false,
     "start_time": "2024-07-23T09:29:48.026451",
     "status": "completed"
    },
    "tags": []
   },
   "outputs": [],
   "source": [
    "import pandas as pd\n",
    "import re\n",
    "from konlpy.tag import Okt\n",
    "from transformers import BertTokenizer, BertModel, RobertaTokenizer, RobertaModel\n",
    "from safetensors.torch import load_file\n",
    "from sklearn.metrics.pairwise import cosine_similarity\n",
    "import torch\n",
    "import os"
   ]
  },
  {
   "cell_type": "code",
   "execution_count": 3,
   "id": "3efd0f29",
   "metadata": {
    "execution": {
     "iopub.execute_input": "2024-07-23T09:29:54.530344Z",
     "iopub.status.busy": "2024-07-23T09:29:54.529885Z",
     "iopub.status.idle": "2024-07-23T09:29:54.964568Z",
     "shell.execute_reply": "2024-07-23T09:29:54.963444Z"
    },
    "papermill": {
     "duration": 0.449848,
     "end_time": "2024-07-23T09:29:54.967182",
     "exception": false,
     "start_time": "2024-07-23T09:29:54.517334",
     "status": "completed"
    },
    "tags": []
   },
   "outputs": [],
   "source": [
    "file_path = '/kaggle/input/output1/output1.csv'\n",
    "df1 = pd.read_csv(file_path)\n",
    "\n",
    "file_path_2 = '/kaggle/input/law-data-merge/law_data_2.csv'\n",
    "df2 = pd.read_csv(file_path_2)\n",
    "df = pd.concat([df1, df2], ignore_index=True)"
   ]
  },
  {
   "cell_type": "code",
   "execution_count": 4,
   "id": "9cd17680",
   "metadata": {
    "execution": {
     "iopub.execute_input": "2024-07-23T09:29:54.993102Z",
     "iopub.status.busy": "2024-07-23T09:29:54.992789Z",
     "iopub.status.idle": "2024-07-23T09:29:55.002059Z",
     "shell.execute_reply": "2024-07-23T09:29:55.001345Z"
    },
    "papermill": {
     "duration": 0.024642,
     "end_time": "2024-07-23T09:29:55.003853",
     "exception": false,
     "start_time": "2024-07-23T09:29:54.979211",
     "status": "completed"
    },
    "tags": []
   },
   "outputs": [],
   "source": [
    "df['전문'] = df['전문'].fillna('')"
   ]
  },
  {
   "cell_type": "code",
   "execution_count": 5,
   "id": "f950bcd3",
   "metadata": {
    "execution": {
     "iopub.execute_input": "2024-07-23T09:29:55.027784Z",
     "iopub.status.busy": "2024-07-23T09:29:55.027513Z",
     "iopub.status.idle": "2024-07-23T09:29:55.086899Z",
     "shell.execute_reply": "2024-07-23T09:29:55.085972Z"
    },
    "papermill": {
     "duration": 0.073359,
     "end_time": "2024-07-23T09:29:55.088679",
     "exception": false,
     "start_time": "2024-07-23T09:29:55.015320",
     "status": "completed"
    },
    "tags": []
   },
   "outputs": [],
   "source": [
    "device = torch.device(\"cuda\" if torch.cuda.is_available() else \"cpu\")"
   ]
  },
  {
   "cell_type": "code",
   "execution_count": 6,
   "id": "3f7f78dc",
   "metadata": {
    "execution": {
     "iopub.execute_input": "2024-07-23T09:29:55.113042Z",
     "iopub.status.busy": "2024-07-23T09:29:55.112657Z",
     "iopub.status.idle": "2024-07-23T09:29:58.620286Z",
     "shell.execute_reply": "2024-07-23T09:29:58.619426Z"
    },
    "papermill": {
     "duration": 3.522227,
     "end_time": "2024-07-23T09:29:58.622541",
     "exception": false,
     "start_time": "2024-07-23T09:29:55.100314",
     "status": "completed"
    },
    "tags": []
   },
   "outputs": [],
   "source": [
    "model_path = '/kaggle/input/kosimcse-1'\n",
    "tokenizer = BertTokenizer.from_pretrained(model_path)\n",
    "model_state_dict = load_file(f\"{model_path}/model.safetensors\")\n",
    "model = RobertaModel.from_pretrained(model_path, state_dict=model_state_dict).to(device)"
   ]
  },
  {
   "cell_type": "code",
   "execution_count": 7,
   "id": "1d545bea",
   "metadata": {
    "execution": {
     "iopub.execute_input": "2024-07-23T09:29:58.647865Z",
     "iopub.status.busy": "2024-07-23T09:29:58.647566Z",
     "iopub.status.idle": "2024-07-23T09:29:59.619903Z",
     "shell.execute_reply": "2024-07-23T09:29:59.618909Z"
    },
    "papermill": {
     "duration": 0.98738,
     "end_time": "2024-07-23T09:29:59.622286",
     "exception": false,
     "start_time": "2024-07-23T09:29:58.634906",
     "status": "completed"
    },
    "tags": []
   },
   "outputs": [],
   "source": [
    "okt = Okt()"
   ]
  },
  {
   "cell_type": "code",
   "execution_count": 8,
   "id": "dbe446ba",
   "metadata": {
    "execution": {
     "iopub.execute_input": "2024-07-23T09:29:59.647502Z",
     "iopub.status.busy": "2024-07-23T09:29:59.646969Z",
     "iopub.status.idle": "2024-07-23T09:29:59.651961Z",
     "shell.execute_reply": "2024-07-23T09:29:59.651094Z"
    },
    "papermill": {
     "duration": 0.019549,
     "end_time": "2024-07-23T09:29:59.653804",
     "exception": false,
     "start_time": "2024-07-23T09:29:59.634255",
     "status": "completed"
    },
    "tags": []
   },
   "outputs": [],
   "source": [
    "def preprocess_text(text):\n",
    "    text = re.sub(r'\\s+', ' ', text)\n",
    "    text = re.sub(r'[^\\w\\s가-힣]', '', text)\n",
    "    text = text.lower()\n",
    "    text = ' '.join(okt.morphs(text))\n",
    "    return text"
   ]
  },
  {
   "cell_type": "code",
   "execution_count": 9,
   "id": "93f0aa73",
   "metadata": {
    "execution": {
     "iopub.execute_input": "2024-07-23T09:29:59.678192Z",
     "iopub.status.busy": "2024-07-23T09:29:59.677890Z",
     "iopub.status.idle": "2024-07-23T09:29:59.683469Z",
     "shell.execute_reply": "2024-07-23T09:29:59.682620Z"
    },
    "papermill": {
     "duration": 0.020005,
     "end_time": "2024-07-23T09:29:59.685464",
     "exception": false,
     "start_time": "2024-07-23T09:29:59.665459",
     "status": "completed"
    },
    "tags": []
   },
   "outputs": [],
   "source": [
    "def chunk_text(text, chunk_size=128, overlap=32):\n",
    "    words = text.split()\n",
    "    chunks = []\n",
    "    for i in range(0, len(words), chunk_size - overlap):\n",
    "        chunk = ' '.join(words[i:i + chunk_size])\n",
    "        chunks.append(chunk)\n",
    "        if i + chunk_size >= len(words):\n",
    "            break\n",
    "    return chunks"
   ]
  },
  {
   "cell_type": "code",
   "execution_count": 10,
   "id": "be14affc",
   "metadata": {
    "execution": {
     "iopub.execute_input": "2024-07-23T09:29:59.709600Z",
     "iopub.status.busy": "2024-07-23T09:29:59.709327Z",
     "iopub.status.idle": "2024-07-23T09:29:59.714194Z",
     "shell.execute_reply": "2024-07-23T09:29:59.713309Z"
    },
    "papermill": {
     "duration": 0.019079,
     "end_time": "2024-07-23T09:29:59.716030",
     "exception": false,
     "start_time": "2024-07-23T09:29:59.696951",
     "status": "completed"
    },
    "tags": []
   },
   "outputs": [],
   "source": [
    "def encode_text(text):\n",
    "    inputs = tokenizer(text, return_tensors='pt', truncation=True, padding=True).to(device)\n",
    "    with torch.no_grad():\n",
    "        outputs = model(**inputs)\n",
    "    cls_embedding = outputs.last_hidden_state.mean(dim=1).squeeze()\n",
    "    return cls_embedding"
   ]
  },
  {
   "cell_type": "code",
   "execution_count": 11,
   "id": "cf1a2413",
   "metadata": {
    "execution": {
     "iopub.execute_input": "2024-07-23T09:29:59.740049Z",
     "iopub.status.busy": "2024-07-23T09:29:59.739785Z",
     "iopub.status.idle": "2024-07-23T09:33:29.200664Z",
     "shell.execute_reply": "2024-07-23T09:33:29.199430Z"
    },
    "papermill": {
     "duration": 209.475786,
     "end_time": "2024-07-23T09:33:29.203310",
     "exception": false,
     "start_time": "2024-07-23T09:29:59.727524",
     "status": "completed"
    },
    "tags": []
   },
   "outputs": [],
   "source": [
    "df['processed_text'] = df['전문'].apply(preprocess_text)\n",
    "df['chunks'] = df['processed_text'].apply(lambda x: chunk_text(x))"
   ]
  },
  {
   "cell_type": "code",
   "execution_count": 12,
   "id": "34075755",
   "metadata": {
    "execution": {
     "iopub.execute_input": "2024-07-23T09:33:29.234657Z",
     "iopub.status.busy": "2024-07-23T09:33:29.233598Z",
     "iopub.status.idle": "2024-07-23T09:33:29.238044Z",
     "shell.execute_reply": "2024-07-23T09:33:29.237199Z"
    },
    "papermill": {
     "duration": 0.020428,
     "end_time": "2024-07-23T09:33:29.239981",
     "exception": false,
     "start_time": "2024-07-23T09:33:29.219553",
     "status": "completed"
    },
    "tags": []
   },
   "outputs": [],
   "source": [
    "chunk_embeddings = []\n",
    "chunk_to_doc = []"
   ]
  },
  {
   "cell_type": "code",
   "execution_count": 13,
   "id": "d5636fac",
   "metadata": {
    "execution": {
     "iopub.execute_input": "2024-07-23T09:33:29.264542Z",
     "iopub.status.busy": "2024-07-23T09:33:29.263998Z",
     "iopub.status.idle": "2024-07-23T09:36:50.568824Z",
     "shell.execute_reply": "2024-07-23T09:36:50.567761Z"
    },
    "papermill": {
     "duration": 201.319948,
     "end_time": "2024-07-23T09:36:50.571445",
     "exception": false,
     "start_time": "2024-07-23T09:33:29.251497",
     "status": "completed"
    },
    "tags": []
   },
   "outputs": [],
   "source": [
    "for idx, chunks in enumerate(df['chunks']):\n",
    "    for chunk in chunks:\n",
    "        chunk_embeddings.append(encode_text(chunk))\n",
    "        chunk_to_doc.append(idx)"
   ]
  },
  {
   "cell_type": "code",
   "execution_count": 14,
   "id": "1bd2aa8e",
   "metadata": {
    "execution": {
     "iopub.execute_input": "2024-07-23T09:36:50.596609Z",
     "iopub.status.busy": "2024-07-23T09:36:50.596102Z",
     "iopub.status.idle": "2024-07-23T09:36:50.668479Z",
     "shell.execute_reply": "2024-07-23T09:36:50.667606Z"
    },
    "papermill": {
     "duration": 0.087032,
     "end_time": "2024-07-23T09:36:50.670721",
     "exception": false,
     "start_time": "2024-07-23T09:36:50.583689",
     "status": "completed"
    },
    "tags": []
   },
   "outputs": [],
   "source": [
    "chunk_embeddings = torch.stack(chunk_embeddings).to(device)"
   ]
  },
  {
   "cell_type": "code",
   "execution_count": 15,
   "id": "6d151a53",
   "metadata": {
    "execution": {
     "iopub.execute_input": "2024-07-23T09:36:50.695293Z",
     "iopub.status.busy": "2024-07-23T09:36:50.694979Z",
     "iopub.status.idle": "2024-07-23T09:36:50.701539Z",
     "shell.execute_reply": "2024-07-23T09:36:50.700605Z"
    },
    "papermill": {
     "duration": 0.020802,
     "end_time": "2024-07-23T09:36:50.703348",
     "exception": false,
     "start_time": "2024-07-23T09:36:50.682546",
     "status": "completed"
    },
    "tags": []
   },
   "outputs": [],
   "source": [
    "def search_query(query, df, chunk_embeddings, chunk_to_doc, top_k=5):\n",
    "    query = preprocess_text(query)\n",
    "    query_embedding = encode_text(query).unsqueeze(0).to(device)\n",
    "\n",
    "    query_embedding_cpu = query_embedding.cpu()\n",
    "    chunk_embeddings_cpu = chunk_embeddings.cpu()\n",
    "\n",
    "    similarities = cosine_similarity(query_embedding_cpu, chunk_embeddings_cpu).flatten()\n",
    "\n",
    "    top_indices = similarities.argsort()[-top_k:][::-1]\n",
    "\n",
    "    results = df.iloc[[chunk_to_doc[i] for i in top_indices]]\n",
    "    return results[['주문']]\n"
   ]
  },
  {
   "cell_type": "code",
   "execution_count": 16,
   "id": "15400e21",
   "metadata": {
    "execution": {
     "iopub.execute_input": "2024-07-23T09:36:50.727168Z",
     "iopub.status.busy": "2024-07-23T09:36:50.726860Z",
     "iopub.status.idle": "2024-07-23T09:36:50.854886Z",
     "shell.execute_reply": "2024-07-23T09:36:50.853600Z"
    },
    "papermill": {
     "duration": 0.143842,
     "end_time": "2024-07-23T09:36:50.858385",
     "exception": false,
     "start_time": "2024-07-23T09:36:50.714543",
     "status": "completed"
    },
    "tags": []
   },
   "outputs": [],
   "source": [
    "#query = \"내에서 피해자 D(남, 63세)과 함께 술을 마시던 중 욕설 등 말다툼 중에 화가 나 그곳에 있던 위험한 물건인 과도(칼날 길이 약 9cm, 전체 길이 약 19.5cm)를 집어 들고 피해자의 좌측 가슴 부위를 1회 찔러 피해자에게 약 2주간의 치료를 요하는 흉부의 상세불명 부분의 열린상처 등 상해를 가하였다\"\n",
    "query = '고양시 일산동구 B에 있는 C 1층에 있는 피해자 D가 운영하는 E에서, 계산대에 올려 놓은 우유 2팩을 바닥으로 던져 우유가 쏟아지게 하고, 소리를 지르는 등 소란을 피워 위력으로써 피해자의 제과점 운영 업무를 방해하였다'\n",
    "result = search_query(query, df, chunk_embeddings, chunk_to_doc)"
   ]
  },
  {
   "cell_type": "code",
   "execution_count": 17,
   "id": "9a79c338",
   "metadata": {
    "execution": {
     "iopub.execute_input": "2024-07-23T09:36:50.909710Z",
     "iopub.status.busy": "2024-07-23T09:36:50.908358Z",
     "iopub.status.idle": "2024-07-23T09:36:50.924238Z",
     "shell.execute_reply": "2024-07-23T09:36:50.922850Z"
    },
    "papermill": {
     "duration": 0.045248,
     "end_time": "2024-07-23T09:36:50.928230",
     "exception": false,
     "start_time": "2024-07-23T09:36:50.882982",
     "status": "completed"
    },
    "tags": []
   },
   "outputs": [
    {
     "name": "stdout",
     "output_type": "stream",
     "text": [
      "                                                     주문\n",
      "654   피고인을 벌금 500,000원에 처한다. 피고인이 위 벌금을 납입하지 아니하는 경우...\n",
      "1047                               피고인을 징역 1년 2개월에 처한다.\n",
      "1033  피고인을 징역 1년에 처한다. 압수된 식칼 1개(울산지방검찰청 2019년 압 제32...\n",
      "1129  피고인을 징역 1년에 처한다. 압수된 식칼 1개(울산지방검찰청 2019년 압 제32...\n",
      "1675                               피고인을 징역 1년 8개월에 처한다.\n"
     ]
    }
   ],
   "source": [
    "print(result)"
   ]
  },
  {
   "cell_type": "code",
   "execution_count": null,
   "id": "4b0854d0",
   "metadata": {
    "papermill": {
     "duration": 0.020086,
     "end_time": "2024-07-23T09:36:50.973025",
     "exception": false,
     "start_time": "2024-07-23T09:36:50.952939",
     "status": "completed"
    },
    "tags": []
   },
   "outputs": [],
   "source": []
  },
  {
   "cell_type": "code",
   "execution_count": 18,
   "id": "8e97c7d0",
   "metadata": {
    "execution": {
     "iopub.execute_input": "2024-07-23T09:36:50.997159Z",
     "iopub.status.busy": "2024-07-23T09:36:50.996885Z",
     "iopub.status.idle": "2024-07-23T09:36:51.001994Z",
     "shell.execute_reply": "2024-07-23T09:36:51.001075Z"
    },
    "papermill": {
     "duration": 0.01975,
     "end_time": "2024-07-23T09:36:51.004452",
     "exception": false,
     "start_time": "2024-07-23T09:36:50.984702",
     "status": "completed"
    },
    "tags": []
   },
   "outputs": [
    {
     "name": "stdout",
     "output_type": "stream",
     "text": [
      "범죄사실 및 치료감호원인사실 [범죄전력] 피고인 겸 피치료감호청구인(이하, ‘피고인’이라 한다)은 2019. 2. 28. 울산지방법원에서  공무집행방해죄 등으로 징역 8월, 집행유예 2년을 선고받아 현재 항소심 계속 중이다. [범죄사실] 피고인은 상세불명의 양극성 정동장애, 알코올 사용의 의존증후군 등으로 인하여 사물을 변별하거나 의사를 결정할 능력이 미약한 상태에서 아래와 같은 범행을 하였다. 『2019고합167』 1. 사기 가. 피고인은 2019. 3. 17. 01:04경 울산 북구 &&동 ##차고지에서 사실은 택시요금을 지불할 의사나 능력이 없음에도, 마치 요금을 지불할 것처럼 행세하며 피해자 C(63세)가 운행하는 울산 D호 택시에 승차하여 이에 속은 피해자로 하여금 울산 중구 **로  00 ○○지구대 앞 노상까지 운행하게 하여 택시요금 11,800원 상당의 재산상 이익을  취득하였다. 나. 피고인은 2019. 3. 19. 01:05경 울산 남구 □□박물관 앞에서 사실은 택시요금을  지불할 의사나 능력이 없음에도, 마치 요금을 지불할 것처럼 행세하며 피해자 E(59세)가 운행하는 울산 F호 택시에 승차하여 이에 속은 피해자로 하여금 울산 중구 **로  00 ○○지구대 앞 노상까지 운행하게 하여 택시요금 15,600원1)상당의 재산상 이익을  취득하였다. 다. 피고인은 2019. 4. 21. 23:00경 울산 남구 **로 00 피해자 G(여, 50세)가 운영하는 '△△' 주점 내에서 손님으로 들어가 사실은 술값을 지불할 의사나 능력이 없음에도, 마치 술값을 지불할 것처럼 행세하며 주류를 주문하여 이에 속은 피해자로부터 맥주 5병, 안주 등 합계 4만 원 상당의 술과 안주를 제공 받았다. 이로써 피고인은 피해자들을 기망하여 재물을 교부받거나 재산상 이익을 취득하였다. 2. 공무집행방해 피고인은 2019. 4. 26. 09:30경 울산 남구 **로 00 ‘♧♧주민센터’에 전입신고를 하러 가 혼잣말로 욕설을 하는 등 이상한 행동을 하여 복지담당 직원 H가 방문 목적을 묻고 전입신고 절차를 안내하자, 갑자기 “씹새끼야 니는 여기서 뭐하는 새끼야, 몇급이야, 센터에 청소상태가 왜 이 모양이야, 니가 뭔데 나를 건드리냐, 가만 두지 않겠다”라고 욕설을 하며 소지하고 있던 가방 안에서 소주가 들어 있는 소주병을 H를 향해  집어 던져 소주병이 바닥에 부딪쳐 깨지게 하는 등 H에게 어떠한 위해를 가할 듯이  협박하였다. 이로써 피고인은 주민센터 공무원의 민원처리에 관한 정당한 공무집행을 방해하였다. 『2019고합187』 피고인은 2019. 2. 4. 22:20경 울산시 중구 **길 00 피해자 I(여, 60세)가 운영하는  ‘☆☆노래타운’에서, 술에 취해 돈을 지불하지 않고 그곳 홀에 설치되어 있는 노래방기기로 노래를 부르거나 피해자를 부르고, 이에 피해자가 피고인을 제지하며 귀가할 것을  요청하자 화가 나, 피해자에게 “야이, 가시나야, 씹할년아, 내 건들이지 마라, 죽는다.”라는 등으로 욕설을 하며 위 노래방 내부를 돌아다니는 등 약 30분 간 소란을 피웠다. 이로써 피고인은 위력으로써 피해자의 노래방 운영 업무를 방해하였다. 『2019고합188』 피고인은 2019. 02. 12. 01:30경 울산 남구 **로 00 소재 건물 @층에 있는 피해자 J가 운영하는 ‘◇◇ 성인회관’ 주점 무대에서 술에 취하여 계속 노래를 부르다가 피해자에게 제지당하자 피해자에게 큰 소리로 “씨발”이라며 욕설을 하고, 가지고 있던 식칼을  꺼내 흔들고, 바지를 벗는 등 약 50분간 소란을 피워 위 주점 다른 테이블에 있던 손님들이 위 주점을 이용하는 것을 불편하게 함으로써 위력으로 피해자의 주점 영업 업무를 방해하였다. 『2019고합189』 1. 재물손괴 피고인은 2019. 3. 8. 16:30경 울산시 중구 **길 00 ♤♤우체국 내에서 술에 취하여  아무런 이유 없이 주위 사람들에게 욕설을 하다가 직원인 피해자 K가 관리하는 스테인레스 휴지통 1개를 발로 수회 걷어차 찌그러뜨리는 등 손괴하였다. 2. 업무방해 피고인은 2019. 3. 18. 16:00경부터 같은 날 16:20경까지 울산 중구 **로 00에 있는  □□병원 외과 진료실 앞에서 아무런 이유 없이 커피가 들어 있던 종이컵을 바닥에 집어던지고, 간호사인 피해자 L(여, 29세)이 환자를 태우고 밀고 가던 휠체어에 부딪힌  사실이 없음에도 마치 발이 부딪힌 것처럼 큰소리로 피해자에게 “다리몽댕이를 부러뜨려버린다”라고 욕설을 하고, 소지하고 있던 우산을 바닥에 집어 던지고 이를 제지하던  원무과 부장인 피해자 M(48세)에게도 욕설을 하였다. 이로써 피고인은 위력으로써 약 20분 동안 피해자들의 병원 관리 및 진료 업무를 방해하였다. 『2019고합190』 피고인은 2019. 3. 16. 06:00경 울산 남구 **로 00 ▣▣건물 @층에 있는 피해자 N이 관리하는 ‘▤▤’ 집무실에 시정되어 있지 않은 출입문을 통해 몰래 침입하여, 그곳에 있는 시가 6만 원 상당의 조끼를 뜯어 입고, 30만 원 상당의 건강식품을 가져가려고 하던 중 사람소리를 듣고 찾아 온 피해자에게 발각되는 바람에 그 뜻을 이루지 못하였다. 이로써 피고인은 야간에 피해자가 관리하는 건조물에 침입하여 재물을 절취하려다가  미수에 그쳤다. 『2019고합203』 1. 피해자 O에 대한 사기 피고인은 2018. 10. 19.경 울산 울주군 **로 00 위 ▨▨병원 @층 입원 병실에서 피해자 O에게 \"퇴원 후에 거주할 수 있는 아파트를 알아봐 주겠다. 권리금으로 500만 원이 필요하니 통장을 주면 돈을 찾아서 지급하겠다\"라고 거짓말하였다. 그러나 사실은  피고인은 피해자가 거주할 아파트를 찾아봐 줄 의사나 능력이 없었고 피해자의 돈을  인출하여 피고인의 벌금 납부와 생활비 등으로 사용할 의사였다. 그럼에도 불구하고  피고인은 이와 같이 피해자를 기망하여 이에 속은 피해자로부터 피고인 명의의 농협(81****) 통장과 비밀번호를 교부받아 즉시 300만 원, 2018. 10. 20.경 200만 원 합계  500만 원을 인출하였다. 이로써 피고인은 피해자를 기망하여 재물을 교부받았다. 2. 택시요금 사기 가. 피고인은 2019. 4. 4. 01:55경 울산시 남구 **동 소재 일원에서 피해자 P(62세)가 운행하는 울산 Q호 영업용 택시에 손님으로 승차한 뒤 마치 택시요금을 정상적으로 지불할 것처럼 가장하며 피해자에게 울산 중구 @@병원으로 가자고 요구하였다. 그러나 사실은 피고인은 택시 요금을 지불할 의사나 능력이 없었다. 그럼에도 불구하고  피고인은 이와 같이 피해자를 기망하여 이에 속은 피해자로 하여금 목적지까지 택시를  운행하게 한 후 택시요금 7,600원을 지불하지 아니하여 동액 상당의 재산상 이익을 취득하였다. 나. 피고인은 2019. 4. 5. 18:39경 울산 북구 **동에 있는 ▦▦시장 앞에서 피해자 R(64세)이 운행하는 울산 S호 택시에 손님으로 승차한 뒤 마치 택시요금을 정상적으로  지불할 것처럼 가장하며 피해자에게 울산 중구 **로 ○○지구대로 가자고 요구하였다.  그러나 사실은 피고인은 택시 요금을 지불할 의사나 능력이 없었다. 그럼에도 불구하고 피고인은 이와 같이 피해자를 기망하여 이에 속은 피해자로 하여금 목적지까지 택시를 운행하게 한 후 택시요금 22,100원을 지불하지 아니하여 동액 상당의 재산상 이익을 취득하였다. 다. 피고인은 2019. 4. 6. 23:08경 울산 남구 **로타리 부근에서 피해자 T(62세)가  운행하는 울산 U호 택시에 손님으로 승차한 뒤 마치 택시요금을 정상적으로 지불할  것처럼 가장하며 피해자에게 울산 중구 **동 @@병원으로 가자고 요구하였다. 그러나  사실은 피고인은 택시 요금을 지불할 의사나 능력이 없었다. 그럼에도 불구하고 피고인은 이와 같이 피해자를 기망하여 이에 속은 피해자로 하여금 목적지까지 택시를 운행하게 한 후 택시요금 8,900원을 지불하지 아니하여 동액 상당의 재산상 이익을 취득하였다. 라. 피고인은 2019. 4. 7. 13:00경 부산시 노포동에 있는 시외버스터미널 인근에서  피해자 V(42세)가 운행하는 W호 택시에 손님으로 승차한 뒤 마치 택시요금을 정상적으로 지불할 것처럼 가장하며 피해자에게 울산 중구 **동 ○○지구대로 가자고 요구하였다. 그러나 사실은 피고인은 택시 요금을 지불할 의사나 능력이 없었다. 그럼에도 불구하고 피고인은 이와 같이 피해자를 기망하여 이에 속은 피해자로 하여금 목적지까지  택시를 운행하게 한 후 택시요금 60,000원을 지불하지 아니하여 동액 상당의 재산상  이익을 취득하였다. [치료감호원인사실] 피고인은 행동조절이 잘되지 않고 현실감과 판단력이 떨어지는 상세불명의 양극성  정동장애, 알코올 사용의 의존증후군 등으로 인하여 사물을 변별하거나 의사를 결정할  능력이 미약한 상태에서 금고 이상의 형에 해당하는 위와 같은 범죄를 저지른 자로,  현재 정신건강증진 및 정신질환자 복지서비스 지원에 관한 법률에 따라 응급입원 중인바, 향후에도 재범의 위험성이 높으므로 치료감호시설에서 치료를 받을 필요가 있다. 증거의 요지 생략 법령의 적용 1. 범죄사실에 대한 해당법조 각형법 제347조 제1항(사기의 점),형법 제136조 제1항(공무집행방해의 점), 각형법 제314조 제1항(업무방해의 점),형법 제366조(재물손괴의 점),형법 제342조, 제330조(야간건조물침입절도미수의 점) 1. 상상적 경합 형법 제40조, 제50조(2019. 3. 18.자 각 업무방해죄 상호간, 범정이 더 무거운 L에  대한 업무방해죄에 정한 형으로 처벌) 1. 형의 선택 야간건조물침입절도미수죄를 제외한 나머지 각 죄에 대하여 징역형을 각 선택 1. 심신미약감경 구 형법(2018. 12. 18. 법률 제15982호로 개정되기 전의 것) 제10조 제2항, 제55조  제1항 제3호,형법 제10조 제2항, 제55조 제1항 제3호(피고인은 상세불명의 양극성  정동장애, 알코올 사용의 의존증후군 등으로 이 사건 각 범행 당시 사물을 변별하거나 의사를 결정할 능력이 미약한 상태에서 범행한 것으로 판단된다) 1. 경합범가중 형법 제37조전단, 제38조 제1항 제2호, 제50조 1. 몰수 형법 제48조 제1항 제1호 1. 치료감호 치료감호 등에 관한 법률 제12조 제1항 전단, 제2조 제1항 제1호\n"
     ]
    }
   ],
   "source": [
    "pd.set_option('display.max_colwidth', None)\n",
    "row_index = 1033\n",
    "print(df.at[row_index, '전문'])"
   ]
  },
  {
   "cell_type": "code",
   "execution_count": 19,
   "id": "2965c8f1",
   "metadata": {
    "execution": {
     "iopub.execute_input": "2024-07-23T09:36:51.028907Z",
     "iopub.status.busy": "2024-07-23T09:36:51.028660Z",
     "iopub.status.idle": "2024-07-23T09:36:51.032206Z",
     "shell.execute_reply": "2024-07-23T09:36:51.031353Z"
    },
    "papermill": {
     "duration": 0.018142,
     "end_time": "2024-07-23T09:36:51.034052",
     "exception": false,
     "start_time": "2024-07-23T09:36:51.015910",
     "status": "completed"
    },
    "tags": []
   },
   "outputs": [],
   "source": [
    "###################################################################################################################################################################"
   ]
  },
  {
   "cell_type": "code",
   "execution_count": 20,
   "id": "a5b0b7c8",
   "metadata": {
    "execution": {
     "iopub.execute_input": "2024-07-23T09:36:51.058454Z",
     "iopub.status.busy": "2024-07-23T09:36:51.058207Z",
     "iopub.status.idle": "2024-07-23T09:37:03.342645Z",
     "shell.execute_reply": "2024-07-23T09:37:03.341423Z"
    },
    "papermill": {
     "duration": 12.29896,
     "end_time": "2024-07-23T09:37:03.344789",
     "exception": false,
     "start_time": "2024-07-23T09:36:51.045829",
     "status": "completed"
    },
    "tags": []
   },
   "outputs": [
    {
     "name": "stdout",
     "output_type": "stream",
     "text": [
      "Requirement already satisfied: transformers in /opt/conda/lib/python3.10/site-packages (4.42.3)\r\n",
      "Requirement already satisfied: safetensors in /opt/conda/lib/python3.10/site-packages (0.4.3)\r\n",
      "Requirement already satisfied: scikit-learn in /opt/conda/lib/python3.10/site-packages (1.2.2)\r\n",
      "Requirement already satisfied: filelock in /opt/conda/lib/python3.10/site-packages (from transformers) (3.13.1)\r\n",
      "Requirement already satisfied: huggingface-hub<1.0,>=0.23.2 in /opt/conda/lib/python3.10/site-packages (from transformers) (0.23.4)\r\n",
      "Requirement already satisfied: numpy<2.0,>=1.17 in /opt/conda/lib/python3.10/site-packages (from transformers) (1.26.4)\r\n",
      "Requirement already satisfied: packaging>=20.0 in /opt/conda/lib/python3.10/site-packages (from transformers) (21.3)\r\n",
      "Requirement already satisfied: pyyaml>=5.1 in /opt/conda/lib/python3.10/site-packages (from transformers) (6.0.1)\r\n",
      "Requirement already satisfied: regex!=2019.12.17 in /opt/conda/lib/python3.10/site-packages (from transformers) (2023.12.25)\r\n",
      "Requirement already satisfied: requests in /opt/conda/lib/python3.10/site-packages (from transformers) (2.32.3)\r\n",
      "Requirement already satisfied: tokenizers<0.20,>=0.19 in /opt/conda/lib/python3.10/site-packages (from transformers) (0.19.1)\r\n",
      "Requirement already satisfied: tqdm>=4.27 in /opt/conda/lib/python3.10/site-packages (from transformers) (4.66.4)\r\n",
      "Requirement already satisfied: scipy>=1.3.2 in /opt/conda/lib/python3.10/site-packages (from scikit-learn) (1.11.4)\r\n",
      "Requirement already satisfied: joblib>=1.1.1 in /opt/conda/lib/python3.10/site-packages (from scikit-learn) (1.4.2)\r\n",
      "Requirement already satisfied: threadpoolctl>=2.0.0 in /opt/conda/lib/python3.10/site-packages (from scikit-learn) (3.2.0)\r\n",
      "Requirement already satisfied: fsspec>=2023.5.0 in /opt/conda/lib/python3.10/site-packages (from huggingface-hub<1.0,>=0.23.2->transformers) (2024.5.0)\r\n",
      "Requirement already satisfied: typing-extensions>=3.7.4.3 in /opt/conda/lib/python3.10/site-packages (from huggingface-hub<1.0,>=0.23.2->transformers) (4.9.0)\r\n",
      "Requirement already satisfied: pyparsing!=3.0.5,>=2.0.2 in /opt/conda/lib/python3.10/site-packages (from packaging>=20.0->transformers) (3.1.1)\r\n",
      "Requirement already satisfied: charset-normalizer<4,>=2 in /opt/conda/lib/python3.10/site-packages (from requests->transformers) (3.3.2)\r\n",
      "Requirement already satisfied: idna<4,>=2.5 in /opt/conda/lib/python3.10/site-packages (from requests->transformers) (3.6)\r\n",
      "Requirement already satisfied: urllib3<3,>=1.21.1 in /opt/conda/lib/python3.10/site-packages (from requests->transformers) (1.26.18)\r\n",
      "Requirement already satisfied: certifi>=2017.4.17 in /opt/conda/lib/python3.10/site-packages (from requests->transformers) (2024.7.4)\r\n",
      "Note: you may need to restart the kernel to use updated packages.\n"
     ]
    }
   ],
   "source": [
    "pip install transformers safetensors scikit-learn"
   ]
  },
  {
   "cell_type": "code",
   "execution_count": 21,
   "id": "10530e6f",
   "metadata": {
    "execution": {
     "iopub.execute_input": "2024-07-23T09:37:03.372321Z",
     "iopub.status.busy": "2024-07-23T09:37:03.371529Z",
     "iopub.status.idle": "2024-07-23T09:37:15.377983Z",
     "shell.execute_reply": "2024-07-23T09:37:15.376971Z"
    },
    "papermill": {
     "duration": 12.022682,
     "end_time": "2024-07-23T09:37:15.380545",
     "exception": false,
     "start_time": "2024-07-23T09:37:03.357863",
     "status": "completed"
    },
    "tags": []
   },
   "outputs": [
    {
     "name": "stdout",
     "output_type": "stream",
     "text": [
      "Requirement already satisfied: konlpy in /opt/conda/lib/python3.10/site-packages (0.6.0)\r\n",
      "Requirement already satisfied: JPype1>=0.7.0 in /opt/conda/lib/python3.10/site-packages (from konlpy) (1.5.0)\r\n",
      "Requirement already satisfied: lxml>=4.1.0 in /opt/conda/lib/python3.10/site-packages (from konlpy) (5.2.2)\r\n",
      "Requirement already satisfied: numpy>=1.6 in /opt/conda/lib/python3.10/site-packages (from konlpy) (1.26.4)\r\n",
      "Requirement already satisfied: packaging in /opt/conda/lib/python3.10/site-packages (from JPype1>=0.7.0->konlpy) (21.3)\r\n",
      "Requirement already satisfied: pyparsing!=3.0.5,>=2.0.2 in /opt/conda/lib/python3.10/site-packages (from packaging->JPype1>=0.7.0->konlpy) (3.1.1)\r\n"
     ]
    }
   ],
   "source": [
    "!pip install konlpy"
   ]
  },
  {
   "cell_type": "code",
   "execution_count": 22,
   "id": "2f2cb8c6",
   "metadata": {
    "_cell_guid": "b1076dfc-b9ad-4769-8c92-a6c4dae69d19",
    "_uuid": "8f2839f25d086af736a60e9eeb907d3b93b6e0e5",
    "execution": {
     "iopub.execute_input": "2024-07-23T09:37:15.407513Z",
     "iopub.status.busy": "2024-07-23T09:37:15.407184Z",
     "iopub.status.idle": "2024-07-23T09:37:15.413491Z",
     "shell.execute_reply": "2024-07-23T09:37:15.412707Z"
    },
    "papermill": {
     "duration": 0.021913,
     "end_time": "2024-07-23T09:37:15.415355",
     "exception": false,
     "start_time": "2024-07-23T09:37:15.393442",
     "status": "completed"
    },
    "tags": []
   },
   "outputs": [],
   "source": [
    "import pandas as pd\n",
    "import re\n",
    "from konlpy.tag import Okt\n",
    "from transformers import RobertaTokenizer, RobertaModel\n",
    "from safetensors.torch import load_file\n",
    "from sklearn.metrics.pairwise import cosine_similarity\n",
    "from transformers import BertTokenizer, BertModel\n",
    "import torch\n",
    "import os"
   ]
  },
  {
   "cell_type": "code",
   "execution_count": 23,
   "id": "af9cda5d",
   "metadata": {
    "execution": {
     "iopub.execute_input": "2024-07-23T09:37:15.441826Z",
     "iopub.status.busy": "2024-07-23T09:37:15.441528Z",
     "iopub.status.idle": "2024-07-23T09:37:15.581350Z",
     "shell.execute_reply": "2024-07-23T09:37:15.579981Z"
    },
    "papermill": {
     "duration": 0.155614,
     "end_time": "2024-07-23T09:37:15.583675",
     "exception": false,
     "start_time": "2024-07-23T09:37:15.428061",
     "status": "completed"
    },
    "tags": []
   },
   "outputs": [],
   "source": [
    "file_path = '/kaggle/input/output1/output1.csv'\n",
    "df = pd.read_csv(file_path)"
   ]
  },
  {
   "cell_type": "code",
   "execution_count": 24,
   "id": "8f7d0324",
   "metadata": {
    "execution": {
     "iopub.execute_input": "2024-07-23T09:37:15.610553Z",
     "iopub.status.busy": "2024-07-23T09:37:15.610244Z",
     "iopub.status.idle": "2024-07-23T09:37:15.614670Z",
     "shell.execute_reply": "2024-07-23T09:37:15.613895Z"
    },
    "papermill": {
     "duration": 0.019839,
     "end_time": "2024-07-23T09:37:15.616475",
     "exception": false,
     "start_time": "2024-07-23T09:37:15.596636",
     "status": "completed"
    },
    "tags": []
   },
   "outputs": [],
   "source": [
    "device = torch.device(\"cuda\" if torch.cuda.is_available() else \"cpu\")"
   ]
  },
  {
   "cell_type": "code",
   "execution_count": 25,
   "id": "d1d3f70e",
   "metadata": {
    "execution": {
     "iopub.execute_input": "2024-07-23T09:37:15.642770Z",
     "iopub.status.busy": "2024-07-23T09:37:15.642497Z",
     "iopub.status.idle": "2024-07-23T09:37:18.309018Z",
     "shell.execute_reply": "2024-07-23T09:37:18.308019Z"
    },
    "papermill": {
     "duration": 2.68223,
     "end_time": "2024-07-23T09:37:18.311525",
     "exception": false,
     "start_time": "2024-07-23T09:37:15.629295",
     "status": "completed"
    },
    "tags": []
   },
   "outputs": [],
   "source": [
    "model_path = '/kaggle/input/kosimcse-1'\n",
    "tokenizer = BertTokenizer.from_pretrained(model_path)\n",
    "model_state_dict = load_file(f\"{model_path}/model.safetensors\")\n",
    "model = RobertaModel.from_pretrained(model_path, state_dict=model_state_dict).to(device)"
   ]
  },
  {
   "cell_type": "code",
   "execution_count": 26,
   "id": "7d6dbb54",
   "metadata": {
    "execution": {
     "iopub.execute_input": "2024-07-23T09:37:18.338359Z",
     "iopub.status.busy": "2024-07-23T09:37:18.337952Z",
     "iopub.status.idle": "2024-07-23T09:37:18.342239Z",
     "shell.execute_reply": "2024-07-23T09:37:18.341468Z"
    },
    "papermill": {
     "duration": 0.019646,
     "end_time": "2024-07-23T09:37:18.344045",
     "exception": false,
     "start_time": "2024-07-23T09:37:18.324399",
     "status": "completed"
    },
    "tags": []
   },
   "outputs": [],
   "source": [
    "okt = Okt()"
   ]
  },
  {
   "cell_type": "code",
   "execution_count": 27,
   "id": "de5a197d",
   "metadata": {
    "execution": {
     "iopub.execute_input": "2024-07-23T09:37:18.370006Z",
     "iopub.status.busy": "2024-07-23T09:37:18.369755Z",
     "iopub.status.idle": "2024-07-23T09:37:18.374527Z",
     "shell.execute_reply": "2024-07-23T09:37:18.373683Z"
    },
    "papermill": {
     "duration": 0.019843,
     "end_time": "2024-07-23T09:37:18.376321",
     "exception": false,
     "start_time": "2024-07-23T09:37:18.356478",
     "status": "completed"
    },
    "tags": []
   },
   "outputs": [],
   "source": [
    "def preprocess_text(text):\n",
    "    text = re.sub(r'\\s+', ' ', text)\n",
    "    text = re.sub(r'[^\\w\\s가-힣]', '', text)\n",
    "    text = text.lower()\n",
    "    text = ' '.join(okt.morphs(text))\n",
    "    return text"
   ]
  },
  {
   "cell_type": "code",
   "execution_count": 28,
   "id": "27ff948d",
   "metadata": {
    "execution": {
     "iopub.execute_input": "2024-07-23T09:37:18.402804Z",
     "iopub.status.busy": "2024-07-23T09:37:18.402520Z",
     "iopub.status.idle": "2024-07-23T09:38:33.894702Z",
     "shell.execute_reply": "2024-07-23T09:38:33.893870Z"
    },
    "papermill": {
     "duration": 75.507951,
     "end_time": "2024-07-23T09:38:33.897062",
     "exception": false,
     "start_time": "2024-07-23T09:37:18.389111",
     "status": "completed"
    },
    "tags": []
   },
   "outputs": [],
   "source": [
    "df['전문'] = df['전문'].apply(preprocess_text)"
   ]
  },
  {
   "cell_type": "code",
   "execution_count": 29,
   "id": "23e0779d",
   "metadata": {
    "execution": {
     "iopub.execute_input": "2024-07-23T09:38:33.923999Z",
     "iopub.status.busy": "2024-07-23T09:38:33.923718Z",
     "iopub.status.idle": "2024-07-23T09:38:33.928964Z",
     "shell.execute_reply": "2024-07-23T09:38:33.928154Z"
    },
    "papermill": {
     "duration": 0.02056,
     "end_time": "2024-07-23T09:38:33.930891",
     "exception": false,
     "start_time": "2024-07-23T09:38:33.910331",
     "status": "completed"
    },
    "tags": []
   },
   "outputs": [],
   "source": [
    "def encode_text(text):\n",
    "    inputs = tokenizer(text, return_tensors='pt', truncation=True, padding=True).to(device)\n",
    "    with torch.no_grad():\n",
    "        outputs = model(**inputs)\n",
    "    cls_embedding = outputs.last_hidden_state.mean(dim=1).squeeze()\n",
    "    return cls_embedding"
   ]
  },
  {
   "cell_type": "code",
   "execution_count": 30,
   "id": "85af4ece",
   "metadata": {
    "execution": {
     "iopub.execute_input": "2024-07-23T09:38:33.957036Z",
     "iopub.status.busy": "2024-07-23T09:38:33.956755Z",
     "iopub.status.idle": "2024-07-23T09:38:33.962699Z",
     "shell.execute_reply": "2024-07-23T09:38:33.961868Z"
    },
    "papermill": {
     "duration": 0.021202,
     "end_time": "2024-07-23T09:38:33.964525",
     "exception": false,
     "start_time": "2024-07-23T09:38:33.943323",
     "status": "completed"
    },
    "tags": []
   },
   "outputs": [],
   "source": [
    "def search_query(query, df, top_k=5):\n",
    "    query = preprocess_text(query)\n",
    "    query_embedding = encode_text(query).unsqueeze(0)\n",
    "\n",
    "    document_embeddings = [encode_text(text) for text in df['전문']]\n",
    "    document_embeddings = torch.stack(document_embeddings)\n",
    "\n",
    "    similarities = cosine_similarity(query_embedding.cpu(), document_embeddings.cpu()).flatten()\n",
    "\n",
    "    top_indices = similarities.argsort()[-top_k:][::-1]\n",
    "\n",
    "    results = df.iloc[top_indices]\n",
    "    return results[['주문']]"
   ]
  },
  {
   "cell_type": "code",
   "execution_count": 31,
   "id": "60990304",
   "metadata": {
    "execution": {
     "iopub.execute_input": "2024-07-23T09:38:33.991648Z",
     "iopub.status.busy": "2024-07-23T09:38:33.991302Z",
     "iopub.status.idle": "2024-07-23T09:38:55.520597Z",
     "shell.execute_reply": "2024-07-23T09:38:55.519037Z"
    },
    "papermill": {
     "duration": 21.547169,
     "end_time": "2024-07-23T09:38:55.524163",
     "exception": false,
     "start_time": "2024-07-23T09:38:33.976994",
     "status": "completed"
    },
    "tags": []
   },
   "outputs": [],
   "source": [
    "query = \"내에서 피해자 D(남, 63세)과 함께 술을 마시던 중 욕설 등 말다툼 중에 화가 나 그곳에 있던 위험한 물건인 과도(칼날 길이 약 9cm, 전체 길이 약 19.5cm)를 집어 들고 피해자의 좌측 가슴 부위를 1회 찔러 피해자에게 약 2주간의 치료를 요하는 흉부의 상세불명 부분의 열린상처 등 상해를 가하였다\"\n",
    "result = search_query(query, df)"
   ]
  },
  {
   "cell_type": "code",
   "execution_count": 32,
   "id": "91332564",
   "metadata": {
    "execution": {
     "iopub.execute_input": "2024-07-23T09:38:55.579349Z",
     "iopub.status.busy": "2024-07-23T09:38:55.578807Z",
     "iopub.status.idle": "2024-07-23T09:38:55.592802Z",
     "shell.execute_reply": "2024-07-23T09:38:55.591676Z"
    },
    "papermill": {
     "duration": 0.045288,
     "end_time": "2024-07-23T09:38:55.596612",
     "exception": false,
     "start_time": "2024-07-23T09:38:55.551324",
     "status": "completed"
    },
    "tags": []
   },
   "outputs": [
    {
     "name": "stdout",
     "output_type": "stream",
     "text": [
      "                                                                                                주문\n",
      "637        피고인을 징역 1년에 처한다. 다만, 이 판결 확정일부터 3년간 위 형의 집행을 유예한다. 피고인에게 보호관찰을 받을 것과 80시간의 사회봉사를 각 명한다.\n",
      "944                     피고인을 징역 8개월에 처한다. 다만, 이 판결 확정일부터 2년간 위 형의 집행을 유예한다. 피고인에게 보호관찰을 받을 것을 명한다.\n",
      "948                     피고인을 징역 1년에 처한다. 다만, 이 판결 확정일부터 3년간 위 형의 집행을 유예한다. 압수된 과도 1개(증 제1호)를 몰수한다.\n",
      "771                                             피고인을 징역 8월에 처한다. 다만, 이 판결 확정일부터 2년간 위 형의 집행을 유예한다.\n",
      "83   피고인을 징역 6월에 처한다. 다만, 이 판결 확정일부터 2년간 위 형의 집행을 유예한다. 피고인에게 80시간의 사회봉사 및 40시간의 알코올 치료강의 수강을 명한다.\n"
     ]
    }
   ],
   "source": [
    "print(result)"
   ]
  },
  {
   "cell_type": "code",
   "execution_count": null,
   "id": "84f16db1",
   "metadata": {
    "papermill": {
     "duration": 0.012449,
     "end_time": "2024-07-23T09:38:55.688398",
     "exception": false,
     "start_time": "2024-07-23T09:38:55.675949",
     "status": "completed"
    },
    "tags": []
   },
   "outputs": [],
   "source": []
  },
  {
   "cell_type": "code",
   "execution_count": null,
   "id": "e75571ee",
   "metadata": {
    "papermill": {
     "duration": 0.01232,
     "end_time": "2024-07-23T09:38:55.713264",
     "exception": false,
     "start_time": "2024-07-23T09:38:55.700944",
     "status": "completed"
    },
    "tags": []
   },
   "outputs": [],
   "source": []
  },
  {
   "cell_type": "code",
   "execution_count": 33,
   "id": "cc5283d0",
   "metadata": {
    "execution": {
     "iopub.execute_input": "2024-07-23T09:38:55.739885Z",
     "iopub.status.busy": "2024-07-23T09:38:55.739540Z",
     "iopub.status.idle": "2024-07-23T09:40:23.523236Z",
     "shell.execute_reply": "2024-07-23T09:40:23.522355Z"
    },
    "papermill": {
     "duration": 87.812792,
     "end_time": "2024-07-23T09:40:23.538632",
     "exception": false,
     "start_time": "2024-07-23T09:38:55.725840",
     "status": "completed"
    },
    "tags": []
   },
   "outputs": [
    {
     "name": "stdout",
     "output_type": "stream",
     "text": [
      "                                                                                                                                                                                                            주문\n",
      "6                                                                                                                                                                                 원심판결을 파기한다. 피고인을 징역 1년에 처한다.\n",
      "9  피고인을 벌금 500만 원에 처한다. 다만 이 판결 확정일로부터 1년간 위 형의 집행을 유예한다. 위 집행유예의 선고가 실효 또는 취소되고 피고인이 위 벌금을 납입하지 아니하는 경우 10만 원을 1일로 환산한 기간 피고인을 노역장에 유치한다. 이 사건 공소사실 중 근로자 B, C에 대한 임금 등 미지급을 이유로 한 근로기준법위반의 점에 대한 공소를 각 기각한다.\n",
      "5                                                                                                        피고인을 벌금 300만 원에 처한다. 피고인이 위 벌금을 납입하지 아니하는 경우 10만 원을 1일로 환산한 기간 피고인을 노역장에 유치한다. 위 벌금에 상당한 금액의 가납을 명한다.\n",
      "8                        피고인 A를 벌금 300만 원에, 피고인 B을 징역 8개월에 각 처한다. 피고인 A가 위 벌금을 납입하지 아니하는 경우 10만 원을 1일로 환산한 기간 위 피고인을 노역장에 유치한다. 다만, 이 판결 확정일로부터 2년간 피고인 B에 대한 위 형의 집행을 유예한다. 피고인 A에 대하여 위 벌금에 상당한 금액의 가납을 명한다.\n",
      "7                                                                                                                                                                       원심판결 중 피고사건 부분을 파기한다. 피고인을 징역 1년에 처한다.\n"
     ]
    }
   ],
   "source": [
    "import pandas as pd\n",
    "import re\n",
    "from konlpy.tag import Okt\n",
    "from transformers import BertTokenizer, BertModel, RobertaTokenizer, RobertaModel\n",
    "from safetensors.torch import load_file\n",
    "from sklearn.feature_extraction.text import TfidfVectorizer\n",
    "from sklearn.metrics.pairwise import cosine_similarity\n",
    "import torch\n",
    "\n",
    "file_path = '/kaggle/input/output1/output1.csv'\n",
    "df = pd.read_csv(file_path)\n",
    "\n",
    "device = torch.device(\"cuda\" if torch.cuda.is_available() else \"cpu\")\n",
    "\n",
    "model_path = '/kaggle/input/kosimcse-1'\n",
    "tokenizer = BertTokenizer.from_pretrained(model_path)\n",
    "model_state_dict = load_file(f\"{model_path}/model.safetensors\")\n",
    "model = RobertaModel.from_pretrained(model_path, state_dict=model_state_dict).to(device)\n",
    "\n",
    "okt = Okt()\n",
    "\n",
    "def preprocess_text(text):\n",
    "    text = re.sub(r'\\s+', ' ', text)\n",
    "    text = re.sub(r'[^\\w\\s가-힣]', '', text)\n",
    "    text = text.lower()\n",
    "    text = ' '.join(okt.morphs(text))\n",
    "    return text\n",
    "\n",
    "df['전문'] = df['전문'].apply(preprocess_text)\n",
    "\n",
    "def encode_text(text):\n",
    "    inputs = tokenizer(text, return_tensors='pt', truncation=True, padding=True).to(device)\n",
    "    with torch.no_grad():\n",
    "        outputs = model(**inputs)\n",
    "    cls_embedding = outputs.last_hidden_state.mean(dim=1).squeeze()\n",
    "    return cls_embedding\n",
    "\n",
    "def search_query(query, df, top_k=5):\n",
    "    query = preprocess_text(query)\n",
    "    query_embedding = encode_text(query).unsqueeze(0)\n",
    "\n",
    "    chunk_size = 100\n",
    "    document_chunks = [df['전문'].iloc[i:i+chunk_size] for i in range(0, len(df), chunk_size)]\n",
    "    document_embeddings = [encode_text(chunk.str.cat(sep=' ')) for chunk in document_chunks]\n",
    "    document_embeddings = torch.stack(document_embeddings)\n",
    "\n",
    "    similarities = cosine_similarity(query_embedding.cpu(), document_embeddings.cpu()).flatten()\n",
    "\n",
    "    top_chunk_indices = similarities.argsort()[-top_k:][::-1]\n",
    "\n",
    "    tfidf_vectorizer = TfidfVectorizer()\n",
    "    tfidf_matrix = tfidf_vectorizer.fit_transform([df['전문'].iloc[i*chunk_size:(i+1)*chunk_size].str.cat(sep=' ') for i in top_chunk_indices])\n",
    "    query_tfidf = tfidf_vectorizer.transform([query])\n",
    "    tfidf_scores = cosine_similarity(query_tfidf, tfidf_matrix).flatten()\n",
    "\n",
    "    final_scores = []\n",
    "    for i in range(len(similarities)):\n",
    "        if i < len(tfidf_scores):\n",
    "            final_scores.append(similarities[i] * tfidf_scores[i])\n",
    "        else:\n",
    "            final_scores.append(similarities[i])\n",
    "\n",
    "    top_indices = sorted(range(len(final_scores)), key=lambda i: final_scores[i], reverse=True)[:top_k]\n",
    "\n",
    "    results = df.iloc[top_indices]\n",
    "    return results[['주문']]\n",
    "\n",
    "query = \"내에서 피해자 D(남, 63세)과 함께 술을 마시던 중 욕설 등 말다툼 중에 화가 나 그곳에 있던 위험한 물건인 과도(칼날 길이 약 9cm, 전체 길이 약 19.5cm)를 집어 들고 피해자의 좌측 가슴 부위를 1회 찔러 피해자에게 약 2주간의 치료를 요하는 흉부의 상세불명 부분의 열린상처 등 상해를 가하였다\"\n",
    "result = search_query(query, df)\n",
    "print(result)\n"
   ]
  },
  {
   "cell_type": "code",
   "execution_count": null,
   "id": "e3567892",
   "metadata": {
    "papermill": {
     "duration": 0.012527,
     "end_time": "2024-07-23T09:40:23.564197",
     "exception": false,
     "start_time": "2024-07-23T09:40:23.551670",
     "status": "completed"
    },
    "tags": []
   },
   "outputs": [],
   "source": [
    "\n"
   ]
  },
  {
   "cell_type": "code",
   "execution_count": null,
   "id": "eea6d9b7",
   "metadata": {
    "papermill": {
     "duration": 0.012426,
     "end_time": "2024-07-23T09:40:23.589224",
     "exception": false,
     "start_time": "2024-07-23T09:40:23.576798",
     "status": "completed"
    },
    "tags": []
   },
   "outputs": [],
   "source": []
  },
  {
   "cell_type": "code",
   "execution_count": 34,
   "id": "026d99f9",
   "metadata": {
    "execution": {
     "iopub.execute_input": "2024-07-23T09:40:23.616061Z",
     "iopub.status.busy": "2024-07-23T09:40:23.615325Z",
     "iopub.status.idle": "2024-07-23T09:42:58.411028Z",
     "shell.execute_reply": "2024-07-23T09:42:58.404501Z"
    },
    "papermill": {
     "duration": 154.837387,
     "end_time": "2024-07-23T09:42:58.439114",
     "exception": false,
     "start_time": "2024-07-23T09:40:23.601727",
     "status": "completed"
    },
    "tags": []
   },
   "outputs": [
    {
     "name": "stdout",
     "output_type": "stream",
     "text": [
      "                                                                                                                                          주문\n",
      "948                                                               피고인을 징역 1년에 처한다. 다만, 이 판결 확정일부터 3년간 위 형의 집행을 유예한다. 압수된 과도 1개(증 제1호)를 몰수한다.\n",
      "607  피고인을 징역 1년에 처한다. 다만, 이 판결 확정일부터 2년간 위 형의 집행을 유예한다. 피고인에게 보호관찰을 받을 것과 80시간의 사회봉사 및 40시간의 폭력치료강의 수강을 명한다. 압수된 과도 1점(증 제1호)을 피고인으로부터 몰수한다.\n",
      "510                                                                                       피고인을 징역 6월에 처한다. 다만, 이 판결 확정일부터 2년간 위 형의 집행을 유예한다.\n",
      "956                                        피고인을 징역 1년에 처한다. 다만, 이 판결 확정일부터 2년간 위 형의 집행을 유예한다. 피고인에게 40시간의 알코올 치료강의 수강을 명한다. 압수된 증 제2호를 몰수한다.\n",
      "253                                                                                                 피고인을 징역 6년에 처한다. 압수된 식칼 1개(증 제1호)를 몰수한다.\n"
     ]
    }
   ],
   "source": [
    "import pandas as pd\n",
    "import re\n",
    "from konlpy.tag import Okt\n",
    "from transformers import BertTokenizer, BertModel, RobertaTokenizer, RobertaModel\n",
    "from safetensors.torch import load_file\n",
    "from sklearn.metrics.pairwise import cosine_similarity\n",
    "import torch\n",
    "import os\n",
    "\n",
    "file_path = '/kaggle/input/output1/output1.csv'\n",
    "df = pd.read_csv(file_path)\n",
    "\n",
    "device = torch.device(\"cuda\" if torch.cuda.is_available() else \"cpu\")\n",
    "\n",
    "model_path = '/kaggle/input/kosimcse-1'\n",
    "tokenizer = BertTokenizer.from_pretrained(model_path)\n",
    "model_state_dict = load_file(f\"{model_path}/model.safetensors\")\n",
    "model = RobertaModel.from_pretrained(model_path, state_dict=model_state_dict).to(device)\n",
    "\n",
    "okt = Okt()\n",
    "def preprocess_text(text):\n",
    "    text = re.sub(r'\\s+', ' ', text)\n",
    "    text = re.sub(r'[^\\w\\s가-힣]', '', text)\n",
    "    text = text.lower()\n",
    "    text = ' '.join(okt.morphs(text))\n",
    "    return text\n",
    "\n",
    "def chunk_text(text, chunk_size=128, overlap=32):\n",
    "    words = text.split()\n",
    "    chunks = []\n",
    "    for i in range(0, len(words), chunk_size - overlap):\n",
    "        chunk = ' '.join(words[i:i + chunk_size])\n",
    "        chunks.append(chunk)\n",
    "        if i + chunk_size >= len(words):\n",
    "            break\n",
    "    return chunks\n",
    "\n",
    "def encode_text(text):\n",
    "    inputs = tokenizer(text, return_tensors='pt', truncation=True, padding=True).to(device)\n",
    "    with torch.no_grad():\n",
    "        outputs = model(**inputs)\n",
    "    cls_embedding = outputs.last_hidden_state.mean(dim=1).squeeze()\n",
    "    return cls_embedding\n",
    "\n",
    "df['processed_text'] = df['전문'].apply(preprocess_text)\n",
    "df['chunks'] = df['processed_text'].apply(lambda x: chunk_text(x))\n",
    "\n",
    "chunk_embeddings = []\n",
    "chunk_to_doc = []\n",
    "\n",
    "for idx, chunks in enumerate(df['chunks']):\n",
    "    for chunk in chunks:\n",
    "        chunk_embeddings.append(encode_text(chunk).cpu())\n",
    "        chunk_to_doc.append(idx)\n",
    "\n",
    "chunk_embeddings = torch.stack(chunk_embeddings)\n",
    "\n",
    "def search_query(query, df, chunk_embeddings, chunk_to_doc, top_k=5):\n",
    "    query = preprocess_text(query)\n",
    "    query_embedding = encode_text(query).unsqueeze(0).cpu()\n",
    "\n",
    "    similarities = cosine_similarity(query_embedding, chunk_embeddings).flatten()\n",
    "\n",
    "    top_indices = similarities.argsort()[-top_k:][::-1]\n",
    "\n",
    "    results = df.iloc[[chunk_to_doc[i] for i in top_indices]]\n",
    "    return results[['주문']]\n",
    "\n",
    "# Query example\n",
    "query = \"내에서 피해자 D(남, 63세)과 함께 술을 마시던 중 욕설 등 말다툼 중에 화가 나 그곳에 있던 위험한 물건인 과도(칼날 길이 약 9cm, 전체 길이 약 19.5cm)를 집어 들고 피해자의 좌측 가슴 부위를 1회 찔러 피해자에게 약 2주간의 치료를 요하는 흉부의 상세불명 부분의 열린상처 등 상해를 가하였다\"\n",
    "result = search_query(query, df, chunk_embeddings, chunk_to_doc)\n",
    "\n",
    "print(result)\n"
   ]
  },
  {
   "cell_type": "code",
   "execution_count": 35,
   "id": "7cf47bf8",
   "metadata": {
    "execution": {
     "iopub.execute_input": "2024-07-23T09:42:58.494493Z",
     "iopub.status.busy": "2024-07-23T09:42:58.493967Z",
     "iopub.status.idle": "2024-07-23T09:42:58.501434Z",
     "shell.execute_reply": "2024-07-23T09:42:58.500182Z"
    },
    "papermill": {
     "duration": 0.040326,
     "end_time": "2024-07-23T09:42:58.506404",
     "exception": false,
     "start_time": "2024-07-23T09:42:58.466078",
     "status": "completed"
    },
    "tags": []
   },
   "outputs": [
    {
     "name": "stdout",
     "output_type": "stream",
     "text": [
      "범 죄 사 실 피고인은 2023. 3. 19. 08:30경 시흥시 B, C호 피고인의 주거지   내에서 피해자 D(남, 63세)과 함께 술을 마시던 중 욕설 등 말다툼 중에 화가 나 그곳에 있던 위험한 물건인 과도(칼날 길이 약 9cm, 전체 길이 약 19.5cm)를 집어 들고 피해자의 좌측 가슴 부위를 1회 찔러 피해자에게 약 2주간의 치료를 요하는 흉부의 상세불명 부분의 열린상처 등 상해를 가하였다. 이로써 피고인은 위험한 물건을 휴대하여 피해자에게 상해를 가하였다. 증거의 요지 1. 피고인의 법정진술 1. D에 대한 진술조서 1. 입건전조사보고서(현장상황 및 피해자 진술), 각 수사보고서(편의점  CCTV 확인 /    방범용 CCTV 확인 / 관련 112신고사건처리표 첨부) 1. 압수조서, 현장 사진 및 압수물 사진 1. 각 수사보고서(피해자 제출 상해 진단서 / 소방 구급활동일지 첨부), 수사보고(피해자 전화진술 청취) 법령의 적용 1. 범죄사실에 대한 해당법조 형법 제258조의2 제1항, 제257조 제1항 1. 집행유예 형법 제62조 제1항 1. 몰수 형법 제48조 제1항 제1호\n"
     ]
    }
   ],
   "source": [
    "pd.set_option('display.max_colwidth', None)\n",
    "row_index = 948\n",
    "print(df.at[row_index, '전문'])"
   ]
  },
  {
   "cell_type": "code",
   "execution_count": null,
   "id": "1969be03",
   "metadata": {
    "papermill": {
     "duration": 0.012686,
     "end_time": "2024-07-23T09:42:58.544284",
     "exception": false,
     "start_time": "2024-07-23T09:42:58.531598",
     "status": "completed"
    },
    "tags": []
   },
   "outputs": [],
   "source": []
  }
 ],
 "metadata": {
  "kaggle": {
   "accelerator": "gpu",
   "dataSources": [
    {
     "datasetId": 5377890,
     "sourceId": 8938239,
     "sourceType": "datasetVersion"
    },
    {
     "datasetId": 5397347,
     "sourceId": 8966283,
     "sourceType": "datasetVersion"
    },
    {
     "datasetId": 5401123,
     "sourceId": 8971524,
     "sourceType": "datasetVersion"
    }
   ],
   "dockerImageVersionId": 30747,
   "isGpuEnabled": true,
   "isInternetEnabled": true,
   "language": "python",
   "sourceType": "notebook"
  },
  "kernelspec": {
   "display_name": "Python 3",
   "language": "python",
   "name": "python3"
  },
  "language_info": {
   "codemirror_mode": {
    "name": "ipython",
    "version": 3
   },
   "file_extension": ".py",
   "mimetype": "text/x-python",
   "name": "python",
   "nbconvert_exporter": "python",
   "pygments_lexer": "ipython3",
   "version": "3.10.13"
  },
  "papermill": {
   "default_parameters": {},
   "duration": 809.082462,
   "end_time": "2024-07-23T09:43:00.181527",
   "environment_variables": {},
   "exception": null,
   "input_path": "__notebook__.ipynb",
   "output_path": "__notebook__.ipynb",
   "parameters": {},
   "start_time": "2024-07-23T09:29:31.099065",
   "version": "2.5.0"
  }
 },
 "nbformat": 4,
 "nbformat_minor": 5
}
