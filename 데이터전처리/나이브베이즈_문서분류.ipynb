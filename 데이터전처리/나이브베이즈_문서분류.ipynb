{
  "nbformat": 4,
  "nbformat_minor": 0,
  "metadata": {
    "colab": {
      "provenance": []
    },
    "kernelspec": {
      "name": "python3",
      "display_name": "Python 3"
    },
    "language_info": {
      "name": "python"
    }
  },
  "cells": [
    {
      "cell_type": "markdown",
      "source": [
        "# Naive Bayes 분류"
      ],
      "metadata": {
        "id": "pBM1nMDE2Kol"
      }
    },
    {
      "cell_type": "code",
      "source": [
        "training_set = [['me free lottery', 1],\n",
        "                ['free get free you', 1],\n",
        "                ['you free scholarship', 0],\n",
        "                ['free to contact me', 0],\n",
        "                ['you won award', 0],\n",
        "                ['you ticket lottery', 1]]"
      ],
      "metadata": {
        "id": "KTzKK4vY2RCx"
      },
      "execution_count": 5,
      "outputs": []
    },
    {
      "cell_type": "code",
      "source": [
        "# 토큰 빈도수 및 문서별 토큰 수 계산\n",
        "\n",
        "from collections import defaultdict\n",
        "\n",
        "# 1 : spam, 0 : normal\n",
        "doccnt0 = 0\n",
        "doccnt1 = 0\n",
        "\n",
        "wordfreq = defaultdict(lambda : [0,0])\n",
        "for doc, label in training_set :\n",
        "  w_ls = doc.split()\n",
        "  for w in w_ls:\n",
        "    wordfreq[w][label] += 1\n",
        "\n",
        "for k, (cnt0, cnt1) in wordfreq.items() :\n",
        "  doccnt0 += cnt0\n",
        "  doccnt1 += cnt1"
      ],
      "metadata": {
        "id": "aRxqfT_f2te-"
      },
      "execution_count": 15,
      "outputs": []
    },
    {
      "cell_type": "code",
      "source": [
        "wordfreq"
      ],
      "metadata": {
        "colab": {
          "base_uri": "https://localhost:8080/"
        },
        "id": "awMrcDp15bSR",
        "outputId": "9441e4a0-4025-441a-85d4-0e43641085c2"
      },
      "execution_count": 16,
      "outputs": [
        {
          "output_type": "execute_result",
          "data": {
            "text/plain": [
              "defaultdict(<function __main__.<lambda>()>,\n",
              "            {'me': [1, 1],\n",
              "             'free': [2, 3],\n",
              "             'lottery': [0, 2],\n",
              "             'get': [0, 1],\n",
              "             'you': [2, 2],\n",
              "             'scholarship': [1, 0],\n",
              "             'to': [1, 0],\n",
              "             'contact': [1, 0],\n",
              "             'won': [1, 0],\n",
              "             'award': [1, 0],\n",
              "             'ticket': [0, 1]})"
            ]
          },
          "metadata": {},
          "execution_count": 16
        }
      ]
    },
    {
      "cell_type": "code",
      "source": [
        "k = 0.5\n",
        "\n",
        "wordprobs = defaultdict(lambda:[0,0])\n",
        "\n",
        "for key, (cnt0, cnt1) in wordfreq.items() :\n",
        "  wordprobs[key][0] = (cnt0+k) / (doccnt0 + 2*k)\n",
        "  wordprobs[key][1] = (cnt1+k) / (doccnt1 + 2*k)"
      ],
      "metadata": {
        "id": "e7uo7ZPH67Iv"
      },
      "execution_count": 18,
      "outputs": []
    },
    {
      "cell_type": "code",
      "source": [
        "wordfreq"
      ],
      "metadata": {
        "colab": {
          "base_uri": "https://localhost:8080/"
        },
        "id": "TxLl-VMZBS8S",
        "outputId": "fe447470-696b-46d8-d1ec-3192ee651ea6"
      },
      "execution_count": 19,
      "outputs": [
        {
          "output_type": "execute_result",
          "data": {
            "text/plain": [
              "defaultdict(<function __main__.<lambda>()>,\n",
              "            {'me': [1, 1],\n",
              "             'free': [2, 3],\n",
              "             'lottery': [0, 2],\n",
              "             'get': [0, 1],\n",
              "             'you': [2, 2],\n",
              "             'scholarship': [1, 0],\n",
              "             'to': [1, 0],\n",
              "             'contact': [1, 0],\n",
              "             'won': [1, 0],\n",
              "             'award': [1, 0],\n",
              "             'ticket': [0, 1]})"
            ]
          },
          "metadata": {},
          "execution_count": 19
        }
      ]
    },
    {
      "cell_type": "code",
      "source": [
        "import math\n",
        "\n",
        "# 신규 문서 스팸 확률 계산\n",
        "doc = \"free lottery\"\n",
        "tokens = doc.split()\n",
        "\n",
        "log_prob0 = log_prob1 = 0\n",
        "\n",
        "for w, (p0, p1) in wordprobs.items():\n",
        "  if w in tokens:\n",
        "    log_prob0 += math.log(p0)\n",
        "    log_prob1 += math.log(p1)\n",
        "\n",
        "log_prob0 += math.log(doccnt0 / (doccnt0 + doccnt1))\n",
        "log_prob1 += math.log(doccnt1 / (doccnt0 + doccnt1))\n",
        "\n",
        "prob0 = math.exp(log_prob0)\n",
        "prob1 = math.exp(log_prob1)\n",
        "\n",
        "print('정상 확률 : {}%'.format(prob0/(prob0+prob1)))\n",
        "print('스팸 확률 : {}%'.format(prob1/(prob0+prob1)))"
      ],
      "metadata": {
        "colab": {
          "base_uri": "https://localhost:8080/"
        },
        "id": "EfHopi3jBT-N",
        "outputId": "96f1c6cb-881b-4c0b-c6f4-bbc5464d66cd"
      },
      "execution_count": 20,
      "outputs": [
        {
          "output_type": "stream",
          "name": "stdout",
          "text": [
            "정상 확률 : 0.12500000000000008%\n",
            "스팸 확률 : 0.8749999999999999%\n"
          ]
        }
      ]
    },
    {
      "cell_type": "code",
      "source": [
        "log_prob1"
      ],
      "metadata": {
        "colab": {
          "base_uri": "https://localhost:8080/"
        },
        "id": "DKzrdOdvDTfM",
        "outputId": "80bebe8e-9e52-422c-94fa-9bebf26863b9"
      },
      "execution_count": 23,
      "outputs": [
        {
          "output_type": "execute_result",
          "data": {
            "text/plain": [
              "-3.3198840257871636"
            ]
          },
          "metadata": {},
          "execution_count": 23
        }
      ]
    },
    {
      "cell_type": "code",
      "source": [
        "log_prob0"
      ],
      "metadata": {
        "colab": {
          "base_uri": "https://localhost:8080/"
        },
        "id": "Q56MYv-OMkgO",
        "outputId": "e8782272-f324-48dd-cb3b-1ba8b54b608c"
      },
      "execution_count": 24,
      "outputs": [
        {
          "output_type": "execute_result",
          "data": {
            "text/plain": [
              "-5.265794174842476"
            ]
          },
          "metadata": {},
          "execution_count": 24
        }
      ]
    },
    {
      "cell_type": "code",
      "source": [],
      "metadata": {
        "id": "0Maav79tMlTV"
      },
      "execution_count": null,
      "outputs": []
    },
    {
      "cell_type": "markdown",
      "source": [
        "# sklearn 활용\n",
        "영문 뉴스 분류"
      ],
      "metadata": {
        "id": "saKQJK2ENJq9"
      }
    },
    {
      "cell_type": "code",
      "source": [
        "from sklearn.datasets import fetch_20newsgroups\n",
        "twenty_train = fetch_20newsgroups(subset='train', shuffle=True)\n",
        "print(twenty_train.target_names)\n",
        "print(twenty_train.data[0])"
      ],
      "metadata": {
        "colab": {
          "base_uri": "https://localhost:8080/"
        },
        "id": "kQZPBsZBNRUh",
        "outputId": "073aa78a-77e2-4c30-fe34-996a75bfa311"
      },
      "execution_count": 27,
      "outputs": [
        {
          "output_type": "stream",
          "name": "stdout",
          "text": [
            "['alt.atheism', 'comp.graphics', 'comp.os.ms-windows.misc', 'comp.sys.ibm.pc.hardware', 'comp.sys.mac.hardware', 'comp.windows.x', 'misc.forsale', 'rec.autos', 'rec.motorcycles', 'rec.sport.baseball', 'rec.sport.hockey', 'sci.crypt', 'sci.electronics', 'sci.med', 'sci.space', 'soc.religion.christian', 'talk.politics.guns', 'talk.politics.mideast', 'talk.politics.misc', 'talk.religion.misc']\n",
            "From: lerxst@wam.umd.edu (where's my thing)\n",
            "Subject: WHAT car is this!?\n",
            "Nntp-Posting-Host: rac3.wam.umd.edu\n",
            "Organization: University of Maryland, College Park\n",
            "Lines: 15\n",
            "\n",
            " I was wondering if anyone out there could enlighten me on this car I saw\n",
            "the other day. It was a 2-door sports car, looked to be from the late 60s/\n",
            "early 70s. It was called a Bricklin. The doors were really small. In addition,\n",
            "the front bumper was separate from the rest of the body. This is \n",
            "all I know. If anyone can tellme a model name, engine specs, years\n",
            "of production, where this car is made, history, or whatever info you\n",
            "have on this funky looking car, please e-mail.\n",
            "\n",
            "Thanks,\n",
            "- IL\n",
            "   ---- brought to you by your neighborhood Lerxst ----\n",
            "\n",
            "\n",
            "\n",
            "\n",
            "\n"
          ]
        }
      ]
    },
    {
      "cell_type": "code",
      "source": [
        "from sklearn.pipeline import Pipeline\n",
        "from sklearn.feature_extraction.text import CountVectorizer\n",
        "from sklearn.feature_extraction.text import TfidfTransformer\n",
        "from sklearn.naive_bayes import MultinomialNB\n",
        "\n",
        "text_clf = Pipeline([('vect',CountVectorizer()),\n",
        "                     ('tfidf', TfidfTransformer()),\n",
        "                      ('clf', MultinomialNB())])\n",
        "\n",
        "text_clf.fit(twenty_train.data, twenty_train.target)\n",
        "\n",
        "text_clf = text_clf.fit(twenty_train.data, twenty_train.target)"
      ],
      "metadata": {
        "id": "sxkeZPcUNyAb"
      },
      "execution_count": 30,
      "outputs": []
    },
    {
      "cell_type": "code",
      "source": [
        "import numpy as np\n",
        "\n",
        "test = fetch_20newsgroups(subset='test', shuffle=True)\n",
        "predicted = text_clf.predict(test.data)\n",
        "np.mean(predicted == test.target)"
      ],
      "metadata": {
        "colab": {
          "base_uri": "https://localhost:8080/"
        },
        "id": "Lc02-Do7OoA4",
        "outputId": "0a5d5165-1b77-46f2-c93d-e530450f006d"
      },
      "execution_count": 34,
      "outputs": [
        {
          "output_type": "execute_result",
          "data": {
            "text/plain": [
              "0.7738980350504514"
            ]
          },
          "metadata": {},
          "execution_count": 34
        }
      ]
    },
    {
      "cell_type": "code",
      "source": [],
      "metadata": {
        "id": "Mw3i0pu6PHs6"
      },
      "execution_count": null,
      "outputs": []
    }
  ]
}