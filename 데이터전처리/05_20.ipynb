{
 "cells": [
  {
   "cell_type": "code",
   "execution_count": 1,
   "id": "3e8c86d6-07b9-466e-b54e-00508927465c",
   "metadata": {},
   "outputs": [],
   "source": [
    "import sqlite3"
   ]
  },
  {
   "cell_type": "code",
   "execution_count": 2,
   "id": "0c08f1e1-bce4-4422-8d3e-b5c32423930c",
   "metadata": {},
   "outputs": [
    {
     "data": {
      "text/plain": [
       "'3.41.2'"
      ]
     },
     "execution_count": 2,
     "metadata": {},
     "output_type": "execute_result"
    }
   ],
   "source": [
    "sqlite3.sqlite_version"
   ]
  },
  {
   "cell_type": "code",
   "execution_count": 3,
   "id": "3452a58d-b38a-41d5-922d-b957616469b9",
   "metadata": {},
   "outputs": [],
   "source": [
    "conn = sqlite3.connect(\"contact.db\")"
   ]
  },
  {
   "cell_type": "code",
   "execution_count": 4,
   "id": "cf26240f-8e2b-49c6-a7df-d76045254858",
   "metadata": {},
   "outputs": [
    {
     "name": "stdout",
     "output_type": "stream",
     "text": [
      "<sqlite3.Cursor object at 0x000002CA3BED9040>\n"
     ]
    }
   ],
   "source": [
    "cursor = conn.cursor()\n",
    "print(cursor)"
   ]
  },
  {
   "cell_type": "code",
   "execution_count": 5,
   "id": "d3b1cf7b-be0f-48a6-9301-952e8a9b6641",
   "metadata": {},
   "outputs": [
    {
     "ename": "OperationalError",
     "evalue": "no such table: contact",
     "output_type": "error",
     "traceback": [
      "\u001b[1;31m---------------------------------------------------------------------------\u001b[0m",
      "\u001b[1;31mOperationalError\u001b[0m                          Traceback (most recent call last)",
      "Cell \u001b[1;32mIn[5], line 1\u001b[0m\n\u001b[1;32m----> 1\u001b[0m cursor\u001b[38;5;241m.\u001b[39mexecute(\u001b[38;5;124m\"\u001b[39m\u001b[38;5;124mDROP TABLE contact\u001b[39m\u001b[38;5;124m\"\u001b[39m)\n",
      "\u001b[1;31mOperationalError\u001b[0m: no such table: contact"
     ]
    }
   ],
   "source": [
    "cursor.execute(\"DROP TABLE contact\")"
   ]
  },
  {
   "cell_type": "code",
   "execution_count": 7,
   "id": "68c4d421-1c67-47a6-ade6-e8b09c119e4a",
   "metadata": {},
   "outputs": [
    {
     "data": {
      "text/plain": [
       "<sqlite3.Cursor at 0x2ca3bed9040>"
      ]
     },
     "execution_count": 7,
     "metadata": {},
     "output_type": "execute_result"
    }
   ],
   "source": [
    "cursor.execute(\"\"\"CREATE TABLE contact(\n",
    "    name text,\n",
    "    age int,\n",
    "    email text)\n",
    "\"\"\")"
   ]
  },
  {
   "cell_type": "code",
   "execution_count": 8,
   "id": "2dfa9d1e-9482-4f4b-88cd-1dbf6cd6a060",
   "metadata": {},
   "outputs": [
    {
     "data": {
      "text/plain": [
       "<sqlite3.Cursor at 0x2ca3bed9040>"
      ]
     },
     "execution_count": 8,
     "metadata": {},
     "output_type": "execute_result"
    }
   ],
   "source": [
    "cursor.execute(\"insert into contact values('kim',30,'kim@naver.com')\")"
   ]
  },
  {
   "cell_type": "code",
   "execution_count": 10,
   "id": "8c5bd271-e56a-4ac1-a0bd-22938898fe33",
   "metadata": {},
   "outputs": [
    {
     "data": {
      "text/plain": [
       "<sqlite3.Cursor at 0x2ca3bed9040>"
      ]
     },
     "execution_count": 10,
     "metadata": {},
     "output_type": "execute_result"
    }
   ],
   "source": [
    "cursor.execute(\"insert into contact values(?,?,?)\",(\"Lee\",30,\"lee@daum.net\"))"
   ]
  },
  {
   "cell_type": "code",
   "execution_count": 12,
   "id": "51b2785f-dba1-4a50-8467-92058f4e47ea",
   "metadata": {},
   "outputs": [
    {
     "data": {
      "text/plain": [
       "<sqlite3.Cursor at 0x2ca3bed9040>"
      ]
     },
     "execution_count": 12,
     "metadata": {},
     "output_type": "execute_result"
    }
   ],
   "source": [
    "cursor.execute(\"insert into contact values(:name, :age, :email)\",\n",
    "               {\"name\":\"heo\", \"age\":30, \"email\":\"heojk@daum.net\"}) "
   ]
  },
  {
   "cell_type": "code",
   "execution_count": 13,
   "id": "785f0f55-a1cb-4eb8-8f79-93af5c6162b9",
   "metadata": {},
   "outputs": [],
   "source": [
    "conn.commit()"
   ]
  },
  {
   "cell_type": "code",
   "execution_count": 14,
   "id": "1d534ebd-5c5f-4229-9126-51077690dcd3",
   "metadata": {},
   "outputs": [],
   "source": [
    "conn.close()"
   ]
  },
  {
   "cell_type": "code",
   "execution_count": 15,
   "id": "9e497c23-db4a-4183-a4f2-04994c47cb97",
   "metadata": {},
   "outputs": [],
   "source": [
    "conn = sqlite3.connect(\"contact.db\")"
   ]
  },
  {
   "cell_type": "code",
   "execution_count": 16,
   "id": "a7a229c1-e62d-4753-b785-800bea339f89",
   "metadata": {},
   "outputs": [],
   "source": [
    "cursor = conn.cursor()"
   ]
  },
  {
   "cell_type": "code",
   "execution_count": 17,
   "id": "770351e8-3951-4add-a142-b6cadc941994",
   "metadata": {},
   "outputs": [
    {
     "data": {
      "text/plain": [
       "<sqlite3.Cursor at 0x2ca3cc56b40>"
      ]
     },
     "execution_count": 17,
     "metadata": {},
     "output_type": "execute_result"
    }
   ],
   "source": [
    "cursor.execute(\"select * from contact\")"
   ]
  },
  {
   "cell_type": "code",
   "execution_count": 18,
   "id": "b57a99e2-3c20-4977-803d-e07a48fb586a",
   "metadata": {},
   "outputs": [
    {
     "name": "stdout",
     "output_type": "stream",
     "text": [
      "('kim', 30, 'kim@naver.com')\n",
      "('Lee', 30, 'lee@daum.net')\n",
      "('heo', 30, 'heojk@daum.net')\n"
     ]
    }
   ],
   "source": [
    "for row in cursor:\n",
    "    print(row)"
   ]
  },
  {
   "cell_type": "code",
   "execution_count": 1,
   "id": "77041c5e-106e-4dea-81cd-093d9d68b14c",
   "metadata": {},
   "outputs": [],
   "source": [
    "import cx_Oracle"
   ]
  },
  {
   "cell_type": "code",
   "execution_count": 20,
   "id": "a2040d9e-726c-49f0-bbe8-abc1918d055f",
   "metadata": {},
   "outputs": [
    {
     "name": "stdout",
     "output_type": "stream",
     "text": [
      "Collecting cx_Oracle\n",
      "  Downloading cx_Oracle-8.3.0.tar.gz (363 kB)\n",
      "     ---------------------------------------- 0.0/363.9 kB ? eta -:--:--\n",
      "     ------- ------------------------------- 71.7/363.9 kB 1.3 MB/s eta 0:00:01\n",
      "     -------------------------------------- 363.9/363.9 kB 3.8 MB/s eta 0:00:00\n",
      "  Installing build dependencies: started\n",
      "  Installing build dependencies: finished with status 'done'\n",
      "  Getting requirements to build wheel: started\n",
      "  Getting requirements to build wheel: finished with status 'done'\n",
      "  Preparing metadata (pyproject.toml): started\n",
      "  Preparing metadata (pyproject.toml): finished with status 'done'\n",
      "Building wheels for collected packages: cx_Oracle\n",
      "  Building wheel for cx_Oracle (pyproject.toml): started\n",
      "  Building wheel for cx_Oracle (pyproject.toml): finished with status 'error'\n",
      "Failed to build cx_Oracle\n"
     ]
    },
    {
     "name": "stderr",
     "output_type": "stream",
     "text": [
      "  error: subprocess-exited-with-error\n",
      "  \n",
      "  Building wheel for cx_Oracle (pyproject.toml) did not run successfully.\n",
      "  exit code: 1\n",
      "  \n",
      "  [8 lines of output]\n",
      "  <string>:6: DeprecationWarning: pkg_resources is deprecated as an API. See https://setuptools.pypa.io/en/latest/pkg_resources.html\n",
      "  C:\\Users\\kosa\\AppData\\Local\\Temp\\pip-build-env-t0hhehgi\\overlay\\Lib\\site-packages\\setuptools\\config\\expand.py:133: SetuptoolsWarning: File 'C:\\\\Users\\\\kosa\\\\AppData\\\\Local\\\\Temp\\\\pip-install-7lamdccl\\\\cx-oracle_2484ab0642a94f19873667da2d1c0af7\\\\README.md' cannot be found\n",
      "    return '\\n'.join(\n",
      "  running bdist_wheel\n",
      "  running build\n",
      "  running build_ext\n",
      "  building 'cx_Oracle' extension\n",
      "  error: Microsoft Visual C++ 14.0 or greater is required. Get it with \"Microsoft C++ Build Tools\": https://visualstudio.microsoft.com/visual-cpp-build-tools/\n",
      "  [end of output]\n",
      "  \n",
      "  note: This error originates from a subprocess, and is likely not a problem with pip.\n",
      "  ERROR: Failed building wheel for cx_Oracle\n",
      "ERROR: Could not build wheels for cx_Oracle, which is required to install pyproject.toml-based projects\n"
     ]
    }
   ],
   "source": [
    "!pip install cx_Oracle"
   ]
  },
  {
   "cell_type": "code",
   "execution_count": null,
   "id": "63d1e2a2-5e80-438a-ba17-762b6effb357",
   "metadata": {},
   "outputs": [],
   "source": [
    "!conda install cx_Oracle"
   ]
  },
  {
   "cell_type": "code",
   "execution_count": 2,
   "id": "d2d04f81-d800-41be-b91b-f0c1dc51f240",
   "metadata": {},
   "outputs": [
    {
     "ename": "NameError",
     "evalue": "name 'dsn' is not defined",
     "output_type": "error",
     "traceback": [
      "\u001b[1;31m---------------------------------------------------------------------------\u001b[0m",
      "\u001b[1;31mNameError\u001b[0m                                 Traceback (most recent call last)",
      "Cell \u001b[1;32mIn[2], line 1\u001b[0m\n\u001b[1;32m----> 1\u001b[0m conn \u001b[38;5;241m=\u001b[39m cx_Oracle\u001b[38;5;241m.\u001b[39mconnect(user\u001b[38;5;241m=\u001b[39m\u001b[38;5;124m\"\u001b[39m\u001b[38;5;124mhr\u001b[39m\u001b[38;5;124m\"\u001b[39m, password\u001b[38;5;241m=\u001b[39m\u001b[38;5;124m\"\u001b[39m\u001b[38;5;124mhr\u001b[39m\u001b[38;5;124m\"\u001b[39m, dsn\u001b[38;5;241m=\u001b[39mdsn)\n\u001b[0;32m      2\u001b[0m \u001b[38;5;28mprint\u001b[39m(conn)\n",
      "\u001b[1;31mNameError\u001b[0m: name 'dsn' is not defined"
     ]
    }
   ],
   "source": [
    "conn = cx_Oracle.connect(user=\"hr\", password=\"hr\", dsn=dsn)\n",
    "print(conn)"
   ]
  },
  {
   "cell_type": "code",
   "execution_count": 3,
   "id": "4e9f31de-6c14-4312-83f7-d441cec57596",
   "metadata": {},
   "outputs": [],
   "source": [
    "import oracledb as db"
   ]
  },
  {
   "cell_type": "code",
   "execution_count": 5,
   "id": "c3ba54cc-fe33-4a60-a2ae-36a7d3c38b8f",
   "metadata": {},
   "outputs": [
    {
     "name": "stdout",
     "output_type": "stream",
     "text": [
      "<oracledb.Connection to hr@localhost:1521/xe>\n"
     ]
    }
   ],
   "source": [
    "conn = db.connect(dsn=\"localhost:1521/xe\", user=\"hr\", password=\"hr\")\n",
    "print(conn)"
   ]
  },
  {
   "cell_type": "code",
   "execution_count": 6,
   "id": "05ac1705-fb43-43c1-b81c-9521d4bc7b65",
   "metadata": {},
   "outputs": [
    {
     "name": "stdout",
     "output_type": "stream",
     "text": [
      "<oracledb.Cursor on <oracledb.Connection to hr@localhost:1521/xe>>\n"
     ]
    }
   ],
   "source": [
    "cursor = conn.cursor()\n",
    "print(cursor)"
   ]
  },
  {
   "cell_type": "code",
   "execution_count": 7,
   "id": "2422a4d4-17d0-40b3-a96f-5106d8731811",
   "metadata": {},
   "outputs": [
    {
     "data": {
      "text/plain": [
       "<oracledb.Cursor on <oracledb.Connection to hr@localhost:1521/xe>>"
      ]
     },
     "execution_count": 7,
     "metadata": {},
     "output_type": "execute_result"
    }
   ],
   "source": [
    "cursor.execute(\"select * from employees\")"
   ]
  },
  {
   "cell_type": "code",
   "execution_count": 8,
   "id": "0e8a621d-99e1-4fba-9be0-5634ab75c801",
   "metadata": {},
   "outputs": [
    {
     "name": "stdout",
     "output_type": "stream",
     "text": [
      "(230, 'HanBit', 'Oh', 'ohb', '010-1234-5555', datetime.datetime(2024, 4, 22, 0, 0), 'IT_PROG', 5000.0, 0.0, 100, 60)\n"
     ]
    }
   ],
   "source": [
    "print(cursor.fetchone())"
   ]
  },
  {
   "cell_type": "code",
   "execution_count": 9,
   "id": "161c96f4-3c1f-4ffb-b4ec-a39c52d006f9",
   "metadata": {},
   "outputs": [
    {
     "data": {
      "text/plain": [
       "[('EMPLOYEE_ID', <DbType DB_TYPE_NUMBER>, 7, None, 6, 0, False),\n",
       " ('FIRST_NAME', <DbType DB_TYPE_VARCHAR>, 20, 20, None, None, True),\n",
       " ('LAST_NAME', <DbType DB_TYPE_VARCHAR>, 25, 25, None, None, False),\n",
       " ('EMAIL', <DbType DB_TYPE_VARCHAR>, 25, 25, None, None, False),\n",
       " ('PHONE_NUMBER', <DbType DB_TYPE_VARCHAR>, 20, 20, None, None, True),\n",
       " ('HIRE_DATE', <DbType DB_TYPE_DATE>, 23, None, None, None, False),\n",
       " ('JOB_ID', <DbType DB_TYPE_VARCHAR>, 10, 10, None, None, False),\n",
       " ('SALARY', <DbType DB_TYPE_NUMBER>, 12, None, 8, 2, True),\n",
       " ('COMMISSION_PCT', <DbType DB_TYPE_NUMBER>, 6, None, 2, 2, True),\n",
       " ('MANAGER_ID', <DbType DB_TYPE_NUMBER>, 7, None, 6, 0, True),\n",
       " ('DEPARTMENT_ID', <DbType DB_TYPE_NUMBER>, 5, None, 4, 0, True)]"
      ]
     },
     "execution_count": 9,
     "metadata": {},
     "output_type": "execute_result"
    }
   ],
   "source": [
    "cursor.description"
   ]
  },
  {
   "cell_type": "code",
   "execution_count": null,
   "id": "eefd979c-aff6-422b-af9c-d87db4041a68",
   "metadata": {},
   "outputs": [],
   "source": []
  }
 ],
 "metadata": {
  "kernelspec": {
   "display_name": "Python 3 (ipykernel)",
   "language": "python",
   "name": "python3"
  },
  "language_info": {
   "codemirror_mode": {
    "name": "ipython",
    "version": 3
   },
   "file_extension": ".py",
   "mimetype": "text/x-python",
   "name": "python",
   "nbconvert_exporter": "python",
   "pygments_lexer": "ipython3",
   "version": "3.11.7"
  }
 },
 "nbformat": 4,
 "nbformat_minor": 5
}
