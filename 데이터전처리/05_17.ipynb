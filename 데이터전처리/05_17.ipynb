{
 "cells": [
  {
   "cell_type": "code",
   "execution_count": 3,
   "id": "162c81b5-2ed0-4f31-b1a5-39b57c94ab74",
   "metadata": {},
   "outputs": [
    {
     "name": "stdin",
     "output_type": "stream",
     "text": [
      "정수를 입력하세요 a\n"
     ]
    },
    {
     "name": "stdout",
     "output_type": "stream",
     "text": [
      "예외 발생함\n",
      "<class 'ValueError'>\n",
      "invalid literal for int() with base 10: 'a'\n"
     ]
    },
    {
     "name": "stdin",
     "output_type": "stream",
     "text": [
      "정수를 입력하세요 0\n"
     ]
    },
    {
     "name": "stdout",
     "output_type": "stream",
     "text": [
      "입력한 정수는 0입니다.\n",
      "예외 발생함\n",
      "<class 'ZeroDivisionError'>\n",
      "division by zero\n"
     ]
    },
    {
     "name": "stdin",
     "output_type": "stream",
     "text": [
      "정수를 입력하세요 -1\n"
     ]
    },
    {
     "name": "stdout",
     "output_type": "stream",
     "text": [
      "입력한 정수는 -1입니다.\n",
      "100을 입력한 수로 나누면 -100.0입니다.\n"
     ]
    }
   ],
   "source": [
    "while True:\n",
    "    try:\n",
    "        x = int(input(\"정수를 입력하세요\"))\n",
    "        print(f'입력한 정수는 {x}입니다.')\n",
    "        print(f'100을 입력한 수로 나누면 {100/x}입니다.')\n",
    "        break\n",
    "    except (ValueError, ZeroDivisionError) as e:\n",
    "        print('예외 발생함')\n",
    "        print(type(e))\n",
    "        print(e)"
   ]
  },
  {
   "cell_type": "code",
   "execution_count": 4,
   "id": "dcea8200-1162-42d5-9768-c049dea1169e",
   "metadata": {},
   "outputs": [],
   "source": [
    "def insert(data):\n",
    "    if len(data)==0:\n",
    "        raise Exception(\"데이터의 길이는 0이 될 수 없습니다.\")\n",
    "    print(f'{data}를 입력합니다.')"
   ]
  },
  {
   "cell_type": "code",
   "execution_count": 7,
   "id": "fea6fb39-f141-421d-8ede-e46140df1d99",
   "metadata": {},
   "outputs": [
    {
     "name": "stdout",
     "output_type": "stream",
     "text": [
      "[1, 5, 6]를 입력합니다.\n",
      "정상 실행\n"
     ]
    }
   ],
   "source": [
    "data = [1,5,6]\n",
    "try:\n",
    "    insert(data)\n",
    "except Exception as e:\n",
    "    print(e)\n",
    "else:\n",
    "    print('정상 실행')"
   ]
  },
  {
   "cell_type": "code",
   "execution_count": 8,
   "id": "269bd173-95be-4f55-b7a2-b4b523290bb9",
   "metadata": {},
   "outputs": [
    {
     "name": "stdin",
     "output_type": "stream",
     "text": [
      "정수를 입력하세요:  1\n"
     ]
    },
    {
     "name": "stdout",
     "output_type": "stream",
     "text": [
      "입력한 정수는 1입니다.\n",
      "100을 입력한 수로 나누면 100.0입니다.\n"
     ]
    }
   ],
   "source": [
    "while True:\n",
    "    try:\n",
    "        x = int(input('정수를 입력하세요: '))\n",
    "        print('입력한 정수는 {}입니다.'.format(x))\n",
    "        print('100을 입력한 수로 나누면 {}입니다.'.format(100/x))\n",
    "        break\n",
    "    except:\n",
    "        print('유효한 정수가 아닙니다. 다시 입력하세요.')"
   ]
  },
  {
   "cell_type": "code",
   "execution_count": 9,
   "id": "e8924da1-86b4-4938-a7b6-8a526b0c2089",
   "metadata": {},
   "outputs": [
    {
     "name": "stdin",
     "output_type": "stream",
     "text": [
      "정수를 입력하세요:  0\n"
     ]
    },
    {
     "name": "stdout",
     "output_type": "stream",
     "text": [
      "입력한 정수는 0입니다.\n",
      "0으로 나눌 수 없습니다.\n"
     ]
    },
    {
     "name": "stdin",
     "output_type": "stream",
     "text": [
      "정수를 입력하세요:  1\n"
     ]
    },
    {
     "name": "stdout",
     "output_type": "stream",
     "text": [
      "입력한 정수는 1입니다.\n",
      "100을 입력한 수로 나누면 100.0입니다.\n"
     ]
    }
   ],
   "source": [
    "while True:\n",
    "    try:\n",
    "        x = int(input('정수를 입력하세요: '))\n",
    "        print('입력한 정수는 {}입니다.'.format(x))\n",
    "        print('100을 입력한 수로 나누면 {}입니다.'.format(100/x))\n",
    "        break\n",
    "    except ValueError:\n",
    "        print('유효한 정수가 아닙니다. 다시 시도하세요.')\n",
    "    except ZeroDivisionError:\n",
    "        print('0으로 나눌 수 없습니다.')"
   ]
  },
  {
   "cell_type": "code",
   "execution_count": 10,
   "id": "91391a91-3d7f-4f2b-a675-4c627355b9b0",
   "metadata": {},
   "outputs": [
    {
     "name": "stdin",
     "output_type": "stream",
     "text": [
      "정수를 입력하세요:  1\n"
     ]
    },
    {
     "name": "stdout",
     "output_type": "stream",
     "text": [
      "입력한 정수는 1입니다.\n",
      "100을 입력한 수로 나누면 100.0입니다.\n"
     ]
    }
   ],
   "source": [
    "while True:\n",
    "    try:\n",
    "        x = int(input('정수를 입력하세요: '))\n",
    "        print('입력한 정수는 {}입니다.'.format(x))\n",
    "        print('100을 입력한 수로 나누면 {}입니다.'.format(100/x))\n",
    "        break\n",
    "    except Exception:\n",
    "        print('알 수 없는 오류입니다.')\n",
    "    except ValueError:\n",
    "        print('유효한 정수가 아닙니다. 다시 시도하세요.')\n",
    "    except ZeroDivisionError:\n",
    "        print('0으로 나눌 수 없습니다.')"
   ]
  },
  {
   "cell_type": "code",
   "execution_count": 11,
   "id": "2afb077f-f3f8-462d-9e07-b30f7cf2b1a4",
   "metadata": {},
   "outputs": [
    {
     "name": "stdin",
     "output_type": "stream",
     "text": [
      "정수를 입력하세요. 1\n"
     ]
    },
    {
     "name": "stdout",
     "output_type": "stream",
     "text": [
      "입력한 정수는 1입니다.\n",
      "100을 입력한 수로 나누면 100.0입니다.\n"
     ]
    }
   ],
   "source": [
    "while True:\n",
    "    try:\n",
    "        x = int(input('정수를 입력하세요.'))\n",
    "        print('입력한 정수는 {}입니다.'.format(x))\n",
    "        print('100을 입력한 수로 나누면 {}입니다.'.format(100/x))\n",
    "        break\n",
    "    except (ValueError, ZeroDivisionError):\n",
    "        print('유효한 수가 아닙니다. 다시 시도하세요.')"
   ]
  },
  {
   "cell_type": "code",
   "execution_count": 12,
   "id": "24d4546f-98a3-4b82-ae98-dddbb0b8776f",
   "metadata": {},
   "outputs": [
    {
     "name": "stdout",
     "output_type": "stream",
     "text": [
      "파일이 없습니다.\n"
     ]
    }
   ],
   "source": [
    "try:\n",
    "    f = open('myfile.txt','r')\n",
    "except FileNotFoundError:\n",
    "    print('파일이 없습니다.')\n",
    "else:\n",
    "    data = f.read()\n",
    "    print(data)"
   ]
  },
  {
   "cell_type": "code",
   "execution_count": 13,
   "id": "6cea04f0-6100-4404-b434-0e2f2b57c18a",
   "metadata": {},
   "outputs": [
    {
     "name": "stdout",
     "output_type": "stream",
     "text": [
      "파일이 없습니다.\n"
     ]
    }
   ],
   "source": [
    "try:\n",
    "    f = open('myfile.txt','r')\n",
    "    data = f.read()\n",
    "    print(data)\n",
    "except FileNotFoundError:\n",
    "    print('파일이 없습니다.')"
   ]
  },
  {
   "cell_type": "code",
   "execution_count": 14,
   "id": "f3350c7d-08ce-47d5-9d62-e1cdef6dfdea",
   "metadata": {},
   "outputs": [],
   "source": [
    "class Shape:\n",
    "    def __init__(self):\n",
    "        raise NotImplementedError"
   ]
  },
  {
   "cell_type": "code",
   "execution_count": 15,
   "id": "51afdd10-3146-4aea-aaa1-8c40599d05ea",
   "metadata": {},
   "outputs": [
    {
     "ename": "NotImplementedError",
     "evalue": "",
     "output_type": "error",
     "traceback": [
      "\u001b[1;31m---------------------------------------------------------------------------\u001b[0m",
      "\u001b[1;31mNotImplementedError\u001b[0m                       Traceback (most recent call last)",
      "Cell \u001b[1;32mIn[15], line 1\u001b[0m\n\u001b[1;32m----> 1\u001b[0m myShape \u001b[38;5;241m=\u001b[39m Shape()\n",
      "Cell \u001b[1;32mIn[14], line 3\u001b[0m, in \u001b[0;36mShape.__init__\u001b[1;34m(self)\u001b[0m\n\u001b[0;32m      2\u001b[0m \u001b[38;5;28;01mdef\u001b[39;00m \u001b[38;5;21m__init__\u001b[39m(\u001b[38;5;28mself\u001b[39m):\n\u001b[1;32m----> 3\u001b[0m     \u001b[38;5;28;01mraise\u001b[39;00m \u001b[38;5;167;01mNotImplementedError\u001b[39;00m\n",
      "\u001b[1;31mNotImplementedError\u001b[0m: "
     ]
    }
   ],
   "source": [
    "myShape = Shape()"
   ]
  },
  {
   "cell_type": "code",
   "execution_count": 16,
   "id": "49ca501a-329e-4590-aa4f-e930ab9fea50",
   "metadata": {},
   "outputs": [],
   "source": [
    "class Shape:\n",
    "    def __init__(self):\n",
    "        raise NotImplementedError"
   ]
  },
  {
   "cell_type": "code",
   "execution_count": 17,
   "id": "637a1061-3d60-45ca-90e5-5387e9d2865f",
   "metadata": {},
   "outputs": [],
   "source": [
    "class Circle(Shape):\n",
    "    def __init__(self):\n",
    "        pass"
   ]
  },
  {
   "cell_type": "code",
   "execution_count": 18,
   "id": "d7bf894e-8ab8-4f9d-8991-fb500711d9d6",
   "metadata": {},
   "outputs": [
    {
     "name": "stdout",
     "output_type": "stream",
     "text": [
      "<__main__.Circle object at 0x0000022BF28D0E90>\n"
     ]
    }
   ],
   "source": [
    "my_circle = Circle()\n",
    "print(my_circle)"
   ]
  },
  {
   "cell_type": "code",
   "execution_count": 19,
   "id": "8744dd88-e8a6-4c08-852b-8e24a97358d5",
   "metadata": {},
   "outputs": [
    {
     "name": "stdout",
     "output_type": "stream",
     "text": [
      "True\n"
     ]
    }
   ],
   "source": [
    "print(isinstance(my_circle, Shape))"
   ]
  },
  {
   "cell_type": "code",
   "execution_count": 20,
   "id": "98a1de4b-0966-42a5-a2eb-189bbddf819f",
   "metadata": {},
   "outputs": [],
   "source": [
    "class Shape:\n",
    "    def __init__(self):\n",
    "        raise NotImplementedError\n",
    "    def calc_area(self):\n",
    "        raise NotImplementedError"
   ]
  },
  {
   "cell_type": "code",
   "execution_count": 21,
   "id": "0302edd6-0dc9-4ddb-b7e6-9ca09b597d51",
   "metadata": {},
   "outputs": [],
   "source": [
    "class Circle(Shape):\n",
    "    def __init__(self, radius):\n",
    "        self.radius = radius"
   ]
  },
  {
   "cell_type": "code",
   "execution_count": 22,
   "id": "8dc99a6a-9c27-4d4d-b9e9-1dd63e093338",
   "metadata": {},
   "outputs": [
    {
     "ename": "NotImplementedError",
     "evalue": "",
     "output_type": "error",
     "traceback": [
      "\u001b[1;31m---------------------------------------------------------------------------\u001b[0m",
      "\u001b[1;31mNotImplementedError\u001b[0m                       Traceback (most recent call last)",
      "Cell \u001b[1;32mIn[22], line 2\u001b[0m\n\u001b[0;32m      1\u001b[0m my_circle \u001b[38;5;241m=\u001b[39m Circle(\u001b[38;5;241m4.5\u001b[39m)\n\u001b[1;32m----> 2\u001b[0m my_circle\u001b[38;5;241m.\u001b[39mcalc_area()\n",
      "Cell \u001b[1;32mIn[20], line 5\u001b[0m, in \u001b[0;36mShape.calc_area\u001b[1;34m(self)\u001b[0m\n\u001b[0;32m      4\u001b[0m \u001b[38;5;28;01mdef\u001b[39;00m \u001b[38;5;21mcalc_area\u001b[39m(\u001b[38;5;28mself\u001b[39m):\n\u001b[1;32m----> 5\u001b[0m     \u001b[38;5;28;01mraise\u001b[39;00m \u001b[38;5;167;01mNotImplementedError\u001b[39;00m\n",
      "\u001b[1;31mNotImplementedError\u001b[0m: "
     ]
    }
   ],
   "source": [
    "my_circle = Circle(4.5)\n",
    "my_circle.calc_area()"
   ]
  },
  {
   "cell_type": "code",
   "execution_count": 26,
   "id": "8e26e1e2-c5eb-4a64-a0aa-5b40b92eba86",
   "metadata": {},
   "outputs": [],
   "source": [
    "class Circle(Shape):\n",
    "    def __init__(self, radius):\n",
    "        self.radius = radius\n",
    "    def calc_area(self):\n",
    "        return self.radius * self.radius * 3.14"
   ]
  },
  {
   "cell_type": "code",
   "execution_count": 27,
   "id": "8ec36c79-1c75-4d76-9294-04a56b58b749",
   "metadata": {},
   "outputs": [
    {
     "data": {
      "text/plain": [
       "63.585"
      ]
     },
     "execution_count": 27,
     "metadata": {},
     "output_type": "execute_result"
    }
   ],
   "source": [
    "my_circle = Circle(4.5)\n",
    "my_circle.calc_area()"
   ]
  },
  {
   "cell_type": "code",
   "execution_count": 28,
   "id": "c6728949-5922-49b6-b88a-255fcb4b9704",
   "metadata": {},
   "outputs": [
    {
     "name": "stdout",
     "output_type": "stream",
     "text": [
      "True\n"
     ]
    },
    {
     "data": {
      "text/plain": [
       "11"
      ]
     },
     "execution_count": 28,
     "metadata": {},
     "output_type": "execute_result"
    }
   ],
   "source": [
    "f = open(\"sample.txt\",\"w\")\n",
    "print(f.writable())\n",
    "f.write(\"HelloWorld\\n\")"
   ]
  },
  {
   "cell_type": "code",
   "execution_count": 29,
   "id": "ca57c191-32ed-495d-b633-518bae54c435",
   "metadata": {},
   "outputs": [],
   "source": [
    "f.close()"
   ]
  },
  {
   "cell_type": "code",
   "execution_count": 30,
   "id": "0d7f6c8a-c854-4af9-a15f-a42fe1f10c2e",
   "metadata": {},
   "outputs": [],
   "source": [
    "f = open(\"sample.txt\",\"a\")\n",
    "print(\"이 문자열도 파일에 저장할 수 있습니다.\", file=f)\n",
    "f.close()"
   ]
  },
  {
   "cell_type": "code",
   "execution_count": 31,
   "id": "88ae2f3b-9553-4660-9874-7820c831cf80",
   "metadata": {},
   "outputs": [
    {
     "name": "stdout",
     "output_type": "stream",
     "text": [
      "HelloWorld\n",
      "이 문자열도 파일에 저장할 수 있습니다.\n"
     ]
    }
   ],
   "source": [
    "with open(\"sample.txt\",\"r\") as f:\n",
    "    for line in f.readlines():\n",
    "        print(line.strip())"
   ]
  },
  {
   "cell_type": "code",
   "execution_count": 32,
   "id": "90a3ad9c-af1c-46c2-a232-3158519c0668",
   "metadata": {},
   "outputs": [
    {
     "name": "stdout",
     "output_type": "stream",
     "text": [
      "Writing member.txt\n"
     ]
    }
   ],
   "source": [
    "%%writefile \"member.txt\"\n",
    "홍길동,20,kildong@hong.com,서울시 강동구\n",
    "홍길서,25,kilseo@hong.com,서울시 강서구"
   ]
  },
  {
   "cell_type": "code",
   "execution_count": 34,
   "id": "c00c6a7c-b10d-4314-8918-9ce07a3bfe02",
   "metadata": {},
   "outputs": [
    {
     "name": "stdout",
     "output_type": "stream",
     "text": [
      "홍길동,20,kildong@hong.com,서울시 강동구\n",
      "홍길서,25,kilseo@hong.com,서울시 강서구\n"
     ]
    }
   ],
   "source": [
    "with open(\"member.txt\",\"r\",encoding=\"UTF-8-SIG\") as f:\n",
    "    lines = f.readlines()\n",
    "    for line in lines:\n",
    "        data = line.strip().split(',')\n",
    "        name = data[0]\n",
    "        age = int(data[1])\n",
    "        email = data[2]\n",
    "        address = data[3]\n",
    "        print(f\"{name},{age},{email},{address}\")"
   ]
  },
  {
   "cell_type": "code",
   "execution_count": 41,
   "id": "995c9f01-f394-46fb-93b1-e9726fcfa74a",
   "metadata": {},
   "outputs": [],
   "source": [
    "class Member:\n",
    "\tdef __init__(self, name, age, email, address):\n",
    "\t\tself.name = name\n",
    "\t\tself.age = age\n",
    "\t\tself.email = email\n",
    "\t\tself.address = address\n",
    "\tdef __str__(self):\n",
    "\t\treturn f\"Name:{self.name}, Age:{self.age}, Email:{self.email}, Address:{self.address}\""
   ]
  },
  {
   "cell_type": "code",
   "execution_count": 42,
   "id": "746a3573-2b75-4c12-9f47-49088bd5a151",
   "metadata": {},
   "outputs": [],
   "source": [
    "user1 = Member(\"홍길동\",20,\"kildong@hong.com\",\"서울시 강동구\")\n",
    "user2 = Member(\"홍길서\",25,\"kilseo@hong.com\",\"서울시 강서구\")\n",
    "user_list = [user1,user2]"
   ]
  },
  {
   "cell_type": "code",
   "execution_count": 43,
   "id": "45418fc5-3888-4354-9025-c7fd4cf0a4f5",
   "metadata": {},
   "outputs": [],
   "source": [
    "with open(\"member.data\",\"wb\") as f:\n",
    "    import pickle\n",
    "    pickle.dump(user_list, file=f)"
   ]
  },
  {
   "cell_type": "code",
   "execution_count": 44,
   "id": "e9e9cba7-6e56-42b0-a9c9-f3be91e08f1d",
   "metadata": {},
   "outputs": [],
   "source": [
    "del user_list"
   ]
  },
  {
   "cell_type": "code",
   "execution_count": 45,
   "id": "c9d25aea-4185-441e-a864-4cbd61b707fb",
   "metadata": {},
   "outputs": [],
   "source": [
    "with open(\"member.data\",\"rb\") as f:\n",
    "    import pickle\n",
    "    user_list = pickle.load(f)"
   ]
  },
  {
   "cell_type": "code",
   "execution_count": 46,
   "id": "28b78d35-ea43-4b17-998e-883d0434e009",
   "metadata": {},
   "outputs": [
    {
     "name": "stdout",
     "output_type": "stream",
     "text": [
      "Name:홍길동, Age:20, Email:kildong@hong.com, Address:서울시 강동구\n",
      "Name:홍길서, Age:25, Email:kilseo@hong.com, Address:서울시 강서구\n"
     ]
    }
   ],
   "source": [
    "for user in user_list:\n",
    "    print(user)"
   ]
  },
  {
   "cell_type": "code",
   "execution_count": 47,
   "id": "b0827e12-365d-4e93-8af7-4d1f4ead5c0a",
   "metadata": {},
   "outputs": [
    {
     "name": "stdout",
     "output_type": "stream",
     "text": [
      "Writing member1.csv\n"
     ]
    }
   ],
   "source": [
    "%%writefile \"member1.csv\"\n",
    "\"홍길동\",20,\"kildong@hong.com\",\"서울시 강동구\"\n",
    "\"홍길서\",25,\"kilseo@hong.com\",\"서울시 강서구\""
   ]
  },
  {
   "cell_type": "code",
   "execution_count": 48,
   "id": "1a59a5f4-c9dd-44b6-bbc9-4be7f951964c",
   "metadata": {},
   "outputs": [],
   "source": [
    "import csv"
   ]
  },
  {
   "cell_type": "code",
   "execution_count": 49,
   "id": "6854f9df-f5b9-4071-a837-920757779986",
   "metadata": {},
   "outputs": [
    {
     "name": "stdout",
     "output_type": "stream",
     "text": [
      "['홍길동', 20.0, 'kildong@hong.com', '서울시 강동구']\n",
      "['홍길서', 25.0, 'kilseo@hong.com', '서울시 강서구']\n"
     ]
    }
   ],
   "source": [
    "with open(\"member1.csv\",\"r\",encoding=\"UTF-8-SIG\") as f:\n",
    "    r = csv.reader(f, quotechar='\"', quoting=csv.QUOTE_NONNUMERIC)\n",
    "    for row in r:\n",
    "        print(row)\n",
    "    "
   ]
  },
  {
   "cell_type": "code",
   "execution_count": 50,
   "id": "8cb39ba5-0bab-42f2-90fc-57a600386fc2",
   "metadata": {},
   "outputs": [],
   "source": [
    "user_list = [['홍길동', 20.0, 'kildong@hong.com', '서울시 강동구'],\n",
    "             ['홍길서', 25.0, 'kilseo@hong.com', '서울시 강서구']]"
   ]
  },
  {
   "cell_type": "code",
   "execution_count": 52,
   "id": "7677c124-ea07-44d1-b6ef-5f072ed58a36",
   "metadata": {},
   "outputs": [],
   "source": [
    "with open(\"member2.csv\",\"w\",newline='', encoding=\"UTF-8-SIG\") as f:\n",
    "    w = csv.writer(f, quoting=csv.QUOTE_NONNUMERIC)\n",
    "    w.writerows(user_list)"
   ]
  },
  {
   "cell_type": "code",
   "execution_count": 54,
   "id": "e647275a-74f3-4d80-a9e9-0a5a11363e07",
   "metadata": {},
   "outputs": [
    {
     "name": "stdout",
     "output_type": "stream",
     "text": [
      "Writing member3.csv\n"
     ]
    }
   ],
   "source": [
    "%%writefile \"member3.csv\"\n",
    "Name,Age,Email,Address\n",
    "홍길동,20,kildong@hong.com,서울시 강동구\n",
    "홍길서,25,kilseo@hong.com,서울시 강서구"
   ]
  },
  {
   "cell_type": "code",
   "execution_count": 55,
   "id": "4e5b0eae-f73b-4839-83b8-24add566ab0e",
   "metadata": {},
   "outputs": [
    {
     "name": "stdout",
     "output_type": "stream",
     "text": [
      "{'Name': '홍길동', 'Age': '20', 'Email': 'kildong@hong.com', 'Address': '서울시 강동구'}\n",
      "{'Name': '홍길서', 'Age': '25', 'Email': 'kilseo@hong.com', 'Address': '서울시 강서구'}\n"
     ]
    }
   ],
   "source": [
    "with open(\"member3.csv\",\"r\",encoding=\"UTF-8-SIG\") as f:\n",
    "    dict_reader = csv.DictReader(f)\n",
    "    for row in dict_reader:\n",
    "        print(row)"
   ]
  },
  {
   "cell_type": "code",
   "execution_count": 56,
   "id": "98a6644a-f14e-4e49-a8ee-3127e211174f",
   "metadata": {},
   "outputs": [
    {
     "name": "stdout",
     "output_type": "stream",
     "text": [
      "<class 'csv.DictReader'>\n",
      "{'Name': '홍길동', 'Age': '20', 'Email': 'kildong@hong.com', 'Addr': '서울시 강동구', 'Etc': '없음'}\n",
      "{'Name': '홍길서', 'Age': '25', 'Email': 'kilseo@hong.com', 'Addr': '서울시 강서구', 'Etc': '없음'}\n"
     ]
    }
   ],
   "source": [
    "with open(\"member1.csv\",\"r\",encoding=\"UTF-8-SIG\") as f:\n",
    "    dict_reader = csv.DictReader(f, fieldnames=[\"Name\",\"Age\",\"Email\",\"Addr\",\"Etc\"], restval=\"없음\")\n",
    "    print(type(dict_reader))\n",
    "    for row in dict_reader:\n",
    "        print(row)"
   ]
  },
  {
   "cell_type": "code",
   "execution_count": 57,
   "id": "067d7e15-5d6c-43ee-b9f9-c86f55cf6392",
   "metadata": {},
   "outputs": [],
   "source": [
    "user1 = {'Name': '홍길동', 'Age': '20', 'Email': 'kildong@hong.com', 'Address': '서울시 강동구'}\n",
    "user2 = {'Name': '홍길서', 'Age': '25', 'Email': 'kilseo@hong.com', 'Address': '서울시 강서구'}"
   ]
  },
  {
   "cell_type": "code",
   "execution_count": 59,
   "id": "b2e5021d-db44-4872-9721-5bc5da66774b",
   "metadata": {},
   "outputs": [],
   "source": [
    "with open(\"member4.csv\", \"w\", newline=\"\", encoding=\"utf-8-SIG\") as f:\n",
    "    dict_writer = csv.DictWriter(f,fieldnames=[\"Name\",\"Age\",\"Email\",\"Address\"]);\n",
    "    dict_writer.writeheader()\n",
    "    dict_writer.writerow(user1)\n",
    "    dict_writer.writerow(user2)"
   ]
  },
  {
   "cell_type": "code",
   "execution_count": 60,
   "id": "e958c6ae-d005-4beb-848b-cbc4e2cc429b",
   "metadata": {},
   "outputs": [],
   "source": [
    "data = ['foo',{'bar':('baz', None, 1.0, 2)}]"
   ]
  },
  {
   "cell_type": "code",
   "execution_count": 61,
   "id": "b1747acc-043a-47d3-bc8b-0a47cf32dc8e",
   "metadata": {},
   "outputs": [],
   "source": [
    "import json"
   ]
  },
  {
   "cell_type": "code",
   "execution_count": 63,
   "id": "5b59ebc3-337b-4bd5-938e-867d97c20dc2",
   "metadata": {},
   "outputs": [],
   "source": [
    "with open('sample.json','w') as f:\n",
    "    json.dump(data,f, indent=True)"
   ]
  },
  {
   "cell_type": "code",
   "execution_count": 101,
   "id": "2af31d14-d855-4526-a37c-cbfbc33b9281",
   "metadata": {},
   "outputs": [],
   "source": [
    "class Member:\n",
    "    def __init__(self, name, age, email, address):\n",
    "        self.name = name\n",
    "        self.age = age\n",
    "        self.email = email\n",
    "        self.address = address\n",
    "\n",
    "    def __str__(self):\n",
    "        return f\"Name:{self.name}, Age:{self.age}, Email:{self.email}, Address:{self.address}\"\n",
    "\n",
    "    def as_dict(self):\n",
    "        return {\"name\":self.name, \"age\":self.age, \"email\":self.email, \"address\":self.address}"
   ]
  },
  {
   "cell_type": "code",
   "execution_count": 92,
   "id": "582e8332-b66a-4deb-8c1c-b2cb015bc3bc",
   "metadata": {},
   "outputs": [],
   "source": [
    "class Member:\n",
    "    def __init__(self, name, age, email, address):\n",
    "        self.name = name\n",
    "        self.age = age\n",
    "        self.email = email\n",
    "        self.address = address\n",
    "\n",
    "    def __str__(self):\n",
    "        return f\"Name:{self.name}, Age:{self.age}, Email:{self.email}, Address:{self.address}\"\n",
    "\n",
    "    def as_dict(self):\n",
    "        return {\"name\": self.name, \"age\": self.age, \"email\": self.email, \"address\": self.address}\n"
   ]
  },
  {
   "cell_type": "code",
   "execution_count": 93,
   "id": "966bf023-b3bb-4495-b8a2-d8b1299d7621",
   "metadata": {},
   "outputs": [],
   "source": [
    "import json\n",
    "with open('member.json', 'w', encoding=\"UTF-8-SIG\") as jsonfile:\n",
    "    json.dump(user_list, jsonfile, ensure_ascii=False, indent=\"\\t\", default=Member.as_dict)"
   ]
  },
  {
   "cell_type": "code",
   "execution_count": 94,
   "id": "31b3417d-5344-4dd0-8b98-c2f205d2bed2",
   "metadata": {},
   "outputs": [
    {
     "name": "stdout",
     "output_type": "stream",
     "text": [
      "[['홍길동', 20.0, 'kildong@hong.com', '서울시 강동구'], ['홍길서', 25.0, 'kilseo@hong.com', '서울시 강서구']]\n"
     ]
    }
   ],
   "source": [
    "import json\n",
    "with open('member.json', encoding=\"UTF-8-SIG\") as jsonfile:\n",
    "    user_list = json.load(jsonfile)\n",
    "    print(user_list)"
   ]
  },
  {
   "cell_type": "code",
   "execution_count": 102,
   "id": "c3daf45c-055b-44d6-b043-4055be876764",
   "metadata": {},
   "outputs": [],
   "source": [
    "class Member:\n",
    "    def __init__(self, name, age, email, address):\n",
    "        self.name = name\n",
    "        self.age = age\n",
    "        self.email = email\n",
    "        self.address = address\n",
    "\n",
    "    def __str__(self):\n",
    "        return \"Name:{}, Age:{}, Email:{}, Address:{}\".format(self.name, self.age, self.email, self.address)\n",
    "\n",
    "    def as_dict(self):\n",
    "        return {\"name\":self.name, \"age\":self.age, \"email\":self.email, \"address\":self.address}"
   ]
  },
  {
   "cell_type": "code",
   "execution_count": 103,
   "id": "4b5c1470-2288-4317-98ea-c1bed1fcbd5f",
   "metadata": {},
   "outputs": [
    {
     "name": "stdout",
     "output_type": "stream",
     "text": [
      "['홍길동', 20.0, 'kildong@hong.com', '서울시 강동구']\n",
      "['홍길서', 25.0, 'kilseo@hong.com', '서울시 강서구']\n"
     ]
    }
   ],
   "source": [
    "def as_member(dct):\n",
    "    return Member(dct['name'], dct['age'], dct['email'], dct['address'])\n",
    "import json\n",
    "with open('member.json', encoding=\"UTF-8-SIG\") as jsonfile:\n",
    "    user_list = json.load(jsonfile, object_hook=as_member)\n",
    "    for user in user_list:\n",
    "        print(user)"
   ]
  },
  {
   "cell_type": "code",
   "execution_count": 104,
   "id": "503ef877-238e-4058-9645-f1941e2b65ee",
   "metadata": {},
   "outputs": [],
   "source": [
    "import pandas as pd"
   ]
  },
  {
   "cell_type": "code",
   "execution_count": 105,
   "id": "af98a7df-35b5-48db-ad59-5162776c0c8e",
   "metadata": {},
   "outputs": [],
   "source": [
    "import seaborn as sns\n",
    "iris = sns.load_dataset(\"iris\")"
   ]
  },
  {
   "cell_type": "code",
   "execution_count": 106,
   "id": "3b2d255b-2ae2-4d96-a74c-8726a1d1cfe2",
   "metadata": {},
   "outputs": [
    {
     "data": {
      "text/plain": [
       "pandas.core.frame.DataFrame"
      ]
     },
     "execution_count": 106,
     "metadata": {},
     "output_type": "execute_result"
    }
   ],
   "source": [
    "type(iris)"
   ]
  },
  {
   "cell_type": "code",
   "execution_count": 112,
   "id": "949bf07a-7c47-42c5-97c8-13a95db61846",
   "metadata": {},
   "outputs": [
    {
     "data": {
      "text/html": [
       "<div>\n",
       "<style scoped>\n",
       "    .dataframe tbody tr th:only-of-type {\n",
       "        vertical-align: middle;\n",
       "    }\n",
       "\n",
       "    .dataframe tbody tr th {\n",
       "        vertical-align: top;\n",
       "    }\n",
       "\n",
       "    .dataframe thead th {\n",
       "        text-align: right;\n",
       "    }\n",
       "</style>\n",
       "<table border=\"1\" class=\"dataframe\">\n",
       "  <thead>\n",
       "    <tr style=\"text-align: right;\">\n",
       "      <th></th>\n",
       "      <th>sepal_length</th>\n",
       "      <th>sepal_width</th>\n",
       "      <th>petal_length</th>\n",
       "      <th>petal_width</th>\n",
       "      <th>species</th>\n",
       "    </tr>\n",
       "  </thead>\n",
       "  <tbody>\n",
       "    <tr>\n",
       "      <th>0</th>\n",
       "      <td>5.1</td>\n",
       "      <td>3.5</td>\n",
       "      <td>1.4</td>\n",
       "      <td>0.2</td>\n",
       "      <td>setosa</td>\n",
       "    </tr>\n",
       "    <tr>\n",
       "      <th>1</th>\n",
       "      <td>4.9</td>\n",
       "      <td>3.0</td>\n",
       "      <td>1.4</td>\n",
       "      <td>0.2</td>\n",
       "      <td>setosa</td>\n",
       "    </tr>\n",
       "    <tr>\n",
       "      <th>2</th>\n",
       "      <td>4.7</td>\n",
       "      <td>3.2</td>\n",
       "      <td>1.3</td>\n",
       "      <td>0.2</td>\n",
       "      <td>setosa</td>\n",
       "    </tr>\n",
       "    <tr>\n",
       "      <th>3</th>\n",
       "      <td>4.6</td>\n",
       "      <td>3.1</td>\n",
       "      <td>1.5</td>\n",
       "      <td>0.2</td>\n",
       "      <td>setosa</td>\n",
       "    </tr>\n",
       "    <tr>\n",
       "      <th>4</th>\n",
       "      <td>5.0</td>\n",
       "      <td>3.6</td>\n",
       "      <td>1.4</td>\n",
       "      <td>0.2</td>\n",
       "      <td>setosa</td>\n",
       "    </tr>\n",
       "  </tbody>\n",
       "</table>\n",
       "</div>"
      ],
      "text/plain": [
       "   sepal_length  sepal_width  petal_length  petal_width species\n",
       "0           5.1          3.5           1.4          0.2  setosa\n",
       "1           4.9          3.0           1.4          0.2  setosa\n",
       "2           4.7          3.2           1.3          0.2  setosa\n",
       "3           4.6          3.1           1.5          0.2  setosa\n",
       "4           5.0          3.6           1.4          0.2  setosa"
      ]
     },
     "execution_count": 112,
     "metadata": {},
     "output_type": "execute_result"
    }
   ],
   "source": [
    "iris.head()"
   ]
  },
  {
   "cell_type": "code",
   "execution_count": 109,
   "id": "d2f1454e-1a09-49cb-a8da-c92c01ba75c1",
   "metadata": {},
   "outputs": [],
   "source": [
    "iris.to_csv(\"iris.csv\",index=False)"
   ]
  },
  {
   "cell_type": "code",
   "execution_count": 110,
   "id": "038517e2-7020-440d-8b35-7d0ee7ec2a6d",
   "metadata": {},
   "outputs": [],
   "source": [
    "iris.to_json(\"iris.json\")"
   ]
  },
  {
   "cell_type": "code",
   "execution_count": 111,
   "id": "22a90d59-76e8-49d0-8b53-8067f2ca72a3",
   "metadata": {},
   "outputs": [],
   "source": [
    "iris.to_hdf(\"iris.h5\",key=\"iris\")"
   ]
  },
  {
   "cell_type": "code",
   "execution_count": null,
   "id": "eecfff25-a11a-4df7-9217-ce0253bba0eb",
   "metadata": {},
   "outputs": [],
   "source": []
  }
 ],
 "metadata": {
  "kernelspec": {
   "display_name": "Python 3 (ipykernel)",
   "language": "python",
   "name": "python3"
  },
  "language_info": {
   "codemirror_mode": {
    "name": "ipython",
    "version": 3
   },
   "file_extension": ".py",
   "mimetype": "text/x-python",
   "name": "python",
   "nbconvert_exporter": "python",
   "pygments_lexer": "ipython3",
   "version": "3.11.7"
  }
 },
 "nbformat": 4,
 "nbformat_minor": 5
}
