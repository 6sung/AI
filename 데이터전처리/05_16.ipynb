{
 "cells": [
  {
   "cell_type": "code",
   "execution_count": 1,
   "id": "55d35a5a-8ad0-4ec4-95d4-24863a5465a2",
   "metadata": {},
   "outputs": [],
   "source": [
    "class Person:\n",
    "    name = \"홍길동\"\n",
    "    gender = \"남자\""
   ]
  },
  {
   "cell_type": "code",
   "execution_count": 2,
   "id": "07e61133-7bbe-4b50-91bb-52a48ca7c35d",
   "metadata": {},
   "outputs": [],
   "source": [
    "p1=Person()"
   ]
  },
  {
   "cell_type": "code",
   "execution_count": 3,
   "id": "de66d486-39cb-4918-9a07-cb9319821e2e",
   "metadata": {},
   "outputs": [
    {
     "name": "stdout",
     "output_type": "stream",
     "text": [
      "홍길동\n"
     ]
    }
   ],
   "source": [
    "print(p1.name)"
   ]
  },
  {
   "cell_type": "code",
   "execution_count": 4,
   "id": "691ecb7b-0d25-44e0-a561-9a3ecac81bd3",
   "metadata": {},
   "outputs": [],
   "source": [
    "class Person:\n",
    "    def print_info():\n",
    "        print(\"Person객체입니다.\")"
   ]
  },
  {
   "cell_type": "code",
   "execution_count": 5,
   "id": "620bfb5b-3eb5-4467-8a97-5f5f41f5a7c6",
   "metadata": {},
   "outputs": [
    {
     "ename": "TypeError",
     "evalue": "Person.print_info() takes 0 positional arguments but 1 was given",
     "output_type": "error",
     "traceback": [
      "\u001b[1;31m---------------------------------------------------------------------------\u001b[0m",
      "\u001b[1;31mTypeError\u001b[0m                                 Traceback (most recent call last)",
      "Cell \u001b[1;32mIn[5], line 2\u001b[0m\n\u001b[0;32m      1\u001b[0m p1\u001b[38;5;241m=\u001b[39mPerson()\n\u001b[1;32m----> 2\u001b[0m p1\u001b[38;5;241m.\u001b[39mprint_info()\n",
      "\u001b[1;31mTypeError\u001b[0m: Person.print_info() takes 0 positional arguments but 1 was given"
     ]
    }
   ],
   "source": [
    "p1=Person()\n",
    "p1.print_info()"
   ]
  },
  {
   "cell_type": "code",
   "execution_count": 6,
   "id": "0dee2754-e0c6-4f58-92a5-dea196ef7309",
   "metadata": {},
   "outputs": [],
   "source": [
    "class Person:\n",
    "    def print_info(self):\n",
    "        print(\"Person 객체입니다.\")"
   ]
  },
  {
   "cell_type": "code",
   "execution_count": 7,
   "id": "2de4f07b-c192-4ade-84e2-65550b0da78e",
   "metadata": {},
   "outputs": [
    {
     "name": "stdout",
     "output_type": "stream",
     "text": [
      "Person 객체입니다.\n"
     ]
    }
   ],
   "source": [
    "p1=Person()\n",
    "p1.print_info()"
   ]
  },
  {
   "cell_type": "code",
   "execution_count": 8,
   "id": "aeead7b7-e181-4180-a979-46b29b4b54d7",
   "metadata": {},
   "outputs": [],
   "source": [
    "class Person:\n",
    "    name=\"홍길동\"\n",
    "    gender=\"남자\"\n",
    "\n",
    "    def print_info(self):\n",
    "        print(\"{}님은 {}입니다.\".format(name,gender))"
   ]
  },
  {
   "cell_type": "code",
   "execution_count": 9,
   "id": "652e54eb-bc5c-484c-a8a2-0d74b71b16f8",
   "metadata": {},
   "outputs": [],
   "source": [
    "p1=Person()"
   ]
  },
  {
   "cell_type": "code",
   "execution_count": 10,
   "id": "81105961-d17a-4584-b54b-0c084023ad53",
   "metadata": {},
   "outputs": [
    {
     "ename": "NameError",
     "evalue": "name 'name' is not defined",
     "output_type": "error",
     "traceback": [
      "\u001b[1;31m---------------------------------------------------------------------------\u001b[0m",
      "\u001b[1;31mNameError\u001b[0m                                 Traceback (most recent call last)",
      "Cell \u001b[1;32mIn[10], line 1\u001b[0m\n\u001b[1;32m----> 1\u001b[0m p1\u001b[38;5;241m.\u001b[39mprint_info()\n",
      "Cell \u001b[1;32mIn[8], line 6\u001b[0m, in \u001b[0;36mPerson.print_info\u001b[1;34m(self)\u001b[0m\n\u001b[0;32m      5\u001b[0m \u001b[38;5;28;01mdef\u001b[39;00m \u001b[38;5;21mprint_info\u001b[39m(\u001b[38;5;28mself\u001b[39m):\n\u001b[1;32m----> 6\u001b[0m     \u001b[38;5;28mprint\u001b[39m(\u001b[38;5;124m\"\u001b[39m\u001b[38;5;132;01m{}\u001b[39;00m\u001b[38;5;124m님은 \u001b[39m\u001b[38;5;132;01m{}\u001b[39;00m\u001b[38;5;124m입니다.\u001b[39m\u001b[38;5;124m\"\u001b[39m\u001b[38;5;241m.\u001b[39mformat(name,gender))\n",
      "\u001b[1;31mNameError\u001b[0m: name 'name' is not defined"
     ]
    }
   ],
   "source": [
    "p1.print_info()"
   ]
  },
  {
   "cell_type": "code",
   "execution_count": 11,
   "id": "8467015c-a269-43b6-8c9a-51c1b912e3e5",
   "metadata": {},
   "outputs": [],
   "source": [
    "class Person:\n",
    "    name=\"홍길동\"\n",
    "    gender=\"남자\"\n",
    "    def print_info(self):\n",
    "        print(\"{}님은 {}입니다.\".format(self.name, self.gender))"
   ]
  },
  {
   "cell_type": "code",
   "execution_count": 12,
   "id": "fa8acf8b-1146-4009-86d5-df3b650390c9",
   "metadata": {},
   "outputs": [],
   "source": [
    "p1=Person()"
   ]
  },
  {
   "cell_type": "code",
   "execution_count": 13,
   "id": "bdd7f26f-bda8-45f5-a412-6798be68300c",
   "metadata": {},
   "outputs": [
    {
     "name": "stdout",
     "output_type": "stream",
     "text": [
      "홍길동님은 남자입니다.\n"
     ]
    }
   ],
   "source": [
    "p1.print_info()"
   ]
  },
  {
   "cell_type": "code",
   "execution_count": 14,
   "id": "e9683878-91ac-4eac-a0fd-7ac279cb8d52",
   "metadata": {},
   "outputs": [],
   "source": [
    "class Person:\n",
    "    name=\"홍길동\"\n",
    "    gender=\"남자\"\n",
    "    def print_info(self):\n",
    "        print(\"{}님은 {}입니다.\".format(self.name, self.gender))"
   ]
  },
  {
   "cell_type": "code",
   "execution_count": 15,
   "id": "15ab2ba7-db02-4a7b-98eb-0d3bd80b1801",
   "metadata": {},
   "outputs": [
    {
     "name": "stdout",
     "output_type": "stream",
     "text": [
      "홍길동님은 남자입니다.\n"
     ]
    }
   ],
   "source": [
    "p1=Person()\n",
    "p1.print_info()"
   ]
  },
  {
   "cell_type": "code",
   "execution_count": 16,
   "id": "ecbbaf3b-8b89-44fd-8c8e-ac6bfb097090",
   "metadata": {},
   "outputs": [],
   "source": [
    "class Person:\n",
    "    name=\"홍길동\"\n",
    "    gender=\"남자\"\n",
    "\n",
    "    def print_info(self):\n",
    "        print(\"{}님은 {}입니다.\".format(self.name, self.gender))\n",
    "    @classmethod\n",
    "    def do_(cls):\n",
    "        print(\"이름:{}, 성별:{}\".format(cls.name, cls.gender))\n",
    "    @staticmethod\n",
    "    def that_():\n",
    "        print(\"이름은 {}이고, 성별은 {}입니다.\".format(Person.name,Person.gender));"
   ]
  },
  {
   "cell_type": "code",
   "execution_count": 18,
   "id": "f092ddbd-8852-4e3d-aa27-8a2285a25bf3",
   "metadata": {},
   "outputs": [
    {
     "name": "stdout",
     "output_type": "stream",
     "text": [
      "이름:홍길동, 성별:남자\n"
     ]
    }
   ],
   "source": [
    "Person.do_()"
   ]
  },
  {
   "cell_type": "code",
   "execution_count": 19,
   "id": "215a0037-530c-4f9f-92ed-16e9fa1c65e7",
   "metadata": {},
   "outputs": [
    {
     "name": "stdout",
     "output_type": "stream",
     "text": [
      "이름은 홍길동이고, 성별은 남자입니다.\n"
     ]
    }
   ],
   "source": [
    "Person.that_()"
   ]
  },
  {
   "cell_type": "code",
   "execution_count": 20,
   "id": "98cedbf7-46b1-4b7b-9e7f-a3cb1fcebf2c",
   "metadata": {},
   "outputs": [
    {
     "data": {
      "text/plain": [
       "'홍길동'"
      ]
     },
     "execution_count": 20,
     "metadata": {},
     "output_type": "execute_result"
    }
   ],
   "source": [
    "p1.name"
   ]
  },
  {
   "cell_type": "code",
   "execution_count": 21,
   "id": "77ec8acb-684b-4b77-8775-239c8d6af29e",
   "metadata": {},
   "outputs": [],
   "source": [
    "class Person:\n",
    "    def __init__(self, name, gender):\n",
    "        print(\"Person 객체({},{}를 생성합니다.\".format(name,gender))\n",
    "        self.name = name\n",
    "        self.gender = gender\n",
    "    def __del__(self):\n",
    "        print(\"Person 객체({},{})를 소멸시킵니다.\".format(self.name, self.gender))\n",
    "    def print_info(self):\n",
    "        print(\"{}님은 {}입니다.\".format(self.name, self.gender))"
   ]
  },
  {
   "cell_type": "code",
   "execution_count": 23,
   "id": "35853cd6-1271-44b5-b4a6-4df5758c1516",
   "metadata": {},
   "outputs": [
    {
     "name": "stdout",
     "output_type": "stream",
     "text": [
      "Person 객체(홍길서,여자를 생성합니다.\n"
     ]
    }
   ],
   "source": [
    "p1 = Person(\"홍길서\",\"여자\")"
   ]
  },
  {
   "cell_type": "code",
   "execution_count": 24,
   "id": "1cdff9d3-3321-4a87-9fb1-70c9531ab56f",
   "metadata": {},
   "outputs": [],
   "source": [
    "class Person:\n",
    "    def __init__(self, name):\n",
    "        print(\"Person 객체를 생성합니다.\")\n",
    "        self.name = name\n",
    "        self.gender = \"여자\"\n",
    "    def __init__(self, name, gender):\n",
    "        print(\"Person 객체를 생성합니다.\")\n",
    "        self.name=name\n",
    "        self.gender=gender\n",
    "    def __del__(self):\n",
    "        print(\"Person 객체를 소멸시킵니다.\")\n",
    "    def print_info(self):\n",
    "        print(\"{}님은 {}입니다.\".format(self.name,self.gender))"
   ]
  },
  {
   "cell_type": "code",
   "execution_count": 25,
   "id": "a80ef23e-75f9-4235-9c87-74cbea06f40d",
   "metadata": {},
   "outputs": [
    {
     "name": "stdout",
     "output_type": "stream",
     "text": [
      "Person 객체를 소멸시킵니다.\n"
     ]
    },
    {
     "ename": "TypeError",
     "evalue": "Person.__init__() missing 1 required positional argument: 'gender'",
     "output_type": "error",
     "traceback": [
      "\u001b[1;31m---------------------------------------------------------------------------\u001b[0m",
      "\u001b[1;31mTypeError\u001b[0m                                 Traceback (most recent call last)",
      "Cell \u001b[1;32mIn[25], line 1\u001b[0m\n\u001b[1;32m----> 1\u001b[0m p1 \u001b[38;5;241m=\u001b[39m Person(\u001b[38;5;124m\"\u001b[39m\u001b[38;5;124m홍길동\u001b[39m\u001b[38;5;124m\"\u001b[39m)\n",
      "\u001b[1;31mTypeError\u001b[0m: Person.__init__() missing 1 required positional argument: 'gender'"
     ]
    }
   ],
   "source": [
    "p1 = Person(\"홍길동\")"
   ]
  },
  {
   "cell_type": "code",
   "execution_count": 26,
   "id": "823e3be0-5666-47ab-8411-4e09922a1489",
   "metadata": {},
   "outputs": [
    {
     "name": "stdout",
     "output_type": "stream",
     "text": [
      "Person 객체를 생성합니다.\n",
      "Person 객체(홍길서,여자)를 소멸시킵니다.\n"
     ]
    }
   ],
   "source": [
    "p1 = Person(\"홍길서\",\"여자\")"
   ]
  },
  {
   "cell_type": "code",
   "execution_count": 27,
   "id": "517579ad-3e68-4357-9872-422dcd922dcc",
   "metadata": {},
   "outputs": [],
   "source": [
    "class Person:\n",
    "    pass"
   ]
  },
  {
   "cell_type": "code",
   "execution_count": 28,
   "id": "041d2715-7f8c-40d6-aa4d-a6b15e0057c1",
   "metadata": {},
   "outputs": [],
   "source": [
    "class Student(Person):\n",
    "    pass"
   ]
  },
  {
   "cell_type": "code",
   "execution_count": 29,
   "id": "1d636800-e033-4df6-a48e-680a94fbeb66",
   "metadata": {},
   "outputs": [
    {
     "data": {
      "text/plain": [
       "True"
      ]
     },
     "execution_count": 29,
     "metadata": {},
     "output_type": "execute_result"
    }
   ],
   "source": [
    "issubclass(Student, Person)"
   ]
  },
  {
   "cell_type": "code",
   "execution_count": 30,
   "id": "5e29b027-e4db-4dad-bac4-97eeb9e10d7a",
   "metadata": {},
   "outputs": [],
   "source": [
    "class Person:\n",
    "    def __init__(self, name, gender):\n",
    "        self.name = name\n",
    "        self.gender = gender\n",
    "    def __str__(self):\n",
    "        return \"name:{0}, gender:{1}\".format(self.name,self.gender)\n",
    "    def print_info(self):\n",
    "        print(\"{}님은 {}입니다.\".format(self.name, self.gender))"
   ]
  },
  {
   "cell_type": "code",
   "execution_count": 31,
   "id": "b9790a98-1832-438d-810b-5ddf7c068cb3",
   "metadata": {},
   "outputs": [],
   "source": [
    "class Student(Person):\n",
    "    def __init__(self, name, gender, major):\n",
    "        self.name = name\n",
    "        self.gender = gender\n",
    "        self.major = major\n",
    "    def __del__(self):\n",
    "        pass"
   ]
  },
  {
   "cell_type": "code",
   "execution_count": 32,
   "id": "2bc0dda7-2af4-409c-9f37-494cc3bc81ed",
   "metadata": {},
   "outputs": [],
   "source": [
    "class Student(Person):\n",
    "    def __init__(self, name, gender, major):\n",
    "        super().__init__(name, gender)\n",
    "        self.major=major"
   ]
  },
  {
   "cell_type": "code",
   "execution_count": 33,
   "id": "1c8b54d8-93ee-43aa-850f-a427037cadb2",
   "metadata": {},
   "outputs": [
    {
     "ename": "NameError",
     "evalue": "name 'self' is not defined",
     "output_type": "error",
     "traceback": [
      "\u001b[1;31m---------------------------------------------------------------------------\u001b[0m",
      "\u001b[1;31mNameError\u001b[0m                                 Traceback (most recent call last)",
      "Cell \u001b[1;32mIn[33], line 1\u001b[0m\n\u001b[1;32m----> 1\u001b[0m Person\u001b[38;5;241m.\u001b[39m\u001b[38;5;21m__init__\u001b[39m(\u001b[38;5;28mself\u001b[39m, name, gender)\n",
      "\u001b[1;31mNameError\u001b[0m: name 'self' is not defined"
     ]
    }
   ],
   "source": [
    "Person.__init__(self, name, gender)"
   ]
  },
  {
   "cell_type": "code",
   "execution_count": 34,
   "id": "e461f9ef-5086-4448-a1c4-39a009adab5c",
   "metadata": {},
   "outputs": [
    {
     "name": "stdout",
     "output_type": "stream",
     "text": [
      "홍길남님은 남자입니다.\n"
     ]
    }
   ],
   "source": [
    "s1 = Student(\"홍길남\",\"남자\",\"경제학\")\n",
    "s1.print_info()"
   ]
  },
  {
   "cell_type": "code",
   "execution_count": 35,
   "id": "0774f77a-e3f4-4623-a7c6-e33e8e990ec6",
   "metadata": {},
   "outputs": [],
   "source": [
    "class Student(Person):\n",
    "    def __init__(self, name, gender, major):\n",
    "        Person.__init__(self, name, gender)\n",
    "        self.major = major\n",
    "\n",
    "    def __del__(self):\n",
    "        pass\n",
    "    def print_info(self):\n",
    "        print(\"{}님은 {}이며, 전공은 {}입니다.\".format(self.name, self.gender, self.major))"
   ]
  },
  {
   "cell_type": "code",
   "execution_count": 36,
   "id": "d5f73b95-69f2-4d8f-a62d-656370220754",
   "metadata": {},
   "outputs": [
    {
     "name": "stdout",
     "output_type": "stream",
     "text": [
      "홍길서님은 여자이며, 전공은 컴퓨터공학입니다.\n"
     ]
    }
   ],
   "source": [
    "s2 = Student(\"홍길서\",\"여자\",\"컴퓨터공학\")\n",
    "s2.print_info()"
   ]
  },
  {
   "cell_type": "code",
   "execution_count": 37,
   "id": "5133077d-49e7-4bbc-992d-cd6bddc4738d",
   "metadata": {},
   "outputs": [
    {
     "data": {
      "text/plain": [
       "mappingproxy({'__module__': '__main__',\n",
       "              '__init__': <function __main__.Student.__init__(self, name, gender, major)>,\n",
       "              '__del__': <function __main__.Student.__del__(self)>,\n",
       "              'print_info': <function __main__.Student.print_info(self)>,\n",
       "              '__doc__': None})"
      ]
     },
     "execution_count": 37,
     "metadata": {},
     "output_type": "execute_result"
    }
   ],
   "source": [
    "Student.__dict__"
   ]
  },
  {
   "cell_type": "code",
   "execution_count": null,
   "id": "1befeff2-3276-45f1-9eb8-249f120898d8",
   "metadata": {},
   "outputs": [],
   "source": []
  }
 ],
 "metadata": {
  "kernelspec": {
   "display_name": "Python 3 (ipykernel)",
   "language": "python",
   "name": "python3"
  },
  "language_info": {
   "codemirror_mode": {
    "name": "ipython",
    "version": 3
   },
   "file_extension": ".py",
   "mimetype": "text/x-python",
   "name": "python",
   "nbconvert_exporter": "python",
   "pygments_lexer": "ipython3",
   "version": "3.11.7"
  }
 },
 "nbformat": 4,
 "nbformat_minor": 5
}
